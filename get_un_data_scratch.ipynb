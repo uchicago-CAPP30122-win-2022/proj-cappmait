{
 "cells": [
  {
   "cell_type": "code",
   "execution_count": 2,
   "metadata": {},
   "outputs": [],
   "source": [
    "import requests\n",
    "import pandas as pd\n",
    "import json\n",
    "import csv\n",
    "import time"
   ]
  },
  {
   "cell_type": "code",
   "execution_count": 3,
   "metadata": {},
   "outputs": [],
   "source": [
    "f = open('rawdata/reporterAreas.json', 'r')\n",
    "data = json.loads(f.read())\n",
    "reporters = data['results']"
   ]
  },
  {
   "cell_type": "code",
   "execution_count": null,
   "metadata": {},
   "outputs": [],
   "source": [
    "for counter, dict in enumerate(reporters):\n",
    "    if dict[\"id\"] == \"all\":\n",
    "        continue\n",
    "    r = dict[\"id\"]\n",
    "    year = 2019\n",
    "    params = {'r':r, 'px':'HS', 'ps':year, 'rg':2, 'cc':'AG2', 'max':100000}\n",
    "    url = \"https://comtrade.un.org/api/get\"\n",
    "    \n",
    "    #while times < 5:\n",
    "    resp = requests.get(url, params = params)\n",
    "    status_code = resp.status_code\n",
    "    print(dict[\"text\"] + str(status_code))\n",
    "    export = resp.json()\n",
    "    if export == \"\":\n",
    "        print(\"null df\")\n",
    "\n",
    "    # Creating csv\n",
    "    df = pd.DataFrame(export['dataset'])\n",
    "    filename = \"uncomtrade_data/\" + \"export_\" + dict[\"text\"] + \"_\" + str(year) + \".csv\"\n",
    "    df.to_csv(filename)\n",
    "    \n",
    "    # Delaying\n",
    "    time.sleep(5)\n",
    "    if (counter + 1) % 100 == 0 and (counter + 1) * 5 < 3600:\n",
    "        delay = 3601 - (counter + 1) * 5\n",
    "        time.sleep(delay)"
   ]
  }
 ],
 "metadata": {
  "interpreter": {
   "hash": "916dbcbb3f70747c44a77c7bcd40155683ae19c65e1c03b4aa3499c5328201f1"
  },
  "kernelspec": {
   "display_name": "Python 3.8.5 64-bit",
   "language": "python",
   "name": "python3"
  },
  "language_info": {
   "codemirror_mode": {
    "name": "ipython",
    "version": 3
   },
   "file_extension": ".py",
   "mimetype": "text/x-python",
   "name": "python",
   "nbconvert_exporter": "python",
   "pygments_lexer": "ipython3",
   "version": "3.8.5"
  },
  "orig_nbformat": 4
 },
 "nbformat": 4,
 "nbformat_minor": 2
}
