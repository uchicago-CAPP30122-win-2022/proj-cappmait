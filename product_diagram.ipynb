{
 "cells": [
  {
   "cell_type": "code",
   "execution_count": 2,
   "metadata": {},
   "outputs": [],
   "source": [
    "import pandas as pd\n",
    "import plotly.express as px\n",
    "import plotly.graph_objects as go"
   ]
  },
  {
   "cell_type": "code",
   "execution_count": 3,
   "metadata": {},
   "outputs": [
    {
     "data": {
      "text/html": [
       "<div>\n",
       "<style scoped>\n",
       "    .dataframe tbody tr th:only-of-type {\n",
       "        vertical-align: middle;\n",
       "    }\n",
       "\n",
       "    .dataframe tbody tr th {\n",
       "        vertical-align: top;\n",
       "    }\n",
       "\n",
       "    .dataframe thead th {\n",
       "        text-align: right;\n",
       "    }\n",
       "</style>\n",
       "<table border=\"1\" class=\"dataframe\">\n",
       "  <thead>\n",
       "    <tr style=\"text-align: right;\">\n",
       "      <th></th>\n",
       "      <th>Indicator</th>\n",
       "      <th>ReporterCode</th>\n",
       "      <th>ReporterISO3A</th>\n",
       "      <th>Reporter</th>\n",
       "      <th>ProductCode</th>\n",
       "      <th>Product</th>\n",
       "      <th>Year</th>\n",
       "      <th>Value</th>\n",
       "    </tr>\n",
       "  </thead>\n",
       "  <tbody>\n",
       "    <tr>\n",
       "      <th>0</th>\n",
       "      <td>Import</td>\n",
       "      <td>012</td>\n",
       "      <td>DZA</td>\n",
       "      <td>Algeria</td>\n",
       "      <td>AG</td>\n",
       "      <td>Agricultural products</td>\n",
       "      <td>2019</td>\n",
       "      <td>8294</td>\n",
       "    </tr>\n",
       "    <tr>\n",
       "      <th>1</th>\n",
       "      <td>Import</td>\n",
       "      <td>566</td>\n",
       "      <td>NGA</td>\n",
       "      <td>Nigeria</td>\n",
       "      <td>AG</td>\n",
       "      <td>Agricultural products</td>\n",
       "      <td>2020</td>\n",
       "      <td>8567</td>\n",
       "    </tr>\n",
       "    <tr>\n",
       "      <th>2</th>\n",
       "      <td>Import</td>\n",
       "      <td>270</td>\n",
       "      <td>GMB</td>\n",
       "      <td>The Gambia</td>\n",
       "      <td>AG</td>\n",
       "      <td>Agricultural products</td>\n",
       "      <td>2020</td>\n",
       "      <td>162</td>\n",
       "    </tr>\n",
       "    <tr>\n",
       "      <th>3</th>\n",
       "      <td>Import</td>\n",
       "      <td>356</td>\n",
       "      <td>IND</td>\n",
       "      <td>India</td>\n",
       "      <td>AG</td>\n",
       "      <td>Agricultural products</td>\n",
       "      <td>2020</td>\n",
       "      <td>26188</td>\n",
       "    </tr>\n",
       "    <tr>\n",
       "      <th>4</th>\n",
       "      <td>Import</td>\n",
       "      <td>372</td>\n",
       "      <td>IRL</td>\n",
       "      <td>Ireland</td>\n",
       "      <td>AG</td>\n",
       "      <td>Agricultural products</td>\n",
       "      <td>2020</td>\n",
       "      <td>11318</td>\n",
       "    </tr>\n",
       "  </tbody>\n",
       "</table>\n",
       "</div>"
      ],
      "text/plain": [
       "  Indicator ReporterCode ReporterISO3A    Reporter ProductCode  \\\n",
       "0    Import          012           DZA     Algeria          AG   \n",
       "1    Import          566           NGA     Nigeria          AG   \n",
       "2    Import          270           GMB  The Gambia          AG   \n",
       "3    Import          356           IND       India          AG   \n",
       "4    Import          372           IRL     Ireland          AG   \n",
       "\n",
       "                 Product  Year  Value  \n",
       "0  Agricultural products  2019   8294  \n",
       "1  Agricultural products  2020   8567  \n",
       "2  Agricultural products  2020    162  \n",
       "3  Agricultural products  2020  26188  \n",
       "4  Agricultural products  2020  11318  "
      ]
     },
     "execution_count": 3,
     "metadata": {},
     "output_type": "execute_result"
    }
   ],
   "source": [
    "product = pd.read_csv(\"rawdata/merchandise_values_annual_dataset.csv\", dtype=\"category\")\n",
    "product[\"Value\"] = pd.to_numeric(product[\"Value\"])\n",
    "product = product[product[\"ProductCode\"] != \"TO\"]\n",
    "product.head()"
   ]
  },
  {
   "cell_type": "code",
   "execution_count": 4,
   "metadata": {},
   "outputs": [
    {
     "data": {
      "text/plain": [
       "Indicator        category\n",
       "ReporterCode     category\n",
       "ReporterISO3A    category\n",
       "Reporter         category\n",
       "ProductCode      category\n",
       "Product          category\n",
       "Year             category\n",
       "Value               int64\n",
       "dtype: object"
      ]
     },
     "execution_count": 4,
     "metadata": {},
     "output_type": "execute_result"
    }
   ],
   "source": [
    "product = product[product[\"Reporter\"] == \"Norway\"]\n",
    "product.head()\n",
    "product.dtypes"
   ]
  },
  {
   "cell_type": "code",
   "execution_count": 5,
   "metadata": {},
   "outputs": [
    {
     "data": {
      "application/vnd.plotly.v1+json": {
       "config": {
        "plotlyServerURL": "https://plot.ly"
       },
       "data": [
        {
         "branchvalues": "total",
         "domain": {
          "x": [
           0,
           1
          ],
          "y": [
           0,
           1
          ]
         },
         "hovertemplate": "labels=%{label}<br>Value=%{value}<br>parent=%{parent}<br>id=%{id}<extra></extra>",
         "ids": [
          "Total/Export/2019/Agricultural products",
          "Total/Import/2019/Agricultural products",
          "Total/Export/2020/Agricultural products",
          "Total/Import/2020/Agricultural products",
          "Total/Export/2019/Automotive products",
          "Total/Import/2019/Automotive products",
          "Total/Export/2020/Automotive products",
          "Total/Import/2020/Automotive products",
          "Total/Export/2019/Chemicals",
          "Total/Import/2019/Chemicals",
          "Total/Export/2020/Chemicals",
          "Total/Import/2020/Chemicals",
          "Total/Export/2019/Clothing",
          "Total/Import/2019/Clothing",
          "Total/Export/2020/Clothing",
          "Total/Import/2020/Clothing",
          "Total/Export/2019/Electronic data processing and office equipment",
          "Total/Import/2019/Electronic data processing and office equipment",
          "Total/Export/2020/Electronic data processing and office equipment",
          "Total/Import/2020/Electronic data processing and office equipment",
          "Total/Export/2019/Food",
          "Total/Import/2019/Food",
          "Total/Export/2020/Food",
          "Total/Import/2020/Food",
          "Total/Export/2019/Fuels",
          "Total/Import/2019/Fuels",
          "Total/Export/2020/Fuels",
          "Total/Import/2020/Fuels",
          "Total/Export/2019/Fuels and mining products",
          "Total/Import/2019/Fuels and mining products",
          "Total/Export/2020/Fuels and mining products",
          "Total/Import/2020/Fuels and mining products",
          "Total/Export/2019/Integrated circuits and electronic components",
          "Total/Import/2019/Integrated circuits and electronic components",
          "Total/Export/2020/Integrated circuits and electronic components",
          "Total/Import/2020/Integrated circuits and electronic components",
          "Total/Export/2019/Iron and steel",
          "Total/Import/2019/Iron and steel",
          "Total/Export/2020/Iron and steel",
          "Total/Import/2020/Iron and steel",
          "Total/Export/2019/Machinery and transport equipment",
          "Total/Import/2019/Machinery and transport equipment",
          "Total/Export/2020/Machinery and transport equipment",
          "Total/Import/2020/Machinery and transport equipment",
          "Total/Export/2019/Manufactures",
          "Total/Import/2019/Manufactures",
          "Total/Export/2020/Manufactures",
          "Total/Import/2020/Manufactures",
          "Total/Export/2019/Office and telecom equipment",
          "Total/Import/2019/Office and telecom equipment",
          "Total/Export/2020/Office and telecom equipment",
          "Total/Import/2020/Office and telecom equipment",
          "Total/Export/2019/Pharmaceuticals",
          "Total/Import/2019/Pharmaceuticals",
          "Total/Export/2020/Pharmaceuticals",
          "Total/Import/2020/Pharmaceuticals",
          "Total/Export/2019/Telecommunications equipment",
          "Total/Import/2019/Telecommunications equipment",
          "Total/Export/2020/Telecommunications equipment",
          "Total/Import/2020/Telecommunications equipment",
          "Total/Export/2019/Textiles",
          "Total/Import/2019/Textiles",
          "Total/Export/2020/Textiles",
          "Total/Import/2020/Textiles",
          "Total/Export/2019/Total merchandise",
          "Total/Import/2019/Total merchandise",
          "Total/Export/2020/Total merchandise",
          "Total/Import/2020/Total merchandise",
          "Total/Export/2019/Transport equipment",
          "Total/Import/2019/Transport equipment",
          "Total/Export/2020/Transport equipment",
          "Total/Import/2020/Transport equipment",
          "Total/Export/2019",
          "Total/Import/2019",
          "Total/Export/2020",
          "Total/Import/2020",
          "Total/Export",
          "Total/Import",
          "Total"
         ],
         "labels": [
          "Agricultural products",
          "Agricultural products",
          "Agricultural products",
          "Agricultural products",
          "Automotive products",
          "Automotive products",
          "Automotive products",
          "Automotive products",
          "Chemicals",
          "Chemicals",
          "Chemicals",
          "Chemicals",
          "Clothing",
          "Clothing",
          "Clothing",
          "Clothing",
          "Electronic data processing and office equipment",
          "Electronic data processing and office equipment",
          "Electronic data processing and office equipment",
          "Electronic data processing and office equipment",
          "Food",
          "Food",
          "Food",
          "Food",
          "Fuels",
          "Fuels",
          "Fuels",
          "Fuels",
          "Fuels and mining products",
          "Fuels and mining products",
          "Fuels and mining products",
          "Fuels and mining products",
          "Integrated circuits and electronic components",
          "Integrated circuits and electronic components",
          "Integrated circuits and electronic components",
          "Integrated circuits and electronic components",
          "Iron and steel",
          "Iron and steel",
          "Iron and steel",
          "Iron and steel",
          "Machinery and transport equipment",
          "Machinery and transport equipment",
          "Machinery and transport equipment",
          "Machinery and transport equipment",
          "Manufactures",
          "Manufactures",
          "Manufactures",
          "Manufactures",
          "Office and telecom equipment",
          "Office and telecom equipment",
          "Office and telecom equipment",
          "Office and telecom equipment",
          "Pharmaceuticals",
          "Pharmaceuticals",
          "Pharmaceuticals",
          "Pharmaceuticals",
          "Telecommunications equipment",
          "Telecommunications equipment",
          "Telecommunications equipment",
          "Telecommunications equipment",
          "Textiles",
          "Textiles",
          "Textiles",
          "Textiles",
          "Total merchandise",
          "Total merchandise",
          "Total merchandise",
          "Total merchandise",
          "Transport equipment",
          "Transport equipment",
          "Transport equipment",
          "Transport equipment",
          "2019",
          "2019",
          "2020",
          "2020",
          "Export",
          "Import",
          "Total"
         ],
         "name": "",
         "parents": [
          "Total/Export/2019",
          "Total/Import/2019",
          "Total/Export/2020",
          "Total/Import/2020",
          "Total/Export/2019",
          "Total/Import/2019",
          "Total/Export/2020",
          "Total/Import/2020",
          "Total/Export/2019",
          "Total/Import/2019",
          "Total/Export/2020",
          "Total/Import/2020",
          "Total/Export/2019",
          "Total/Import/2019",
          "Total/Export/2020",
          "Total/Import/2020",
          "Total/Export/2019",
          "Total/Import/2019",
          "Total/Export/2020",
          "Total/Import/2020",
          "Total/Export/2019",
          "Total/Import/2019",
          "Total/Export/2020",
          "Total/Import/2020",
          "Total/Export/2019",
          "Total/Import/2019",
          "Total/Export/2020",
          "Total/Import/2020",
          "Total/Export/2019",
          "Total/Import/2019",
          "Total/Export/2020",
          "Total/Import/2020",
          "Total/Export/2019",
          "Total/Import/2019",
          "Total/Export/2020",
          "Total/Import/2020",
          "Total/Export/2019",
          "Total/Import/2019",
          "Total/Export/2020",
          "Total/Import/2020",
          "Total/Export/2019",
          "Total/Import/2019",
          "Total/Export/2020",
          "Total/Import/2020",
          "Total/Export/2019",
          "Total/Import/2019",
          "Total/Export/2020",
          "Total/Import/2020",
          "Total/Export/2019",
          "Total/Import/2019",
          "Total/Export/2020",
          "Total/Import/2020",
          "Total/Export/2019",
          "Total/Import/2019",
          "Total/Export/2020",
          "Total/Import/2020",
          "Total/Export/2019",
          "Total/Import/2019",
          "Total/Export/2020",
          "Total/Import/2020",
          "Total/Export/2019",
          "Total/Import/2019",
          "Total/Export/2020",
          "Total/Import/2020",
          "Total/Export/2019",
          "Total/Import/2019",
          "Total/Export/2020",
          "Total/Import/2020",
          "Total/Export/2019",
          "Total/Import/2019",
          "Total/Export/2020",
          "Total/Import/2020",
          "Total/Export",
          "Total/Import",
          "Total/Export",
          "Total/Import",
          "Total",
          "Total",
          ""
         ],
         "type": "treemap",
         "values": [
          13814,
          8998,
          12910,
          9670,
          933,
          9330,
          877,
          8463,
          6904,
          7884,
          6394,
          7957,
          107,
          2488,
          85,
          2442,
          543,
          2437,
          561,
          2338,
          12978,
          7958,
          12122,
          8641,
          58244,
          5705,
          40587,
          3527,
          65213,
          10630,
          47425,
          8194,
          130,
          279,
          101,
          265,
          1221,
          2185,
          1076,
          2109,
          10428,
          34328,
          8792,
          32174,
          20279,
          65384,
          18090,
          62320,
          1246,
          5807,
          1246,
          5665,
          774,
          2271,
          779,
          2414,
          574,
          3091,
          584,
          3061,
          194,
          941,
          204,
          1069,
          0,
          0,
          0,
          0,
          3080,
          13790,
          2256,
          12789,
          196662,
          183506,
          154089,
          173098,
          350751,
          356604,
          707355
         ]
        }
       ],
       "layout": {
        "legend": {
         "tracegroupgap": 0
        },
        "margin": {
         "t": 60
        },
        "template": {
         "data": {
          "bar": [
           {
            "error_x": {
             "color": "#2a3f5f"
            },
            "error_y": {
             "color": "#2a3f5f"
            },
            "marker": {
             "line": {
              "color": "#E5ECF6",
              "width": 0.5
             },
             "pattern": {
              "fillmode": "overlay",
              "size": 10,
              "solidity": 0.2
             }
            },
            "type": "bar"
           }
          ],
          "barpolar": [
           {
            "marker": {
             "line": {
              "color": "#E5ECF6",
              "width": 0.5
             },
             "pattern": {
              "fillmode": "overlay",
              "size": 10,
              "solidity": 0.2
             }
            },
            "type": "barpolar"
           }
          ],
          "carpet": [
           {
            "aaxis": {
             "endlinecolor": "#2a3f5f",
             "gridcolor": "white",
             "linecolor": "white",
             "minorgridcolor": "white",
             "startlinecolor": "#2a3f5f"
            },
            "baxis": {
             "endlinecolor": "#2a3f5f",
             "gridcolor": "white",
             "linecolor": "white",
             "minorgridcolor": "white",
             "startlinecolor": "#2a3f5f"
            },
            "type": "carpet"
           }
          ],
          "choropleth": [
           {
            "colorbar": {
             "outlinewidth": 0,
             "ticks": ""
            },
            "type": "choropleth"
           }
          ],
          "contour": [
           {
            "colorbar": {
             "outlinewidth": 0,
             "ticks": ""
            },
            "colorscale": [
             [
              0,
              "#0d0887"
             ],
             [
              0.1111111111111111,
              "#46039f"
             ],
             [
              0.2222222222222222,
              "#7201a8"
             ],
             [
              0.3333333333333333,
              "#9c179e"
             ],
             [
              0.4444444444444444,
              "#bd3786"
             ],
             [
              0.5555555555555556,
              "#d8576b"
             ],
             [
              0.6666666666666666,
              "#ed7953"
             ],
             [
              0.7777777777777778,
              "#fb9f3a"
             ],
             [
              0.8888888888888888,
              "#fdca26"
             ],
             [
              1,
              "#f0f921"
             ]
            ],
            "type": "contour"
           }
          ],
          "contourcarpet": [
           {
            "colorbar": {
             "outlinewidth": 0,
             "ticks": ""
            },
            "type": "contourcarpet"
           }
          ],
          "heatmap": [
           {
            "colorbar": {
             "outlinewidth": 0,
             "ticks": ""
            },
            "colorscale": [
             [
              0,
              "#0d0887"
             ],
             [
              0.1111111111111111,
              "#46039f"
             ],
             [
              0.2222222222222222,
              "#7201a8"
             ],
             [
              0.3333333333333333,
              "#9c179e"
             ],
             [
              0.4444444444444444,
              "#bd3786"
             ],
             [
              0.5555555555555556,
              "#d8576b"
             ],
             [
              0.6666666666666666,
              "#ed7953"
             ],
             [
              0.7777777777777778,
              "#fb9f3a"
             ],
             [
              0.8888888888888888,
              "#fdca26"
             ],
             [
              1,
              "#f0f921"
             ]
            ],
            "type": "heatmap"
           }
          ],
          "heatmapgl": [
           {
            "colorbar": {
             "outlinewidth": 0,
             "ticks": ""
            },
            "colorscale": [
             [
              0,
              "#0d0887"
             ],
             [
              0.1111111111111111,
              "#46039f"
             ],
             [
              0.2222222222222222,
              "#7201a8"
             ],
             [
              0.3333333333333333,
              "#9c179e"
             ],
             [
              0.4444444444444444,
              "#bd3786"
             ],
             [
              0.5555555555555556,
              "#d8576b"
             ],
             [
              0.6666666666666666,
              "#ed7953"
             ],
             [
              0.7777777777777778,
              "#fb9f3a"
             ],
             [
              0.8888888888888888,
              "#fdca26"
             ],
             [
              1,
              "#f0f921"
             ]
            ],
            "type": "heatmapgl"
           }
          ],
          "histogram": [
           {
            "marker": {
             "pattern": {
              "fillmode": "overlay",
              "size": 10,
              "solidity": 0.2
             }
            },
            "type": "histogram"
           }
          ],
          "histogram2d": [
           {
            "colorbar": {
             "outlinewidth": 0,
             "ticks": ""
            },
            "colorscale": [
             [
              0,
              "#0d0887"
             ],
             [
              0.1111111111111111,
              "#46039f"
             ],
             [
              0.2222222222222222,
              "#7201a8"
             ],
             [
              0.3333333333333333,
              "#9c179e"
             ],
             [
              0.4444444444444444,
              "#bd3786"
             ],
             [
              0.5555555555555556,
              "#d8576b"
             ],
             [
              0.6666666666666666,
              "#ed7953"
             ],
             [
              0.7777777777777778,
              "#fb9f3a"
             ],
             [
              0.8888888888888888,
              "#fdca26"
             ],
             [
              1,
              "#f0f921"
             ]
            ],
            "type": "histogram2d"
           }
          ],
          "histogram2dcontour": [
           {
            "colorbar": {
             "outlinewidth": 0,
             "ticks": ""
            },
            "colorscale": [
             [
              0,
              "#0d0887"
             ],
             [
              0.1111111111111111,
              "#46039f"
             ],
             [
              0.2222222222222222,
              "#7201a8"
             ],
             [
              0.3333333333333333,
              "#9c179e"
             ],
             [
              0.4444444444444444,
              "#bd3786"
             ],
             [
              0.5555555555555556,
              "#d8576b"
             ],
             [
              0.6666666666666666,
              "#ed7953"
             ],
             [
              0.7777777777777778,
              "#fb9f3a"
             ],
             [
              0.8888888888888888,
              "#fdca26"
             ],
             [
              1,
              "#f0f921"
             ]
            ],
            "type": "histogram2dcontour"
           }
          ],
          "mesh3d": [
           {
            "colorbar": {
             "outlinewidth": 0,
             "ticks": ""
            },
            "type": "mesh3d"
           }
          ],
          "parcoords": [
           {
            "line": {
             "colorbar": {
              "outlinewidth": 0,
              "ticks": ""
             }
            },
            "type": "parcoords"
           }
          ],
          "pie": [
           {
            "automargin": true,
            "type": "pie"
           }
          ],
          "scatter": [
           {
            "marker": {
             "colorbar": {
              "outlinewidth": 0,
              "ticks": ""
             }
            },
            "type": "scatter"
           }
          ],
          "scatter3d": [
           {
            "line": {
             "colorbar": {
              "outlinewidth": 0,
              "ticks": ""
             }
            },
            "marker": {
             "colorbar": {
              "outlinewidth": 0,
              "ticks": ""
             }
            },
            "type": "scatter3d"
           }
          ],
          "scattercarpet": [
           {
            "marker": {
             "colorbar": {
              "outlinewidth": 0,
              "ticks": ""
             }
            },
            "type": "scattercarpet"
           }
          ],
          "scattergeo": [
           {
            "marker": {
             "colorbar": {
              "outlinewidth": 0,
              "ticks": ""
             }
            },
            "type": "scattergeo"
           }
          ],
          "scattergl": [
           {
            "marker": {
             "colorbar": {
              "outlinewidth": 0,
              "ticks": ""
             }
            },
            "type": "scattergl"
           }
          ],
          "scattermapbox": [
           {
            "marker": {
             "colorbar": {
              "outlinewidth": 0,
              "ticks": ""
             }
            },
            "type": "scattermapbox"
           }
          ],
          "scatterpolar": [
           {
            "marker": {
             "colorbar": {
              "outlinewidth": 0,
              "ticks": ""
             }
            },
            "type": "scatterpolar"
           }
          ],
          "scatterpolargl": [
           {
            "marker": {
             "colorbar": {
              "outlinewidth": 0,
              "ticks": ""
             }
            },
            "type": "scatterpolargl"
           }
          ],
          "scatterternary": [
           {
            "marker": {
             "colorbar": {
              "outlinewidth": 0,
              "ticks": ""
             }
            },
            "type": "scatterternary"
           }
          ],
          "surface": [
           {
            "colorbar": {
             "outlinewidth": 0,
             "ticks": ""
            },
            "colorscale": [
             [
              0,
              "#0d0887"
             ],
             [
              0.1111111111111111,
              "#46039f"
             ],
             [
              0.2222222222222222,
              "#7201a8"
             ],
             [
              0.3333333333333333,
              "#9c179e"
             ],
             [
              0.4444444444444444,
              "#bd3786"
             ],
             [
              0.5555555555555556,
              "#d8576b"
             ],
             [
              0.6666666666666666,
              "#ed7953"
             ],
             [
              0.7777777777777778,
              "#fb9f3a"
             ],
             [
              0.8888888888888888,
              "#fdca26"
             ],
             [
              1,
              "#f0f921"
             ]
            ],
            "type": "surface"
           }
          ],
          "table": [
           {
            "cells": {
             "fill": {
              "color": "#EBF0F8"
             },
             "line": {
              "color": "white"
             }
            },
            "header": {
             "fill": {
              "color": "#C8D4E3"
             },
             "line": {
              "color": "white"
             }
            },
            "type": "table"
           }
          ]
         },
         "layout": {
          "annotationdefaults": {
           "arrowcolor": "#2a3f5f",
           "arrowhead": 0,
           "arrowwidth": 1
          },
          "autotypenumbers": "strict",
          "coloraxis": {
           "colorbar": {
            "outlinewidth": 0,
            "ticks": ""
           }
          },
          "colorscale": {
           "diverging": [
            [
             0,
             "#8e0152"
            ],
            [
             0.1,
             "#c51b7d"
            ],
            [
             0.2,
             "#de77ae"
            ],
            [
             0.3,
             "#f1b6da"
            ],
            [
             0.4,
             "#fde0ef"
            ],
            [
             0.5,
             "#f7f7f7"
            ],
            [
             0.6,
             "#e6f5d0"
            ],
            [
             0.7,
             "#b8e186"
            ],
            [
             0.8,
             "#7fbc41"
            ],
            [
             0.9,
             "#4d9221"
            ],
            [
             1,
             "#276419"
            ]
           ],
           "sequential": [
            [
             0,
             "#0d0887"
            ],
            [
             0.1111111111111111,
             "#46039f"
            ],
            [
             0.2222222222222222,
             "#7201a8"
            ],
            [
             0.3333333333333333,
             "#9c179e"
            ],
            [
             0.4444444444444444,
             "#bd3786"
            ],
            [
             0.5555555555555556,
             "#d8576b"
            ],
            [
             0.6666666666666666,
             "#ed7953"
            ],
            [
             0.7777777777777778,
             "#fb9f3a"
            ],
            [
             0.8888888888888888,
             "#fdca26"
            ],
            [
             1,
             "#f0f921"
            ]
           ],
           "sequentialminus": [
            [
             0,
             "#0d0887"
            ],
            [
             0.1111111111111111,
             "#46039f"
            ],
            [
             0.2222222222222222,
             "#7201a8"
            ],
            [
             0.3333333333333333,
             "#9c179e"
            ],
            [
             0.4444444444444444,
             "#bd3786"
            ],
            [
             0.5555555555555556,
             "#d8576b"
            ],
            [
             0.6666666666666666,
             "#ed7953"
            ],
            [
             0.7777777777777778,
             "#fb9f3a"
            ],
            [
             0.8888888888888888,
             "#fdca26"
            ],
            [
             1,
             "#f0f921"
            ]
           ]
          },
          "colorway": [
           "#636efa",
           "#EF553B",
           "#00cc96",
           "#ab63fa",
           "#FFA15A",
           "#19d3f3",
           "#FF6692",
           "#B6E880",
           "#FF97FF",
           "#FECB52"
          ],
          "font": {
           "color": "#2a3f5f"
          },
          "geo": {
           "bgcolor": "white",
           "lakecolor": "white",
           "landcolor": "#E5ECF6",
           "showlakes": true,
           "showland": true,
           "subunitcolor": "white"
          },
          "hoverlabel": {
           "align": "left"
          },
          "hovermode": "closest",
          "mapbox": {
           "style": "light"
          },
          "paper_bgcolor": "white",
          "plot_bgcolor": "#E5ECF6",
          "polar": {
           "angularaxis": {
            "gridcolor": "white",
            "linecolor": "white",
            "ticks": ""
           },
           "bgcolor": "#E5ECF6",
           "radialaxis": {
            "gridcolor": "white",
            "linecolor": "white",
            "ticks": ""
           }
          },
          "scene": {
           "xaxis": {
            "backgroundcolor": "#E5ECF6",
            "gridcolor": "white",
            "gridwidth": 2,
            "linecolor": "white",
            "showbackground": true,
            "ticks": "",
            "zerolinecolor": "white"
           },
           "yaxis": {
            "backgroundcolor": "#E5ECF6",
            "gridcolor": "white",
            "gridwidth": 2,
            "linecolor": "white",
            "showbackground": true,
            "ticks": "",
            "zerolinecolor": "white"
           },
           "zaxis": {
            "backgroundcolor": "#E5ECF6",
            "gridcolor": "white",
            "gridwidth": 2,
            "linecolor": "white",
            "showbackground": true,
            "ticks": "",
            "zerolinecolor": "white"
           }
          },
          "shapedefaults": {
           "line": {
            "color": "#2a3f5f"
           }
          },
          "ternary": {
           "aaxis": {
            "gridcolor": "white",
            "linecolor": "white",
            "ticks": ""
           },
           "baxis": {
            "gridcolor": "white",
            "linecolor": "white",
            "ticks": ""
           },
           "bgcolor": "#E5ECF6",
           "caxis": {
            "gridcolor": "white",
            "linecolor": "white",
            "ticks": ""
           }
          },
          "title": {
           "x": 0.05
          },
          "xaxis": {
           "automargin": true,
           "gridcolor": "white",
           "linecolor": "white",
           "ticks": "",
           "title": {
            "standoff": 15
           },
           "zerolinecolor": "white",
           "zerolinewidth": 2
          },
          "yaxis": {
           "automargin": true,
           "gridcolor": "white",
           "linecolor": "white",
           "ticks": "",
           "title": {
            "standoff": 15
           },
           "zerolinecolor": "white",
           "zerolinewidth": 2
          }
         }
        }
       }
      }
     },
     "metadata": {},
     "output_type": "display_data"
    }
   ],
   "source": [
    "fig = px.treemap(product, path=[px.Constant(\"Total\"), \"Indicator\", \"Year\", \"Product\"], values=\"Value\")\n",
    "fig.show()"
   ]
  },
  {
   "cell_type": "code",
   "execution_count": 6,
   "metadata": {},
   "outputs": [
    {
     "data": {
      "text/html": [
       "<div>\n",
       "<style scoped>\n",
       "    .dataframe tbody tr th:only-of-type {\n",
       "        vertical-align: middle;\n",
       "    }\n",
       "\n",
       "    .dataframe tbody tr th {\n",
       "        vertical-align: top;\n",
       "    }\n",
       "\n",
       "    .dataframe thead tr th {\n",
       "        text-align: left;\n",
       "    }\n",
       "</style>\n",
       "<table border=\"1\" class=\"dataframe\">\n",
       "  <thead>\n",
       "    <tr>\n",
       "      <th>Indicator</th>\n",
       "      <th>ReporterISO3A</th>\n",
       "      <th>Reporter</th>\n",
       "      <th>ProductCode</th>\n",
       "      <th>Product</th>\n",
       "      <th colspan=\"2\" halign=\"left\">Import</th>\n",
       "      <th colspan=\"2\" halign=\"left\">Export</th>\n",
       "      <th>Import change</th>\n",
       "      <th>Export change</th>\n",
       "      <th>Total 2019</th>\n",
       "      <th>Total 2020</th>\n",
       "      <th>Volume ave</th>\n",
       "    </tr>\n",
       "    <tr>\n",
       "      <th>Year</th>\n",
       "      <th></th>\n",
       "      <th></th>\n",
       "      <th></th>\n",
       "      <th></th>\n",
       "      <th>2020</th>\n",
       "      <th>2019</th>\n",
       "      <th>2020</th>\n",
       "      <th>2019</th>\n",
       "      <th></th>\n",
       "      <th></th>\n",
       "      <th></th>\n",
       "      <th></th>\n",
       "      <th></th>\n",
       "    </tr>\n",
       "  </thead>\n",
       "  <tbody>\n",
       "    <tr>\n",
       "      <th>0</th>\n",
       "      <td>NOR</td>\n",
       "      <td>Norway</td>\n",
       "      <td>AG</td>\n",
       "      <td>Agricultural products</td>\n",
       "      <td>9670</td>\n",
       "      <td>8998</td>\n",
       "      <td>12910</td>\n",
       "      <td>13814</td>\n",
       "      <td>672</td>\n",
       "      <td>-904</td>\n",
       "      <td>22580</td>\n",
       "      <td>22812</td>\n",
       "      <td>11290.0</td>\n",
       "    </tr>\n",
       "    <tr>\n",
       "      <th>1</th>\n",
       "      <td>NOR</td>\n",
       "      <td>Norway</td>\n",
       "      <td>AGFO</td>\n",
       "      <td>Food</td>\n",
       "      <td>8641</td>\n",
       "      <td>7958</td>\n",
       "      <td>12122</td>\n",
       "      <td>12978</td>\n",
       "      <td>683</td>\n",
       "      <td>-856</td>\n",
       "      <td>20763</td>\n",
       "      <td>20936</td>\n",
       "      <td>10381.5</td>\n",
       "    </tr>\n",
       "    <tr>\n",
       "      <th>2</th>\n",
       "      <td>NOR</td>\n",
       "      <td>Norway</td>\n",
       "      <td>MA</td>\n",
       "      <td>Manufactures</td>\n",
       "      <td>62320</td>\n",
       "      <td>65384</td>\n",
       "      <td>18090</td>\n",
       "      <td>20279</td>\n",
       "      <td>-3064</td>\n",
       "      <td>-2189</td>\n",
       "      <td>80410</td>\n",
       "      <td>85663</td>\n",
       "      <td>40205.0</td>\n",
       "    </tr>\n",
       "    <tr>\n",
       "      <th>3</th>\n",
       "      <td>NOR</td>\n",
       "      <td>Norway</td>\n",
       "      <td>MACH</td>\n",
       "      <td>Chemicals</td>\n",
       "      <td>7957</td>\n",
       "      <td>7884</td>\n",
       "      <td>6394</td>\n",
       "      <td>6904</td>\n",
       "      <td>73</td>\n",
       "      <td>-510</td>\n",
       "      <td>14351</td>\n",
       "      <td>14788</td>\n",
       "      <td>7175.5</td>\n",
       "    </tr>\n",
       "    <tr>\n",
       "      <th>4</th>\n",
       "      <td>NOR</td>\n",
       "      <td>Norway</td>\n",
       "      <td>MACHPH</td>\n",
       "      <td>Pharmaceuticals</td>\n",
       "      <td>2414</td>\n",
       "      <td>2271</td>\n",
       "      <td>779</td>\n",
       "      <td>774</td>\n",
       "      <td>143</td>\n",
       "      <td>5</td>\n",
       "      <td>3193</td>\n",
       "      <td>3045</td>\n",
       "      <td>1596.5</td>\n",
       "    </tr>\n",
       "    <tr>\n",
       "      <th>5</th>\n",
       "      <td>NOR</td>\n",
       "      <td>Norway</td>\n",
       "      <td>MACL</td>\n",
       "      <td>Clothing</td>\n",
       "      <td>2442</td>\n",
       "      <td>2488</td>\n",
       "      <td>85</td>\n",
       "      <td>107</td>\n",
       "      <td>-46</td>\n",
       "      <td>-22</td>\n",
       "      <td>2527</td>\n",
       "      <td>2595</td>\n",
       "      <td>1263.5</td>\n",
       "    </tr>\n",
       "    <tr>\n",
       "      <th>6</th>\n",
       "      <td>NOR</td>\n",
       "      <td>Norway</td>\n",
       "      <td>MAIS</td>\n",
       "      <td>Iron and steel</td>\n",
       "      <td>2109</td>\n",
       "      <td>2185</td>\n",
       "      <td>1076</td>\n",
       "      <td>1221</td>\n",
       "      <td>-76</td>\n",
       "      <td>-145</td>\n",
       "      <td>3185</td>\n",
       "      <td>3406</td>\n",
       "      <td>1592.5</td>\n",
       "    </tr>\n",
       "    <tr>\n",
       "      <th>7</th>\n",
       "      <td>NOR</td>\n",
       "      <td>Norway</td>\n",
       "      <td>MAMT</td>\n",
       "      <td>Machinery and transport equipment</td>\n",
       "      <td>32174</td>\n",
       "      <td>34328</td>\n",
       "      <td>8792</td>\n",
       "      <td>10428</td>\n",
       "      <td>-2154</td>\n",
       "      <td>-1636</td>\n",
       "      <td>40966</td>\n",
       "      <td>44756</td>\n",
       "      <td>20483.0</td>\n",
       "    </tr>\n",
       "    <tr>\n",
       "      <th>8</th>\n",
       "      <td>NOR</td>\n",
       "      <td>Norway</td>\n",
       "      <td>MAMTAU</td>\n",
       "      <td>Automotive products</td>\n",
       "      <td>8463</td>\n",
       "      <td>9330</td>\n",
       "      <td>877</td>\n",
       "      <td>933</td>\n",
       "      <td>-867</td>\n",
       "      <td>-56</td>\n",
       "      <td>9340</td>\n",
       "      <td>10263</td>\n",
       "      <td>4670.0</td>\n",
       "    </tr>\n",
       "    <tr>\n",
       "      <th>9</th>\n",
       "      <td>NOR</td>\n",
       "      <td>Norway</td>\n",
       "      <td>MAMTOF</td>\n",
       "      <td>Office and telecom equipment</td>\n",
       "      <td>5665</td>\n",
       "      <td>5807</td>\n",
       "      <td>1246</td>\n",
       "      <td>1246</td>\n",
       "      <td>-142</td>\n",
       "      <td>0</td>\n",
       "      <td>6911</td>\n",
       "      <td>7053</td>\n",
       "      <td>3455.5</td>\n",
       "    </tr>\n",
       "    <tr>\n",
       "      <th>10</th>\n",
       "      <td>NOR</td>\n",
       "      <td>Norway</td>\n",
       "      <td>MAMTOTEP</td>\n",
       "      <td>Electronic data processing and office equipment</td>\n",
       "      <td>2338</td>\n",
       "      <td>2437</td>\n",
       "      <td>561</td>\n",
       "      <td>543</td>\n",
       "      <td>-99</td>\n",
       "      <td>18</td>\n",
       "      <td>2899</td>\n",
       "      <td>2980</td>\n",
       "      <td>1449.5</td>\n",
       "    </tr>\n",
       "    <tr>\n",
       "      <th>11</th>\n",
       "      <td>NOR</td>\n",
       "      <td>Norway</td>\n",
       "      <td>MAMTOTIC</td>\n",
       "      <td>Integrated circuits and electronic components</td>\n",
       "      <td>265</td>\n",
       "      <td>279</td>\n",
       "      <td>101</td>\n",
       "      <td>130</td>\n",
       "      <td>-14</td>\n",
       "      <td>-29</td>\n",
       "      <td>366</td>\n",
       "      <td>409</td>\n",
       "      <td>183.0</td>\n",
       "    </tr>\n",
       "    <tr>\n",
       "      <th>12</th>\n",
       "      <td>NOR</td>\n",
       "      <td>Norway</td>\n",
       "      <td>MAMTOTTL</td>\n",
       "      <td>Telecommunications equipment</td>\n",
       "      <td>3061</td>\n",
       "      <td>3091</td>\n",
       "      <td>584</td>\n",
       "      <td>574</td>\n",
       "      <td>-30</td>\n",
       "      <td>10</td>\n",
       "      <td>3645</td>\n",
       "      <td>3665</td>\n",
       "      <td>1822.5</td>\n",
       "    </tr>\n",
       "    <tr>\n",
       "      <th>13</th>\n",
       "      <td>NOR</td>\n",
       "      <td>Norway</td>\n",
       "      <td>MAMTTE</td>\n",
       "      <td>Transport equipment</td>\n",
       "      <td>12789</td>\n",
       "      <td>13790</td>\n",
       "      <td>2256</td>\n",
       "      <td>3080</td>\n",
       "      <td>-1001</td>\n",
       "      <td>-824</td>\n",
       "      <td>15045</td>\n",
       "      <td>16870</td>\n",
       "      <td>7522.5</td>\n",
       "    </tr>\n",
       "    <tr>\n",
       "      <th>14</th>\n",
       "      <td>NOR</td>\n",
       "      <td>Norway</td>\n",
       "      <td>MATE</td>\n",
       "      <td>Textiles</td>\n",
       "      <td>1069</td>\n",
       "      <td>941</td>\n",
       "      <td>204</td>\n",
       "      <td>194</td>\n",
       "      <td>128</td>\n",
       "      <td>10</td>\n",
       "      <td>1273</td>\n",
       "      <td>1135</td>\n",
       "      <td>636.5</td>\n",
       "    </tr>\n",
       "    <tr>\n",
       "      <th>15</th>\n",
       "      <td>NOR</td>\n",
       "      <td>Norway</td>\n",
       "      <td>MI</td>\n",
       "      <td>Fuels and mining products</td>\n",
       "      <td>8194</td>\n",
       "      <td>10630</td>\n",
       "      <td>47425</td>\n",
       "      <td>65213</td>\n",
       "      <td>-2436</td>\n",
       "      <td>-17788</td>\n",
       "      <td>55619</td>\n",
       "      <td>75843</td>\n",
       "      <td>27809.5</td>\n",
       "    </tr>\n",
       "    <tr>\n",
       "      <th>16</th>\n",
       "      <td>NOR</td>\n",
       "      <td>Norway</td>\n",
       "      <td>MIFU</td>\n",
       "      <td>Fuels</td>\n",
       "      <td>3527</td>\n",
       "      <td>5705</td>\n",
       "      <td>40587</td>\n",
       "      <td>58244</td>\n",
       "      <td>-2178</td>\n",
       "      <td>-17657</td>\n",
       "      <td>44114</td>\n",
       "      <td>63949</td>\n",
       "      <td>22057.0</td>\n",
       "    </tr>\n",
       "  </tbody>\n",
       "</table>\n",
       "</div>"
      ],
      "text/plain": [
       "Indicator ReporterISO3A Reporter ProductCode  \\\n",
       "Year                                           \n",
       "0                   NOR   Norway          AG   \n",
       "1                   NOR   Norway        AGFO   \n",
       "2                   NOR   Norway          MA   \n",
       "3                   NOR   Norway        MACH   \n",
       "4                   NOR   Norway      MACHPH   \n",
       "5                   NOR   Norway        MACL   \n",
       "6                   NOR   Norway        MAIS   \n",
       "7                   NOR   Norway        MAMT   \n",
       "8                   NOR   Norway      MAMTAU   \n",
       "9                   NOR   Norway      MAMTOF   \n",
       "10                  NOR   Norway    MAMTOTEP   \n",
       "11                  NOR   Norway    MAMTOTIC   \n",
       "12                  NOR   Norway    MAMTOTTL   \n",
       "13                  NOR   Norway      MAMTTE   \n",
       "14                  NOR   Norway        MATE   \n",
       "15                  NOR   Norway          MI   \n",
       "16                  NOR   Norway        MIFU   \n",
       "\n",
       "Indicator                                          Product Import         \\\n",
       "Year                                                         2020   2019   \n",
       "0                                    Agricultural products   9670   8998   \n",
       "1                                                     Food   8641   7958   \n",
       "2                                             Manufactures  62320  65384   \n",
       "3                                                Chemicals   7957   7884   \n",
       "4                                          Pharmaceuticals   2414   2271   \n",
       "5                                                 Clothing   2442   2488   \n",
       "6                                           Iron and steel   2109   2185   \n",
       "7                        Machinery and transport equipment  32174  34328   \n",
       "8                                      Automotive products   8463   9330   \n",
       "9                             Office and telecom equipment   5665   5807   \n",
       "10         Electronic data processing and office equipment   2338   2437   \n",
       "11           Integrated circuits and electronic components    265    279   \n",
       "12                            Telecommunications equipment   3061   3091   \n",
       "13                                     Transport equipment  12789  13790   \n",
       "14                                                Textiles   1069    941   \n",
       "15                               Fuels and mining products   8194  10630   \n",
       "16                                                   Fuels   3527   5705   \n",
       "\n",
       "Indicator Export        Import change Export change Total 2019 Total 2020  \\\n",
       "Year        2020   2019                                                     \n",
       "0          12910  13814           672          -904      22580      22812   \n",
       "1          12122  12978           683          -856      20763      20936   \n",
       "2          18090  20279         -3064         -2189      80410      85663   \n",
       "3           6394   6904            73          -510      14351      14788   \n",
       "4            779    774           143             5       3193       3045   \n",
       "5             85    107           -46           -22       2527       2595   \n",
       "6           1076   1221           -76          -145       3185       3406   \n",
       "7           8792  10428         -2154         -1636      40966      44756   \n",
       "8            877    933          -867           -56       9340      10263   \n",
       "9           1246   1246          -142             0       6911       7053   \n",
       "10           561    543           -99            18       2899       2980   \n",
       "11           101    130           -14           -29        366        409   \n",
       "12           584    574           -30            10       3645       3665   \n",
       "13          2256   3080         -1001          -824      15045      16870   \n",
       "14           204    194           128            10       1273       1135   \n",
       "15         47425  65213         -2436        -17788      55619      75843   \n",
       "16         40587  58244         -2178        -17657      44114      63949   \n",
       "\n",
       "Indicator Volume ave  \n",
       "Year                  \n",
       "0            11290.0  \n",
       "1            10381.5  \n",
       "2            40205.0  \n",
       "3             7175.5  \n",
       "4             1596.5  \n",
       "5             1263.5  \n",
       "6             1592.5  \n",
       "7            20483.0  \n",
       "8             4670.0  \n",
       "9             3455.5  \n",
       "10            1449.5  \n",
       "11             183.0  \n",
       "12            1822.5  \n",
       "13            7522.5  \n",
       "14             636.5  \n",
       "15           27809.5  \n",
       "16           22057.0  "
      ]
     },
     "execution_count": 6,
     "metadata": {},
     "output_type": "execute_result"
    }
   ],
   "source": [
    "product_new = product.pivot(index=[\"ReporterISO3A\", \"Reporter\", \"ProductCode\", \"Product\"], values=\"Value\", columns=[\"Indicator\", \"Year\"]).reset_index()\n",
    "product_new[\"Import change\"] = (product_new[\"Import\"][\"2020\"] - product_new[\"Import\"][\"2019\"])\n",
    "product_new[\"Export change\"] = (product_new[\"Export\"][\"2020\"] - product_new[\"Export\"][\"2019\"])\n",
    "# product_new[\"Import change\"] = (product_new[\"Import\"][\"2020\"] - product_new[\"Import\"][\"2019\"])/product_new[\"Import\"][\"2019\"]*100\n",
    "# product_new[\"Export change\"] = (product_new[\"Export\"][\"2020\"] - product_new[\"Export\"][\"2019\"])/product_new[\"Export\"][\"2019\"]*100\n",
    "product_new[\"Total 2019\"] = (product_new[\"Import\"][\"2020\"] + product_new[\"Export\"][\"2020\"])\n",
    "product_new[\"Total 2020\"] = (product_new[\"Import\"][\"2019\"] + product_new[\"Export\"][\"2019\"])\n",
    "product_new[\"Volume ave\"] = (product_new[\"Import\"][\"2020\"] + product_new[\"Export\"][\"2020\"])/2\n",
    "product_new"
   ]
  },
  {
   "cell_type": "code",
   "execution_count": 7,
   "metadata": {},
   "outputs": [
    {
     "data": {
      "application/vnd.plotly.v1+json": {
       "config": {
        "plotlyServerURL": "https://plot.ly"
       },
       "data": [
        {
         "hovertemplate": "Product=Agricultural products<br>Export change=%{x}<br>Import change=%{y}<br>Volume ave=%{marker.size}<extra></extra>",
         "legendgroup": "Agricultural products",
         "marker": {
          "color": "#636efa",
          "size": [
           11290
          ],
          "sizemode": "area",
          "sizeref": 100.5125,
          "symbol": "circle"
         },
         "mode": "markers",
         "name": "Agricultural products",
         "orientation": "v",
         "showlegend": true,
         "textposition": "top center",
         "type": "scatter",
         "x": [
          -904
         ],
         "xaxis": "x",
         "y": [
          672
         ],
         "yaxis": "y"
        },
        {
         "hovertemplate": "Product=Food<br>Export change=%{x}<br>Import change=%{y}<br>Volume ave=%{marker.size}<extra></extra>",
         "legendgroup": "Food",
         "marker": {
          "color": "#EF553B",
          "size": [
           10381.5
          ],
          "sizemode": "area",
          "sizeref": 100.5125,
          "symbol": "circle"
         },
         "mode": "markers",
         "name": "Food",
         "orientation": "v",
         "showlegend": true,
         "textposition": "top center",
         "type": "scatter",
         "x": [
          -856
         ],
         "xaxis": "x",
         "y": [
          683
         ],
         "yaxis": "y"
        },
        {
         "hovertemplate": "Product=Manufactures<br>Export change=%{x}<br>Import change=%{y}<br>Volume ave=%{marker.size}<extra></extra>",
         "legendgroup": "Manufactures",
         "marker": {
          "color": "#00cc96",
          "size": [
           40205
          ],
          "sizemode": "area",
          "sizeref": 100.5125,
          "symbol": "circle"
         },
         "mode": "markers",
         "name": "Manufactures",
         "orientation": "v",
         "showlegend": true,
         "textposition": "top center",
         "type": "scatter",
         "x": [
          -2189
         ],
         "xaxis": "x",
         "y": [
          -3064
         ],
         "yaxis": "y"
        },
        {
         "hovertemplate": "Product=Chemicals<br>Export change=%{x}<br>Import change=%{y}<br>Volume ave=%{marker.size}<extra></extra>",
         "legendgroup": "Chemicals",
         "marker": {
          "color": "#ab63fa",
          "size": [
           7175.5
          ],
          "sizemode": "area",
          "sizeref": 100.5125,
          "symbol": "circle"
         },
         "mode": "markers",
         "name": "Chemicals",
         "orientation": "v",
         "showlegend": true,
         "textposition": "top center",
         "type": "scatter",
         "x": [
          -510
         ],
         "xaxis": "x",
         "y": [
          73
         ],
         "yaxis": "y"
        },
        {
         "hovertemplate": "Product=Pharmaceuticals<br>Export change=%{x}<br>Import change=%{y}<br>Volume ave=%{marker.size}<extra></extra>",
         "legendgroup": "Pharmaceuticals",
         "marker": {
          "color": "#FFA15A",
          "size": [
           1596.5
          ],
          "sizemode": "area",
          "sizeref": 100.5125,
          "symbol": "circle"
         },
         "mode": "markers",
         "name": "Pharmaceuticals",
         "orientation": "v",
         "showlegend": true,
         "textposition": "top center",
         "type": "scatter",
         "x": [
          5
         ],
         "xaxis": "x",
         "y": [
          143
         ],
         "yaxis": "y"
        },
        {
         "hovertemplate": "Product=Clothing<br>Export change=%{x}<br>Import change=%{y}<br>Volume ave=%{marker.size}<extra></extra>",
         "legendgroup": "Clothing",
         "marker": {
          "color": "#19d3f3",
          "size": [
           1263.5
          ],
          "sizemode": "area",
          "sizeref": 100.5125,
          "symbol": "circle"
         },
         "mode": "markers",
         "name": "Clothing",
         "orientation": "v",
         "showlegend": true,
         "textposition": "top center",
         "type": "scatter",
         "x": [
          -22
         ],
         "xaxis": "x",
         "y": [
          -46
         ],
         "yaxis": "y"
        },
        {
         "hovertemplate": "Product=Iron and steel<br>Export change=%{x}<br>Import change=%{y}<br>Volume ave=%{marker.size}<extra></extra>",
         "legendgroup": "Iron and steel",
         "marker": {
          "color": "#FF6692",
          "size": [
           1592.5
          ],
          "sizemode": "area",
          "sizeref": 100.5125,
          "symbol": "circle"
         },
         "mode": "markers",
         "name": "Iron and steel",
         "orientation": "v",
         "showlegend": true,
         "textposition": "top center",
         "type": "scatter",
         "x": [
          -145
         ],
         "xaxis": "x",
         "y": [
          -76
         ],
         "yaxis": "y"
        },
        {
         "hovertemplate": "Product=Machinery and transport equipment<br>Export change=%{x}<br>Import change=%{y}<br>Volume ave=%{marker.size}<extra></extra>",
         "legendgroup": "Machinery and transport equipment",
         "marker": {
          "color": "#B6E880",
          "size": [
           20483
          ],
          "sizemode": "area",
          "sizeref": 100.5125,
          "symbol": "circle"
         },
         "mode": "markers",
         "name": "Machinery and transport equipment",
         "orientation": "v",
         "showlegend": true,
         "textposition": "top center",
         "type": "scatter",
         "x": [
          -1636
         ],
         "xaxis": "x",
         "y": [
          -2154
         ],
         "yaxis": "y"
        },
        {
         "hovertemplate": "Product=Automotive products<br>Export change=%{x}<br>Import change=%{y}<br>Volume ave=%{marker.size}<extra></extra>",
         "legendgroup": "Automotive products",
         "marker": {
          "color": "#FF97FF",
          "size": [
           4670
          ],
          "sizemode": "area",
          "sizeref": 100.5125,
          "symbol": "circle"
         },
         "mode": "markers",
         "name": "Automotive products",
         "orientation": "v",
         "showlegend": true,
         "textposition": "top center",
         "type": "scatter",
         "x": [
          -56
         ],
         "xaxis": "x",
         "y": [
          -867
         ],
         "yaxis": "y"
        },
        {
         "hovertemplate": "Product=Office and telecom equipment<br>Export change=%{x}<br>Import change=%{y}<br>Volume ave=%{marker.size}<extra></extra>",
         "legendgroup": "Office and telecom equipment",
         "marker": {
          "color": "#FECB52",
          "size": [
           3455.5
          ],
          "sizemode": "area",
          "sizeref": 100.5125,
          "symbol": "circle"
         },
         "mode": "markers",
         "name": "Office and telecom equipment",
         "orientation": "v",
         "showlegend": true,
         "textposition": "top center",
         "type": "scatter",
         "x": [
          0
         ],
         "xaxis": "x",
         "y": [
          -142
         ],
         "yaxis": "y"
        },
        {
         "hovertemplate": "Product=Electronic data processing and office equipment<br>Export change=%{x}<br>Import change=%{y}<br>Volume ave=%{marker.size}<extra></extra>",
         "legendgroup": "Electronic data processing and office equipment",
         "marker": {
          "color": "#636efa",
          "size": [
           1449.5
          ],
          "sizemode": "area",
          "sizeref": 100.5125,
          "symbol": "circle"
         },
         "mode": "markers",
         "name": "Electronic data processing and office equipment",
         "orientation": "v",
         "showlegend": true,
         "textposition": "top center",
         "type": "scatter",
         "x": [
          18
         ],
         "xaxis": "x",
         "y": [
          -99
         ],
         "yaxis": "y"
        },
        {
         "hovertemplate": "Product=Integrated circuits and electronic components<br>Export change=%{x}<br>Import change=%{y}<br>Volume ave=%{marker.size}<extra></extra>",
         "legendgroup": "Integrated circuits and electronic components",
         "marker": {
          "color": "#EF553B",
          "size": [
           183
          ],
          "sizemode": "area",
          "sizeref": 100.5125,
          "symbol": "circle"
         },
         "mode": "markers",
         "name": "Integrated circuits and electronic components",
         "orientation": "v",
         "showlegend": true,
         "textposition": "top center",
         "type": "scatter",
         "x": [
          -29
         ],
         "xaxis": "x",
         "y": [
          -14
         ],
         "yaxis": "y"
        },
        {
         "hovertemplate": "Product=Telecommunications equipment<br>Export change=%{x}<br>Import change=%{y}<br>Volume ave=%{marker.size}<extra></extra>",
         "legendgroup": "Telecommunications equipment",
         "marker": {
          "color": "#00cc96",
          "size": [
           1822.5
          ],
          "sizemode": "area",
          "sizeref": 100.5125,
          "symbol": "circle"
         },
         "mode": "markers",
         "name": "Telecommunications equipment",
         "orientation": "v",
         "showlegend": true,
         "textposition": "top center",
         "type": "scatter",
         "x": [
          10
         ],
         "xaxis": "x",
         "y": [
          -30
         ],
         "yaxis": "y"
        },
        {
         "hovertemplate": "Product=Transport equipment<br>Export change=%{x}<br>Import change=%{y}<br>Volume ave=%{marker.size}<extra></extra>",
         "legendgroup": "Transport equipment",
         "marker": {
          "color": "#ab63fa",
          "size": [
           7522.5
          ],
          "sizemode": "area",
          "sizeref": 100.5125,
          "symbol": "circle"
         },
         "mode": "markers",
         "name": "Transport equipment",
         "orientation": "v",
         "showlegend": true,
         "textposition": "top center",
         "type": "scatter",
         "x": [
          -824
         ],
         "xaxis": "x",
         "y": [
          -1001
         ],
         "yaxis": "y"
        },
        {
         "hovertemplate": "Product=Textiles<br>Export change=%{x}<br>Import change=%{y}<br>Volume ave=%{marker.size}<extra></extra>",
         "legendgroup": "Textiles",
         "marker": {
          "color": "#FFA15A",
          "size": [
           636.5
          ],
          "sizemode": "area",
          "sizeref": 100.5125,
          "symbol": "circle"
         },
         "mode": "markers",
         "name": "Textiles",
         "orientation": "v",
         "showlegend": true,
         "textposition": "top center",
         "type": "scatter",
         "x": [
          10
         ],
         "xaxis": "x",
         "y": [
          128
         ],
         "yaxis": "y"
        },
        {
         "hovertemplate": "Product=Fuels and mining products<br>Export change=%{x}<br>Import change=%{y}<br>Volume ave=%{marker.size}<extra></extra>",
         "legendgroup": "Fuels and mining products",
         "marker": {
          "color": "#19d3f3",
          "size": [
           27809.5
          ],
          "sizemode": "area",
          "sizeref": 100.5125,
          "symbol": "circle"
         },
         "mode": "markers",
         "name": "Fuels and mining products",
         "orientation": "v",
         "showlegend": true,
         "textposition": "top center",
         "type": "scatter",
         "x": [
          -17788
         ],
         "xaxis": "x",
         "y": [
          -2436
         ],
         "yaxis": "y"
        },
        {
         "hovertemplate": "Product=Fuels<br>Export change=%{x}<br>Import change=%{y}<br>Volume ave=%{marker.size}<extra></extra>",
         "legendgroup": "Fuels",
         "marker": {
          "color": "#FF6692",
          "size": [
           22057
          ],
          "sizemode": "area",
          "sizeref": 100.5125,
          "symbol": "circle"
         },
         "mode": "markers",
         "name": "Fuels",
         "orientation": "v",
         "showlegend": true,
         "textposition": "top center",
         "type": "scatter",
         "x": [
          -17657
         ],
         "xaxis": "x",
         "y": [
          -2178
         ],
         "yaxis": "y"
        }
       ],
       "layout": {
        "legend": {
         "itemsizing": "constant",
         "orientation": "h",
         "title": {
          "text": "Product"
         },
         "tracegroupgap": 0,
         "x": 1,
         "xanchor": "right",
         "y": -1.2,
         "yanchor": "bottom"
        },
        "margin": {
         "t": 60
        },
        "template": {
         "data": {
          "bar": [
           {
            "error_x": {
             "color": "#2a3f5f"
            },
            "error_y": {
             "color": "#2a3f5f"
            },
            "marker": {
             "line": {
              "color": "#E5ECF6",
              "width": 0.5
             },
             "pattern": {
              "fillmode": "overlay",
              "size": 10,
              "solidity": 0.2
             }
            },
            "type": "bar"
           }
          ],
          "barpolar": [
           {
            "marker": {
             "line": {
              "color": "#E5ECF6",
              "width": 0.5
             },
             "pattern": {
              "fillmode": "overlay",
              "size": 10,
              "solidity": 0.2
             }
            },
            "type": "barpolar"
           }
          ],
          "carpet": [
           {
            "aaxis": {
             "endlinecolor": "#2a3f5f",
             "gridcolor": "white",
             "linecolor": "white",
             "minorgridcolor": "white",
             "startlinecolor": "#2a3f5f"
            },
            "baxis": {
             "endlinecolor": "#2a3f5f",
             "gridcolor": "white",
             "linecolor": "white",
             "minorgridcolor": "white",
             "startlinecolor": "#2a3f5f"
            },
            "type": "carpet"
           }
          ],
          "choropleth": [
           {
            "colorbar": {
             "outlinewidth": 0,
             "ticks": ""
            },
            "type": "choropleth"
           }
          ],
          "contour": [
           {
            "colorbar": {
             "outlinewidth": 0,
             "ticks": ""
            },
            "colorscale": [
             [
              0,
              "#0d0887"
             ],
             [
              0.1111111111111111,
              "#46039f"
             ],
             [
              0.2222222222222222,
              "#7201a8"
             ],
             [
              0.3333333333333333,
              "#9c179e"
             ],
             [
              0.4444444444444444,
              "#bd3786"
             ],
             [
              0.5555555555555556,
              "#d8576b"
             ],
             [
              0.6666666666666666,
              "#ed7953"
             ],
             [
              0.7777777777777778,
              "#fb9f3a"
             ],
             [
              0.8888888888888888,
              "#fdca26"
             ],
             [
              1,
              "#f0f921"
             ]
            ],
            "type": "contour"
           }
          ],
          "contourcarpet": [
           {
            "colorbar": {
             "outlinewidth": 0,
             "ticks": ""
            },
            "type": "contourcarpet"
           }
          ],
          "heatmap": [
           {
            "colorbar": {
             "outlinewidth": 0,
             "ticks": ""
            },
            "colorscale": [
             [
              0,
              "#0d0887"
             ],
             [
              0.1111111111111111,
              "#46039f"
             ],
             [
              0.2222222222222222,
              "#7201a8"
             ],
             [
              0.3333333333333333,
              "#9c179e"
             ],
             [
              0.4444444444444444,
              "#bd3786"
             ],
             [
              0.5555555555555556,
              "#d8576b"
             ],
             [
              0.6666666666666666,
              "#ed7953"
             ],
             [
              0.7777777777777778,
              "#fb9f3a"
             ],
             [
              0.8888888888888888,
              "#fdca26"
             ],
             [
              1,
              "#f0f921"
             ]
            ],
            "type": "heatmap"
           }
          ],
          "heatmapgl": [
           {
            "colorbar": {
             "outlinewidth": 0,
             "ticks": ""
            },
            "colorscale": [
             [
              0,
              "#0d0887"
             ],
             [
              0.1111111111111111,
              "#46039f"
             ],
             [
              0.2222222222222222,
              "#7201a8"
             ],
             [
              0.3333333333333333,
              "#9c179e"
             ],
             [
              0.4444444444444444,
              "#bd3786"
             ],
             [
              0.5555555555555556,
              "#d8576b"
             ],
             [
              0.6666666666666666,
              "#ed7953"
             ],
             [
              0.7777777777777778,
              "#fb9f3a"
             ],
             [
              0.8888888888888888,
              "#fdca26"
             ],
             [
              1,
              "#f0f921"
             ]
            ],
            "type": "heatmapgl"
           }
          ],
          "histogram": [
           {
            "marker": {
             "pattern": {
              "fillmode": "overlay",
              "size": 10,
              "solidity": 0.2
             }
            },
            "type": "histogram"
           }
          ],
          "histogram2d": [
           {
            "colorbar": {
             "outlinewidth": 0,
             "ticks": ""
            },
            "colorscale": [
             [
              0,
              "#0d0887"
             ],
             [
              0.1111111111111111,
              "#46039f"
             ],
             [
              0.2222222222222222,
              "#7201a8"
             ],
             [
              0.3333333333333333,
              "#9c179e"
             ],
             [
              0.4444444444444444,
              "#bd3786"
             ],
             [
              0.5555555555555556,
              "#d8576b"
             ],
             [
              0.6666666666666666,
              "#ed7953"
             ],
             [
              0.7777777777777778,
              "#fb9f3a"
             ],
             [
              0.8888888888888888,
              "#fdca26"
             ],
             [
              1,
              "#f0f921"
             ]
            ],
            "type": "histogram2d"
           }
          ],
          "histogram2dcontour": [
           {
            "colorbar": {
             "outlinewidth": 0,
             "ticks": ""
            },
            "colorscale": [
             [
              0,
              "#0d0887"
             ],
             [
              0.1111111111111111,
              "#46039f"
             ],
             [
              0.2222222222222222,
              "#7201a8"
             ],
             [
              0.3333333333333333,
              "#9c179e"
             ],
             [
              0.4444444444444444,
              "#bd3786"
             ],
             [
              0.5555555555555556,
              "#d8576b"
             ],
             [
              0.6666666666666666,
              "#ed7953"
             ],
             [
              0.7777777777777778,
              "#fb9f3a"
             ],
             [
              0.8888888888888888,
              "#fdca26"
             ],
             [
              1,
              "#f0f921"
             ]
            ],
            "type": "histogram2dcontour"
           }
          ],
          "mesh3d": [
           {
            "colorbar": {
             "outlinewidth": 0,
             "ticks": ""
            },
            "type": "mesh3d"
           }
          ],
          "parcoords": [
           {
            "line": {
             "colorbar": {
              "outlinewidth": 0,
              "ticks": ""
             }
            },
            "type": "parcoords"
           }
          ],
          "pie": [
           {
            "automargin": true,
            "type": "pie"
           }
          ],
          "scatter": [
           {
            "marker": {
             "colorbar": {
              "outlinewidth": 0,
              "ticks": ""
             }
            },
            "type": "scatter"
           }
          ],
          "scatter3d": [
           {
            "line": {
             "colorbar": {
              "outlinewidth": 0,
              "ticks": ""
             }
            },
            "marker": {
             "colorbar": {
              "outlinewidth": 0,
              "ticks": ""
             }
            },
            "type": "scatter3d"
           }
          ],
          "scattercarpet": [
           {
            "marker": {
             "colorbar": {
              "outlinewidth": 0,
              "ticks": ""
             }
            },
            "type": "scattercarpet"
           }
          ],
          "scattergeo": [
           {
            "marker": {
             "colorbar": {
              "outlinewidth": 0,
              "ticks": ""
             }
            },
            "type": "scattergeo"
           }
          ],
          "scattergl": [
           {
            "marker": {
             "colorbar": {
              "outlinewidth": 0,
              "ticks": ""
             }
            },
            "type": "scattergl"
           }
          ],
          "scattermapbox": [
           {
            "marker": {
             "colorbar": {
              "outlinewidth": 0,
              "ticks": ""
             }
            },
            "type": "scattermapbox"
           }
          ],
          "scatterpolar": [
           {
            "marker": {
             "colorbar": {
              "outlinewidth": 0,
              "ticks": ""
             }
            },
            "type": "scatterpolar"
           }
          ],
          "scatterpolargl": [
           {
            "marker": {
             "colorbar": {
              "outlinewidth": 0,
              "ticks": ""
             }
            },
            "type": "scatterpolargl"
           }
          ],
          "scatterternary": [
           {
            "marker": {
             "colorbar": {
              "outlinewidth": 0,
              "ticks": ""
             }
            },
            "type": "scatterternary"
           }
          ],
          "surface": [
           {
            "colorbar": {
             "outlinewidth": 0,
             "ticks": ""
            },
            "colorscale": [
             [
              0,
              "#0d0887"
             ],
             [
              0.1111111111111111,
              "#46039f"
             ],
             [
              0.2222222222222222,
              "#7201a8"
             ],
             [
              0.3333333333333333,
              "#9c179e"
             ],
             [
              0.4444444444444444,
              "#bd3786"
             ],
             [
              0.5555555555555556,
              "#d8576b"
             ],
             [
              0.6666666666666666,
              "#ed7953"
             ],
             [
              0.7777777777777778,
              "#fb9f3a"
             ],
             [
              0.8888888888888888,
              "#fdca26"
             ],
             [
              1,
              "#f0f921"
             ]
            ],
            "type": "surface"
           }
          ],
          "table": [
           {
            "cells": {
             "fill": {
              "color": "#EBF0F8"
             },
             "line": {
              "color": "white"
             }
            },
            "header": {
             "fill": {
              "color": "#C8D4E3"
             },
             "line": {
              "color": "white"
             }
            },
            "type": "table"
           }
          ]
         },
         "layout": {
          "annotationdefaults": {
           "arrowcolor": "#2a3f5f",
           "arrowhead": 0,
           "arrowwidth": 1
          },
          "autotypenumbers": "strict",
          "coloraxis": {
           "colorbar": {
            "outlinewidth": 0,
            "ticks": ""
           }
          },
          "colorscale": {
           "diverging": [
            [
             0,
             "#8e0152"
            ],
            [
             0.1,
             "#c51b7d"
            ],
            [
             0.2,
             "#de77ae"
            ],
            [
             0.3,
             "#f1b6da"
            ],
            [
             0.4,
             "#fde0ef"
            ],
            [
             0.5,
             "#f7f7f7"
            ],
            [
             0.6,
             "#e6f5d0"
            ],
            [
             0.7,
             "#b8e186"
            ],
            [
             0.8,
             "#7fbc41"
            ],
            [
             0.9,
             "#4d9221"
            ],
            [
             1,
             "#276419"
            ]
           ],
           "sequential": [
            [
             0,
             "#0d0887"
            ],
            [
             0.1111111111111111,
             "#46039f"
            ],
            [
             0.2222222222222222,
             "#7201a8"
            ],
            [
             0.3333333333333333,
             "#9c179e"
            ],
            [
             0.4444444444444444,
             "#bd3786"
            ],
            [
             0.5555555555555556,
             "#d8576b"
            ],
            [
             0.6666666666666666,
             "#ed7953"
            ],
            [
             0.7777777777777778,
             "#fb9f3a"
            ],
            [
             0.8888888888888888,
             "#fdca26"
            ],
            [
             1,
             "#f0f921"
            ]
           ],
           "sequentialminus": [
            [
             0,
             "#0d0887"
            ],
            [
             0.1111111111111111,
             "#46039f"
            ],
            [
             0.2222222222222222,
             "#7201a8"
            ],
            [
             0.3333333333333333,
             "#9c179e"
            ],
            [
             0.4444444444444444,
             "#bd3786"
            ],
            [
             0.5555555555555556,
             "#d8576b"
            ],
            [
             0.6666666666666666,
             "#ed7953"
            ],
            [
             0.7777777777777778,
             "#fb9f3a"
            ],
            [
             0.8888888888888888,
             "#fdca26"
            ],
            [
             1,
             "#f0f921"
            ]
           ]
          },
          "colorway": [
           "#636efa",
           "#EF553B",
           "#00cc96",
           "#ab63fa",
           "#FFA15A",
           "#19d3f3",
           "#FF6692",
           "#B6E880",
           "#FF97FF",
           "#FECB52"
          ],
          "font": {
           "color": "#2a3f5f"
          },
          "geo": {
           "bgcolor": "white",
           "lakecolor": "white",
           "landcolor": "#E5ECF6",
           "showlakes": true,
           "showland": true,
           "subunitcolor": "white"
          },
          "hoverlabel": {
           "align": "left"
          },
          "hovermode": "closest",
          "mapbox": {
           "style": "light"
          },
          "paper_bgcolor": "white",
          "plot_bgcolor": "#E5ECF6",
          "polar": {
           "angularaxis": {
            "gridcolor": "white",
            "linecolor": "white",
            "ticks": ""
           },
           "bgcolor": "#E5ECF6",
           "radialaxis": {
            "gridcolor": "white",
            "linecolor": "white",
            "ticks": ""
           }
          },
          "scene": {
           "xaxis": {
            "backgroundcolor": "#E5ECF6",
            "gridcolor": "white",
            "gridwidth": 2,
            "linecolor": "white",
            "showbackground": true,
            "ticks": "",
            "zerolinecolor": "white"
           },
           "yaxis": {
            "backgroundcolor": "#E5ECF6",
            "gridcolor": "white",
            "gridwidth": 2,
            "linecolor": "white",
            "showbackground": true,
            "ticks": "",
            "zerolinecolor": "white"
           },
           "zaxis": {
            "backgroundcolor": "#E5ECF6",
            "gridcolor": "white",
            "gridwidth": 2,
            "linecolor": "white",
            "showbackground": true,
            "ticks": "",
            "zerolinecolor": "white"
           }
          },
          "shapedefaults": {
           "line": {
            "color": "#2a3f5f"
           }
          },
          "ternary": {
           "aaxis": {
            "gridcolor": "white",
            "linecolor": "white",
            "ticks": ""
           },
           "baxis": {
            "gridcolor": "white",
            "linecolor": "white",
            "ticks": ""
           },
           "bgcolor": "#E5ECF6",
           "caxis": {
            "gridcolor": "white",
            "linecolor": "white",
            "ticks": ""
           }
          },
          "title": {
           "x": 0.05
          },
          "xaxis": {
           "automargin": true,
           "gridcolor": "white",
           "linecolor": "white",
           "ticks": "",
           "title": {
            "standoff": 15
           },
           "zerolinecolor": "white",
           "zerolinewidth": 2
          },
          "yaxis": {
           "automargin": true,
           "gridcolor": "white",
           "linecolor": "white",
           "ticks": "",
           "title": {
            "standoff": 15
           },
           "zerolinecolor": "white",
           "zerolinewidth": 2
          }
         }
        },
        "width": 600,
        "xaxis": {
         "anchor": "y",
         "domain": [
          0,
          1
         ],
         "title": {
          "text": "Export change"
         }
        },
        "yaxis": {
         "anchor": "x",
         "domain": [
          0,
          1
         ],
         "title": {
          "text": "Import change"
         }
        }
       }
      }
     },
     "metadata": {},
     "output_type": "display_data"
    }
   ],
   "source": [
    "fig = px.scatter(product_new, x=\"Export change\", y=\"Import change\",\n",
    "\t         size=\"Volume ave\", color=\"Product\")\n",
    "fig.update_traces(textposition='top center')\n",
    "fig.update_layout(\n",
    "    width=600)\n",
    "fig.update_layout(legend=dict(\n",
    "    orientation=\"h\",\n",
    "    yanchor=\"bottom\",\n",
    "    y=-1.2,\n",
    "    xanchor=\"right\",\n",
    "    x=1\n",
    "))\n",
    "\n",
    "fig.show()"
   ]
  },
  {
   "cell_type": "code",
   "execution_count": 14,
   "metadata": {},
   "outputs": [
    {
     "data": {
      "application/vnd.plotly.v1+json": {
       "config": {
        "plotlyServerURL": "https://plot.ly"
       },
       "data": [
        {
         "marker": {
          "color": "crimson",
          "size": 12
         },
         "mode": "markers",
         "name": "2019",
         "opacity": 0.5,
         "type": "scatter",
         "x": [
          22580,
          20763,
          80410,
          14351,
          3193,
          2527,
          3185,
          40966,
          9340,
          6911,
          2899,
          366,
          3645,
          15045,
          1273,
          55619,
          44114
         ],
         "y": [
          "Agricultural products",
          "Food",
          "Manufactures",
          "Chemicals",
          "Pharmaceuticals",
          "Clothing",
          "Iron and steel",
          "Machinery and transport equipment",
          "Automotive products",
          "Office and telecom equipment",
          "Electronic data processing and office equipment",
          "Integrated circuits and electronic components",
          "Telecommunications equipment",
          "Transport equipment",
          "Textiles",
          "Fuels and mining products",
          "Fuels"
         ]
        },
        {
         "marker": {
          "color": "gold",
          "size": 12
         },
         "mode": "markers",
         "name": "2020",
         "opacity": 0.5,
         "type": "scatter",
         "x": [
          22812,
          20936,
          85663,
          14788,
          3045,
          2595,
          3406,
          44756,
          10263,
          7053,
          2980,
          409,
          3665,
          16870,
          1135,
          75843,
          63949
         ],
         "y": [
          "Agricultural products",
          "Food",
          "Manufactures",
          "Chemicals",
          "Pharmaceuticals",
          "Clothing",
          "Iron and steel",
          "Machinery and transport equipment",
          "Automotive products",
          "Office and telecom equipment",
          "Electronic data processing and office equipment",
          "Integrated circuits and electronic components",
          "Telecommunications equipment",
          "Transport equipment",
          "Textiles",
          "Fuels and mining products",
          "Fuels"
         ]
        }
       ],
       "layout": {
        "legend": {
         "orientation": "h",
         "x": 1,
         "xanchor": "right",
         "y": 1.02,
         "yanchor": "bottom"
        },
        "template": {
         "data": {
          "bar": [
           {
            "error_x": {
             "color": "#2a3f5f"
            },
            "error_y": {
             "color": "#2a3f5f"
            },
            "marker": {
             "line": {
              "color": "#E5ECF6",
              "width": 0.5
             },
             "pattern": {
              "fillmode": "overlay",
              "size": 10,
              "solidity": 0.2
             }
            },
            "type": "bar"
           }
          ],
          "barpolar": [
           {
            "marker": {
             "line": {
              "color": "#E5ECF6",
              "width": 0.5
             },
             "pattern": {
              "fillmode": "overlay",
              "size": 10,
              "solidity": 0.2
             }
            },
            "type": "barpolar"
           }
          ],
          "carpet": [
           {
            "aaxis": {
             "endlinecolor": "#2a3f5f",
             "gridcolor": "white",
             "linecolor": "white",
             "minorgridcolor": "white",
             "startlinecolor": "#2a3f5f"
            },
            "baxis": {
             "endlinecolor": "#2a3f5f",
             "gridcolor": "white",
             "linecolor": "white",
             "minorgridcolor": "white",
             "startlinecolor": "#2a3f5f"
            },
            "type": "carpet"
           }
          ],
          "choropleth": [
           {
            "colorbar": {
             "outlinewidth": 0,
             "ticks": ""
            },
            "type": "choropleth"
           }
          ],
          "contour": [
           {
            "colorbar": {
             "outlinewidth": 0,
             "ticks": ""
            },
            "colorscale": [
             [
              0,
              "#0d0887"
             ],
             [
              0.1111111111111111,
              "#46039f"
             ],
             [
              0.2222222222222222,
              "#7201a8"
             ],
             [
              0.3333333333333333,
              "#9c179e"
             ],
             [
              0.4444444444444444,
              "#bd3786"
             ],
             [
              0.5555555555555556,
              "#d8576b"
             ],
             [
              0.6666666666666666,
              "#ed7953"
             ],
             [
              0.7777777777777778,
              "#fb9f3a"
             ],
             [
              0.8888888888888888,
              "#fdca26"
             ],
             [
              1,
              "#f0f921"
             ]
            ],
            "type": "contour"
           }
          ],
          "contourcarpet": [
           {
            "colorbar": {
             "outlinewidth": 0,
             "ticks": ""
            },
            "type": "contourcarpet"
           }
          ],
          "heatmap": [
           {
            "colorbar": {
             "outlinewidth": 0,
             "ticks": ""
            },
            "colorscale": [
             [
              0,
              "#0d0887"
             ],
             [
              0.1111111111111111,
              "#46039f"
             ],
             [
              0.2222222222222222,
              "#7201a8"
             ],
             [
              0.3333333333333333,
              "#9c179e"
             ],
             [
              0.4444444444444444,
              "#bd3786"
             ],
             [
              0.5555555555555556,
              "#d8576b"
             ],
             [
              0.6666666666666666,
              "#ed7953"
             ],
             [
              0.7777777777777778,
              "#fb9f3a"
             ],
             [
              0.8888888888888888,
              "#fdca26"
             ],
             [
              1,
              "#f0f921"
             ]
            ],
            "type": "heatmap"
           }
          ],
          "heatmapgl": [
           {
            "colorbar": {
             "outlinewidth": 0,
             "ticks": ""
            },
            "colorscale": [
             [
              0,
              "#0d0887"
             ],
             [
              0.1111111111111111,
              "#46039f"
             ],
             [
              0.2222222222222222,
              "#7201a8"
             ],
             [
              0.3333333333333333,
              "#9c179e"
             ],
             [
              0.4444444444444444,
              "#bd3786"
             ],
             [
              0.5555555555555556,
              "#d8576b"
             ],
             [
              0.6666666666666666,
              "#ed7953"
             ],
             [
              0.7777777777777778,
              "#fb9f3a"
             ],
             [
              0.8888888888888888,
              "#fdca26"
             ],
             [
              1,
              "#f0f921"
             ]
            ],
            "type": "heatmapgl"
           }
          ],
          "histogram": [
           {
            "marker": {
             "pattern": {
              "fillmode": "overlay",
              "size": 10,
              "solidity": 0.2
             }
            },
            "type": "histogram"
           }
          ],
          "histogram2d": [
           {
            "colorbar": {
             "outlinewidth": 0,
             "ticks": ""
            },
            "colorscale": [
             [
              0,
              "#0d0887"
             ],
             [
              0.1111111111111111,
              "#46039f"
             ],
             [
              0.2222222222222222,
              "#7201a8"
             ],
             [
              0.3333333333333333,
              "#9c179e"
             ],
             [
              0.4444444444444444,
              "#bd3786"
             ],
             [
              0.5555555555555556,
              "#d8576b"
             ],
             [
              0.6666666666666666,
              "#ed7953"
             ],
             [
              0.7777777777777778,
              "#fb9f3a"
             ],
             [
              0.8888888888888888,
              "#fdca26"
             ],
             [
              1,
              "#f0f921"
             ]
            ],
            "type": "histogram2d"
           }
          ],
          "histogram2dcontour": [
           {
            "colorbar": {
             "outlinewidth": 0,
             "ticks": ""
            },
            "colorscale": [
             [
              0,
              "#0d0887"
             ],
             [
              0.1111111111111111,
              "#46039f"
             ],
             [
              0.2222222222222222,
              "#7201a8"
             ],
             [
              0.3333333333333333,
              "#9c179e"
             ],
             [
              0.4444444444444444,
              "#bd3786"
             ],
             [
              0.5555555555555556,
              "#d8576b"
             ],
             [
              0.6666666666666666,
              "#ed7953"
             ],
             [
              0.7777777777777778,
              "#fb9f3a"
             ],
             [
              0.8888888888888888,
              "#fdca26"
             ],
             [
              1,
              "#f0f921"
             ]
            ],
            "type": "histogram2dcontour"
           }
          ],
          "mesh3d": [
           {
            "colorbar": {
             "outlinewidth": 0,
             "ticks": ""
            },
            "type": "mesh3d"
           }
          ],
          "parcoords": [
           {
            "line": {
             "colorbar": {
              "outlinewidth": 0,
              "ticks": ""
             }
            },
            "type": "parcoords"
           }
          ],
          "pie": [
           {
            "automargin": true,
            "type": "pie"
           }
          ],
          "scatter": [
           {
            "marker": {
             "colorbar": {
              "outlinewidth": 0,
              "ticks": ""
             }
            },
            "type": "scatter"
           }
          ],
          "scatter3d": [
           {
            "line": {
             "colorbar": {
              "outlinewidth": 0,
              "ticks": ""
             }
            },
            "marker": {
             "colorbar": {
              "outlinewidth": 0,
              "ticks": ""
             }
            },
            "type": "scatter3d"
           }
          ],
          "scattercarpet": [
           {
            "marker": {
             "colorbar": {
              "outlinewidth": 0,
              "ticks": ""
             }
            },
            "type": "scattercarpet"
           }
          ],
          "scattergeo": [
           {
            "marker": {
             "colorbar": {
              "outlinewidth": 0,
              "ticks": ""
             }
            },
            "type": "scattergeo"
           }
          ],
          "scattergl": [
           {
            "marker": {
             "colorbar": {
              "outlinewidth": 0,
              "ticks": ""
             }
            },
            "type": "scattergl"
           }
          ],
          "scattermapbox": [
           {
            "marker": {
             "colorbar": {
              "outlinewidth": 0,
              "ticks": ""
             }
            },
            "type": "scattermapbox"
           }
          ],
          "scatterpolar": [
           {
            "marker": {
             "colorbar": {
              "outlinewidth": 0,
              "ticks": ""
             }
            },
            "type": "scatterpolar"
           }
          ],
          "scatterpolargl": [
           {
            "marker": {
             "colorbar": {
              "outlinewidth": 0,
              "ticks": ""
             }
            },
            "type": "scatterpolargl"
           }
          ],
          "scatterternary": [
           {
            "marker": {
             "colorbar": {
              "outlinewidth": 0,
              "ticks": ""
             }
            },
            "type": "scatterternary"
           }
          ],
          "surface": [
           {
            "colorbar": {
             "outlinewidth": 0,
             "ticks": ""
            },
            "colorscale": [
             [
              0,
              "#0d0887"
             ],
             [
              0.1111111111111111,
              "#46039f"
             ],
             [
              0.2222222222222222,
              "#7201a8"
             ],
             [
              0.3333333333333333,
              "#9c179e"
             ],
             [
              0.4444444444444444,
              "#bd3786"
             ],
             [
              0.5555555555555556,
              "#d8576b"
             ],
             [
              0.6666666666666666,
              "#ed7953"
             ],
             [
              0.7777777777777778,
              "#fb9f3a"
             ],
             [
              0.8888888888888888,
              "#fdca26"
             ],
             [
              1,
              "#f0f921"
             ]
            ],
            "type": "surface"
           }
          ],
          "table": [
           {
            "cells": {
             "fill": {
              "color": "#EBF0F8"
             },
             "line": {
              "color": "white"
             }
            },
            "header": {
             "fill": {
              "color": "#C8D4E3"
             },
             "line": {
              "color": "white"
             }
            },
            "type": "table"
           }
          ]
         },
         "layout": {
          "annotationdefaults": {
           "arrowcolor": "#2a3f5f",
           "arrowhead": 0,
           "arrowwidth": 1
          },
          "autotypenumbers": "strict",
          "coloraxis": {
           "colorbar": {
            "outlinewidth": 0,
            "ticks": ""
           }
          },
          "colorscale": {
           "diverging": [
            [
             0,
             "#8e0152"
            ],
            [
             0.1,
             "#c51b7d"
            ],
            [
             0.2,
             "#de77ae"
            ],
            [
             0.3,
             "#f1b6da"
            ],
            [
             0.4,
             "#fde0ef"
            ],
            [
             0.5,
             "#f7f7f7"
            ],
            [
             0.6,
             "#e6f5d0"
            ],
            [
             0.7,
             "#b8e186"
            ],
            [
             0.8,
             "#7fbc41"
            ],
            [
             0.9,
             "#4d9221"
            ],
            [
             1,
             "#276419"
            ]
           ],
           "sequential": [
            [
             0,
             "#0d0887"
            ],
            [
             0.1111111111111111,
             "#46039f"
            ],
            [
             0.2222222222222222,
             "#7201a8"
            ],
            [
             0.3333333333333333,
             "#9c179e"
            ],
            [
             0.4444444444444444,
             "#bd3786"
            ],
            [
             0.5555555555555556,
             "#d8576b"
            ],
            [
             0.6666666666666666,
             "#ed7953"
            ],
            [
             0.7777777777777778,
             "#fb9f3a"
            ],
            [
             0.8888888888888888,
             "#fdca26"
            ],
            [
             1,
             "#f0f921"
            ]
           ],
           "sequentialminus": [
            [
             0,
             "#0d0887"
            ],
            [
             0.1111111111111111,
             "#46039f"
            ],
            [
             0.2222222222222222,
             "#7201a8"
            ],
            [
             0.3333333333333333,
             "#9c179e"
            ],
            [
             0.4444444444444444,
             "#bd3786"
            ],
            [
             0.5555555555555556,
             "#d8576b"
            ],
            [
             0.6666666666666666,
             "#ed7953"
            ],
            [
             0.7777777777777778,
             "#fb9f3a"
            ],
            [
             0.8888888888888888,
             "#fdca26"
            ],
            [
             1,
             "#f0f921"
            ]
           ]
          },
          "colorway": [
           "#636efa",
           "#EF553B",
           "#00cc96",
           "#ab63fa",
           "#FFA15A",
           "#19d3f3",
           "#FF6692",
           "#B6E880",
           "#FF97FF",
           "#FECB52"
          ],
          "font": {
           "color": "#2a3f5f"
          },
          "geo": {
           "bgcolor": "white",
           "lakecolor": "white",
           "landcolor": "#E5ECF6",
           "showlakes": true,
           "showland": true,
           "subunitcolor": "white"
          },
          "hoverlabel": {
           "align": "left"
          },
          "hovermode": "closest",
          "mapbox": {
           "style": "light"
          },
          "paper_bgcolor": "white",
          "plot_bgcolor": "#E5ECF6",
          "polar": {
           "angularaxis": {
            "gridcolor": "white",
            "linecolor": "white",
            "ticks": ""
           },
           "bgcolor": "#E5ECF6",
           "radialaxis": {
            "gridcolor": "white",
            "linecolor": "white",
            "ticks": ""
           }
          },
          "scene": {
           "xaxis": {
            "backgroundcolor": "#E5ECF6",
            "gridcolor": "white",
            "gridwidth": 2,
            "linecolor": "white",
            "showbackground": true,
            "ticks": "",
            "zerolinecolor": "white"
           },
           "yaxis": {
            "backgroundcolor": "#E5ECF6",
            "gridcolor": "white",
            "gridwidth": 2,
            "linecolor": "white",
            "showbackground": true,
            "ticks": "",
            "zerolinecolor": "white"
           },
           "zaxis": {
            "backgroundcolor": "#E5ECF6",
            "gridcolor": "white",
            "gridwidth": 2,
            "linecolor": "white",
            "showbackground": true,
            "ticks": "",
            "zerolinecolor": "white"
           }
          },
          "shapedefaults": {
           "line": {
            "color": "#2a3f5f"
           }
          },
          "ternary": {
           "aaxis": {
            "gridcolor": "white",
            "linecolor": "white",
            "ticks": ""
           },
           "baxis": {
            "gridcolor": "white",
            "linecolor": "white",
            "ticks": ""
           },
           "bgcolor": "#E5ECF6",
           "caxis": {
            "gridcolor": "white",
            "linecolor": "white",
            "ticks": ""
           }
          },
          "title": {
           "x": 0.05
          },
          "xaxis": {
           "automargin": true,
           "gridcolor": "white",
           "linecolor": "white",
           "ticks": "",
           "title": {
            "standoff": 15
           },
           "zerolinecolor": "white",
           "zerolinewidth": 2
          },
          "yaxis": {
           "automargin": true,
           "gridcolor": "white",
           "linecolor": "white",
           "ticks": "",
           "title": {
            "standoff": 15
           },
           "zerolinecolor": "white",
           "zerolinewidth": 2
          }
         }
        },
        "width": 600,
        "xaxis": {
         "title": {
          "text": "Total volume of import and export"
         }
        },
        "yaxis": {
         "title": {
          "text": "Product"
         }
        }
       }
      }
     },
     "metadata": {},
     "output_type": "display_data"
    }
   ],
   "source": [
    "fig = go.Figure()\n",
    "fig.add_trace(go.Scatter(\n",
    "    x=product_new[\"Total 2019\"],\n",
    "    y=product_new[\"Product\"],\n",
    "    opacity=0.5,\n",
    "    marker=dict(color=\"crimson\", size=12),\n",
    "    mode=\"markers\",\n",
    "    name=\"2019\",\n",
    "))\n",
    "\n",
    "fig.add_trace(go.Scatter(\n",
    "    x=product_new[\"Total 2020\"],\n",
    "    y=product_new[\"Product\"],\n",
    "    opacity=0.5,\n",
    "    marker=dict(color=\"gold\", size=12),\n",
    "    mode=\"markers\",\n",
    "    name=\"2020\",\n",
    "))\n",
    "fig.update_layout(\n",
    "    width=600)\n",
    "fig.update_layout(legend=dict(\n",
    "    orientation=\"h\",\n",
    "    yanchor=\"bottom\",\n",
    "    y=1.02,\n",
    "    xanchor=\"right\",\n",
    "    x=1\n",
    "))\n",
    "fig.update_layout(\n",
    "                  xaxis_title=\"Total volume of import and export\",\n",
    "                  yaxis_title=\"Product\")\n"
   ]
  },
  {
   "cell_type": "code",
   "execution_count": 15,
   "metadata": {},
   "outputs": [
    {
     "data": {
      "application/vnd.plotly.v1+json": {
       "config": {
        "plotlyServerURL": "https://plot.ly"
       },
       "data": [
        {
         "marker": {
          "color": "crimson",
          "size": 12
         },
         "mode": "markers",
         "name": "Export",
         "opacity": 0.5,
         "type": "scatter",
         "x": [
          22580,
          20763,
          80410,
          14351,
          3193,
          2527,
          3185,
          40966,
          9340,
          6911,
          2899,
          366,
          3645,
          15045,
          1273,
          55619,
          44114
         ],
         "y": [
          "Agricultural products",
          "Food",
          "Manufactures",
          "Chemicals",
          "Pharmaceuticals",
          "Clothing",
          "Iron and steel",
          "Machinery and transport equipment",
          "Automotive products",
          "Office and telecom equipment",
          "Electronic data processing and office equipment",
          "Integrated circuits and electronic components",
          "Telecommunications equipment",
          "Transport equipment",
          "Textiles",
          "Fuels and mining products",
          "Fuels"
         ]
        },
        {
         "marker": {
          "color": "gold",
          "size": 12
         },
         "mode": "markers",
         "name": "Import",
         "opacity": 0.5,
         "type": "scatter",
         "x": [
          672,
          683,
          -3064,
          73,
          143,
          -46,
          -76,
          -2154,
          -867,
          -142,
          -99,
          -14,
          -30,
          -1001,
          128,
          -2436,
          -2178
         ],
         "y": [
          "Agricultural products",
          "Food",
          "Manufactures",
          "Chemicals",
          "Pharmaceuticals",
          "Clothing",
          "Iron and steel",
          "Machinery and transport equipment",
          "Automotive products",
          "Office and telecom equipment",
          "Electronic data processing and office equipment",
          "Integrated circuits and electronic components",
          "Telecommunications equipment",
          "Transport equipment",
          "Textiles",
          "Fuels and mining products",
          "Fuels"
         ]
        }
       ],
       "layout": {
        "template": {
         "data": {
          "bar": [
           {
            "error_x": {
             "color": "#2a3f5f"
            },
            "error_y": {
             "color": "#2a3f5f"
            },
            "marker": {
             "line": {
              "color": "#E5ECF6",
              "width": 0.5
             },
             "pattern": {
              "fillmode": "overlay",
              "size": 10,
              "solidity": 0.2
             }
            },
            "type": "bar"
           }
          ],
          "barpolar": [
           {
            "marker": {
             "line": {
              "color": "#E5ECF6",
              "width": 0.5
             },
             "pattern": {
              "fillmode": "overlay",
              "size": 10,
              "solidity": 0.2
             }
            },
            "type": "barpolar"
           }
          ],
          "carpet": [
           {
            "aaxis": {
             "endlinecolor": "#2a3f5f",
             "gridcolor": "white",
             "linecolor": "white",
             "minorgridcolor": "white",
             "startlinecolor": "#2a3f5f"
            },
            "baxis": {
             "endlinecolor": "#2a3f5f",
             "gridcolor": "white",
             "linecolor": "white",
             "minorgridcolor": "white",
             "startlinecolor": "#2a3f5f"
            },
            "type": "carpet"
           }
          ],
          "choropleth": [
           {
            "colorbar": {
             "outlinewidth": 0,
             "ticks": ""
            },
            "type": "choropleth"
           }
          ],
          "contour": [
           {
            "colorbar": {
             "outlinewidth": 0,
             "ticks": ""
            },
            "colorscale": [
             [
              0,
              "#0d0887"
             ],
             [
              0.1111111111111111,
              "#46039f"
             ],
             [
              0.2222222222222222,
              "#7201a8"
             ],
             [
              0.3333333333333333,
              "#9c179e"
             ],
             [
              0.4444444444444444,
              "#bd3786"
             ],
             [
              0.5555555555555556,
              "#d8576b"
             ],
             [
              0.6666666666666666,
              "#ed7953"
             ],
             [
              0.7777777777777778,
              "#fb9f3a"
             ],
             [
              0.8888888888888888,
              "#fdca26"
             ],
             [
              1,
              "#f0f921"
             ]
            ],
            "type": "contour"
           }
          ],
          "contourcarpet": [
           {
            "colorbar": {
             "outlinewidth": 0,
             "ticks": ""
            },
            "type": "contourcarpet"
           }
          ],
          "heatmap": [
           {
            "colorbar": {
             "outlinewidth": 0,
             "ticks": ""
            },
            "colorscale": [
             [
              0,
              "#0d0887"
             ],
             [
              0.1111111111111111,
              "#46039f"
             ],
             [
              0.2222222222222222,
              "#7201a8"
             ],
             [
              0.3333333333333333,
              "#9c179e"
             ],
             [
              0.4444444444444444,
              "#bd3786"
             ],
             [
              0.5555555555555556,
              "#d8576b"
             ],
             [
              0.6666666666666666,
              "#ed7953"
             ],
             [
              0.7777777777777778,
              "#fb9f3a"
             ],
             [
              0.8888888888888888,
              "#fdca26"
             ],
             [
              1,
              "#f0f921"
             ]
            ],
            "type": "heatmap"
           }
          ],
          "heatmapgl": [
           {
            "colorbar": {
             "outlinewidth": 0,
             "ticks": ""
            },
            "colorscale": [
             [
              0,
              "#0d0887"
             ],
             [
              0.1111111111111111,
              "#46039f"
             ],
             [
              0.2222222222222222,
              "#7201a8"
             ],
             [
              0.3333333333333333,
              "#9c179e"
             ],
             [
              0.4444444444444444,
              "#bd3786"
             ],
             [
              0.5555555555555556,
              "#d8576b"
             ],
             [
              0.6666666666666666,
              "#ed7953"
             ],
             [
              0.7777777777777778,
              "#fb9f3a"
             ],
             [
              0.8888888888888888,
              "#fdca26"
             ],
             [
              1,
              "#f0f921"
             ]
            ],
            "type": "heatmapgl"
           }
          ],
          "histogram": [
           {
            "marker": {
             "pattern": {
              "fillmode": "overlay",
              "size": 10,
              "solidity": 0.2
             }
            },
            "type": "histogram"
           }
          ],
          "histogram2d": [
           {
            "colorbar": {
             "outlinewidth": 0,
             "ticks": ""
            },
            "colorscale": [
             [
              0,
              "#0d0887"
             ],
             [
              0.1111111111111111,
              "#46039f"
             ],
             [
              0.2222222222222222,
              "#7201a8"
             ],
             [
              0.3333333333333333,
              "#9c179e"
             ],
             [
              0.4444444444444444,
              "#bd3786"
             ],
             [
              0.5555555555555556,
              "#d8576b"
             ],
             [
              0.6666666666666666,
              "#ed7953"
             ],
             [
              0.7777777777777778,
              "#fb9f3a"
             ],
             [
              0.8888888888888888,
              "#fdca26"
             ],
             [
              1,
              "#f0f921"
             ]
            ],
            "type": "histogram2d"
           }
          ],
          "histogram2dcontour": [
           {
            "colorbar": {
             "outlinewidth": 0,
             "ticks": ""
            },
            "colorscale": [
             [
              0,
              "#0d0887"
             ],
             [
              0.1111111111111111,
              "#46039f"
             ],
             [
              0.2222222222222222,
              "#7201a8"
             ],
             [
              0.3333333333333333,
              "#9c179e"
             ],
             [
              0.4444444444444444,
              "#bd3786"
             ],
             [
              0.5555555555555556,
              "#d8576b"
             ],
             [
              0.6666666666666666,
              "#ed7953"
             ],
             [
              0.7777777777777778,
              "#fb9f3a"
             ],
             [
              0.8888888888888888,
              "#fdca26"
             ],
             [
              1,
              "#f0f921"
             ]
            ],
            "type": "histogram2dcontour"
           }
          ],
          "mesh3d": [
           {
            "colorbar": {
             "outlinewidth": 0,
             "ticks": ""
            },
            "type": "mesh3d"
           }
          ],
          "parcoords": [
           {
            "line": {
             "colorbar": {
              "outlinewidth": 0,
              "ticks": ""
             }
            },
            "type": "parcoords"
           }
          ],
          "pie": [
           {
            "automargin": true,
            "type": "pie"
           }
          ],
          "scatter": [
           {
            "marker": {
             "colorbar": {
              "outlinewidth": 0,
              "ticks": ""
             }
            },
            "type": "scatter"
           }
          ],
          "scatter3d": [
           {
            "line": {
             "colorbar": {
              "outlinewidth": 0,
              "ticks": ""
             }
            },
            "marker": {
             "colorbar": {
              "outlinewidth": 0,
              "ticks": ""
             }
            },
            "type": "scatter3d"
           }
          ],
          "scattercarpet": [
           {
            "marker": {
             "colorbar": {
              "outlinewidth": 0,
              "ticks": ""
             }
            },
            "type": "scattercarpet"
           }
          ],
          "scattergeo": [
           {
            "marker": {
             "colorbar": {
              "outlinewidth": 0,
              "ticks": ""
             }
            },
            "type": "scattergeo"
           }
          ],
          "scattergl": [
           {
            "marker": {
             "colorbar": {
              "outlinewidth": 0,
              "ticks": ""
             }
            },
            "type": "scattergl"
           }
          ],
          "scattermapbox": [
           {
            "marker": {
             "colorbar": {
              "outlinewidth": 0,
              "ticks": ""
             }
            },
            "type": "scattermapbox"
           }
          ],
          "scatterpolar": [
           {
            "marker": {
             "colorbar": {
              "outlinewidth": 0,
              "ticks": ""
             }
            },
            "type": "scatterpolar"
           }
          ],
          "scatterpolargl": [
           {
            "marker": {
             "colorbar": {
              "outlinewidth": 0,
              "ticks": ""
             }
            },
            "type": "scatterpolargl"
           }
          ],
          "scatterternary": [
           {
            "marker": {
             "colorbar": {
              "outlinewidth": 0,
              "ticks": ""
             }
            },
            "type": "scatterternary"
           }
          ],
          "surface": [
           {
            "colorbar": {
             "outlinewidth": 0,
             "ticks": ""
            },
            "colorscale": [
             [
              0,
              "#0d0887"
             ],
             [
              0.1111111111111111,
              "#46039f"
             ],
             [
              0.2222222222222222,
              "#7201a8"
             ],
             [
              0.3333333333333333,
              "#9c179e"
             ],
             [
              0.4444444444444444,
              "#bd3786"
             ],
             [
              0.5555555555555556,
              "#d8576b"
             ],
             [
              0.6666666666666666,
              "#ed7953"
             ],
             [
              0.7777777777777778,
              "#fb9f3a"
             ],
             [
              0.8888888888888888,
              "#fdca26"
             ],
             [
              1,
              "#f0f921"
             ]
            ],
            "type": "surface"
           }
          ],
          "table": [
           {
            "cells": {
             "fill": {
              "color": "#EBF0F8"
             },
             "line": {
              "color": "white"
             }
            },
            "header": {
             "fill": {
              "color": "#C8D4E3"
             },
             "line": {
              "color": "white"
             }
            },
            "type": "table"
           }
          ]
         },
         "layout": {
          "annotationdefaults": {
           "arrowcolor": "#2a3f5f",
           "arrowhead": 0,
           "arrowwidth": 1
          },
          "autotypenumbers": "strict",
          "coloraxis": {
           "colorbar": {
            "outlinewidth": 0,
            "ticks": ""
           }
          },
          "colorscale": {
           "diverging": [
            [
             0,
             "#8e0152"
            ],
            [
             0.1,
             "#c51b7d"
            ],
            [
             0.2,
             "#de77ae"
            ],
            [
             0.3,
             "#f1b6da"
            ],
            [
             0.4,
             "#fde0ef"
            ],
            [
             0.5,
             "#f7f7f7"
            ],
            [
             0.6,
             "#e6f5d0"
            ],
            [
             0.7,
             "#b8e186"
            ],
            [
             0.8,
             "#7fbc41"
            ],
            [
             0.9,
             "#4d9221"
            ],
            [
             1,
             "#276419"
            ]
           ],
           "sequential": [
            [
             0,
             "#0d0887"
            ],
            [
             0.1111111111111111,
             "#46039f"
            ],
            [
             0.2222222222222222,
             "#7201a8"
            ],
            [
             0.3333333333333333,
             "#9c179e"
            ],
            [
             0.4444444444444444,
             "#bd3786"
            ],
            [
             0.5555555555555556,
             "#d8576b"
            ],
            [
             0.6666666666666666,
             "#ed7953"
            ],
            [
             0.7777777777777778,
             "#fb9f3a"
            ],
            [
             0.8888888888888888,
             "#fdca26"
            ],
            [
             1,
             "#f0f921"
            ]
           ],
           "sequentialminus": [
            [
             0,
             "#0d0887"
            ],
            [
             0.1111111111111111,
             "#46039f"
            ],
            [
             0.2222222222222222,
             "#7201a8"
            ],
            [
             0.3333333333333333,
             "#9c179e"
            ],
            [
             0.4444444444444444,
             "#bd3786"
            ],
            [
             0.5555555555555556,
             "#d8576b"
            ],
            [
             0.6666666666666666,
             "#ed7953"
            ],
            [
             0.7777777777777778,
             "#fb9f3a"
            ],
            [
             0.8888888888888888,
             "#fdca26"
            ],
            [
             1,
             "#f0f921"
            ]
           ]
          },
          "colorway": [
           "#636efa",
           "#EF553B",
           "#00cc96",
           "#ab63fa",
           "#FFA15A",
           "#19d3f3",
           "#FF6692",
           "#B6E880",
           "#FF97FF",
           "#FECB52"
          ],
          "font": {
           "color": "#2a3f5f"
          },
          "geo": {
           "bgcolor": "white",
           "lakecolor": "white",
           "landcolor": "#E5ECF6",
           "showlakes": true,
           "showland": true,
           "subunitcolor": "white"
          },
          "hoverlabel": {
           "align": "left"
          },
          "hovermode": "closest",
          "mapbox": {
           "style": "light"
          },
          "paper_bgcolor": "white",
          "plot_bgcolor": "#E5ECF6",
          "polar": {
           "angularaxis": {
            "gridcolor": "white",
            "linecolor": "white",
            "ticks": ""
           },
           "bgcolor": "#E5ECF6",
           "radialaxis": {
            "gridcolor": "white",
            "linecolor": "white",
            "ticks": ""
           }
          },
          "scene": {
           "xaxis": {
            "backgroundcolor": "#E5ECF6",
            "gridcolor": "white",
            "gridwidth": 2,
            "linecolor": "white",
            "showbackground": true,
            "ticks": "",
            "zerolinecolor": "white"
           },
           "yaxis": {
            "backgroundcolor": "#E5ECF6",
            "gridcolor": "white",
            "gridwidth": 2,
            "linecolor": "white",
            "showbackground": true,
            "ticks": "",
            "zerolinecolor": "white"
           },
           "zaxis": {
            "backgroundcolor": "#E5ECF6",
            "gridcolor": "white",
            "gridwidth": 2,
            "linecolor": "white",
            "showbackground": true,
            "ticks": "",
            "zerolinecolor": "white"
           }
          },
          "shapedefaults": {
           "line": {
            "color": "#2a3f5f"
           }
          },
          "ternary": {
           "aaxis": {
            "gridcolor": "white",
            "linecolor": "white",
            "ticks": ""
           },
           "baxis": {
            "gridcolor": "white",
            "linecolor": "white",
            "ticks": ""
           },
           "bgcolor": "#E5ECF6",
           "caxis": {
            "gridcolor": "white",
            "linecolor": "white",
            "ticks": ""
           }
          },
          "title": {
           "x": 0.05
          },
          "xaxis": {
           "automargin": true,
           "gridcolor": "white",
           "linecolor": "white",
           "ticks": "",
           "title": {
            "standoff": 15
           },
           "zerolinecolor": "white",
           "zerolinewidth": 2
          },
          "yaxis": {
           "automargin": true,
           "gridcolor": "white",
           "linecolor": "white",
           "ticks": "",
           "title": {
            "standoff": 15
           },
           "zerolinecolor": "white",
           "zerolinewidth": 2
          }
         }
        },
        "width": 600,
        "xaxis": {
         "title": {
          "text": "Trade volume change ($)"
         }
        },
        "yaxis": {
         "title": {
          "text": "Product"
         }
        }
       }
      }
     },
     "metadata": {},
     "output_type": "display_data"
    }
   ],
   "source": [
    "fig = go.Figure()\n",
    "fig.add_trace(go.Scatter(\n",
    "    x=product_new[\"Total 2019\"],\n",
    "    y=product_new[\"Product\"],\n",
    "    opacity=0.5,\n",
    "    marker=dict(color=\"crimson\", size=12),\n",
    "    mode=\"markers\",\n",
    "    name=\"Export\",\n",
    "))\n",
    "\n",
    "fig.add_trace(go.Scatter(\n",
    "    x=product_new[\"Import change\"],\n",
    "    y=product_new[\"Product\"],\n",
    "    opacity=0.5,\n",
    "    marker=dict(color=\"gold\", size=12),\n",
    "    mode=\"markers\",\n",
    "    name=\"Import\",\n",
    "))\n",
    "fig.update_layout(\n",
    "    width=600)\n",
    "\n",
    "fig.update_layout(\n",
    "                  xaxis_title=\"Trade volume change ($)\",\n",
    "                  yaxis_title=\"Product\")\n"
   ]
  }
 ],
 "metadata": {
  "interpreter": {
   "hash": "9d272364d79b62684f606616d6bd0931b0e79fea14278e158a233ed96157505c"
  },
  "kernelspec": {
   "display_name": "Python 3.8.8 ('base')",
   "language": "python",
   "name": "python3"
  },
  "language_info": {
   "codemirror_mode": {
    "name": "ipython",
    "version": 3
   },
   "file_extension": ".py",
   "mimetype": "text/x-python",
   "name": "python",
   "nbconvert_exporter": "python",
   "pygments_lexer": "ipython3",
   "version": "3.8.8"
  },
  "orig_nbformat": 4
 },
 "nbformat": 4,
 "nbformat_minor": 2
}
