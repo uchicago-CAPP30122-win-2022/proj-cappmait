{
 "cells": [
  {
   "cell_type": "code",
   "execution_count": 16,
   "metadata": {},
   "outputs": [],
   "source": [
    "import pandas as pd\n",
    "import plotly.express as px\n",
    "import plotly.graph_objects as go\n",
    "import os"
   ]
  },
  {
   "cell_type": "code",
   "execution_count": 19,
   "metadata": {},
   "outputs": [
    {
     "data": {
      "text/plain": [
       "'/Users/ayakowatanabe/Documents/Harris Lecture/1year_Winter/CAPP30122/proj-cappmait/proj-cappmait/'"
      ]
     },
     "execution_count": 19,
     "metadata": {},
     "output_type": "execute_result"
    }
   ],
   "source": [
    "path = os.path.abspath('')\n",
    "path = path.replace(\"exploratory\", \"\")\n",
    "path"
   ]
  },
  {
   "cell_type": "code",
   "execution_count": 20,
   "metadata": {},
   "outputs": [
    {
     "data": {
      "text/html": [
       "<div>\n",
       "<style scoped>\n",
       "    .dataframe tbody tr th:only-of-type {\n",
       "        vertical-align: middle;\n",
       "    }\n",
       "\n",
       "    .dataframe tbody tr th {\n",
       "        vertical-align: top;\n",
       "    }\n",
       "\n",
       "    .dataframe thead th {\n",
       "        text-align: right;\n",
       "    }\n",
       "</style>\n",
       "<table border=\"1\" class=\"dataframe\">\n",
       "  <thead>\n",
       "    <tr style=\"text-align: right;\">\n",
       "      <th></th>\n",
       "      <th>Indicator</th>\n",
       "      <th>ReporterCode</th>\n",
       "      <th>ReporterISO3A</th>\n",
       "      <th>Reporter</th>\n",
       "      <th>ProductCode</th>\n",
       "      <th>Product</th>\n",
       "      <th>Year</th>\n",
       "      <th>Value</th>\n",
       "    </tr>\n",
       "  </thead>\n",
       "  <tbody>\n",
       "    <tr>\n",
       "      <th>0</th>\n",
       "      <td>Import</td>\n",
       "      <td>012</td>\n",
       "      <td>DZA</td>\n",
       "      <td>Algeria</td>\n",
       "      <td>AG</td>\n",
       "      <td>Agricultural products</td>\n",
       "      <td>2019</td>\n",
       "      <td>8294</td>\n",
       "    </tr>\n",
       "    <tr>\n",
       "      <th>1</th>\n",
       "      <td>Import</td>\n",
       "      <td>566</td>\n",
       "      <td>NGA</td>\n",
       "      <td>Nigeria</td>\n",
       "      <td>AG</td>\n",
       "      <td>Agricultural products</td>\n",
       "      <td>2020</td>\n",
       "      <td>8567</td>\n",
       "    </tr>\n",
       "    <tr>\n",
       "      <th>2</th>\n",
       "      <td>Import</td>\n",
       "      <td>270</td>\n",
       "      <td>GMB</td>\n",
       "      <td>The Gambia</td>\n",
       "      <td>AG</td>\n",
       "      <td>Agricultural products</td>\n",
       "      <td>2020</td>\n",
       "      <td>162</td>\n",
       "    </tr>\n",
       "    <tr>\n",
       "      <th>3</th>\n",
       "      <td>Import</td>\n",
       "      <td>356</td>\n",
       "      <td>IND</td>\n",
       "      <td>India</td>\n",
       "      <td>AG</td>\n",
       "      <td>Agricultural products</td>\n",
       "      <td>2020</td>\n",
       "      <td>26188</td>\n",
       "    </tr>\n",
       "    <tr>\n",
       "      <th>4</th>\n",
       "      <td>Import</td>\n",
       "      <td>372</td>\n",
       "      <td>IRL</td>\n",
       "      <td>Ireland</td>\n",
       "      <td>AG</td>\n",
       "      <td>Agricultural products</td>\n",
       "      <td>2020</td>\n",
       "      <td>11318</td>\n",
       "    </tr>\n",
       "  </tbody>\n",
       "</table>\n",
       "</div>"
      ],
      "text/plain": [
       "  Indicator ReporterCode ReporterISO3A    Reporter ProductCode  \\\n",
       "0    Import          012           DZA     Algeria          AG   \n",
       "1    Import          566           NGA     Nigeria          AG   \n",
       "2    Import          270           GMB  The Gambia          AG   \n",
       "3    Import          356           IND       India          AG   \n",
       "4    Import          372           IRL     Ireland          AG   \n",
       "\n",
       "                 Product  Year  Value  \n",
       "0  Agricultural products  2019   8294  \n",
       "1  Agricultural products  2020   8567  \n",
       "2  Agricultural products  2020    162  \n",
       "3  Agricultural products  2020  26188  \n",
       "4  Agricultural products  2020  11318  "
      ]
     },
     "execution_count": 20,
     "metadata": {},
     "output_type": "execute_result"
    }
   ],
   "source": [
    "product = pd.read_csv(path + \"rawdata/merchandise_values_annual_dataset.csv\", dtype=\"category\")\n",
    "product[\"Value\"] = pd.to_numeric(product[\"Value\"])\n",
    "product = product[product[\"ProductCode\"] != \"TO\"]\n",
    "product.head()"
   ]
  },
  {
   "cell_type": "code",
   "execution_count": 21,
   "metadata": {},
   "outputs": [
    {
     "data": {
      "text/plain": [
       "Indicator        category\n",
       "ReporterCode     category\n",
       "ReporterISO3A    category\n",
       "Reporter         category\n",
       "ProductCode      category\n",
       "Product          category\n",
       "Year             category\n",
       "Value               int64\n",
       "dtype: object"
      ]
     },
     "execution_count": 21,
     "metadata": {},
     "output_type": "execute_result"
    }
   ],
   "source": [
    "product = product[product[\"Reporter\"] == \"Japan\"]\n",
    "product.head()\n",
    "product.dtypes"
   ]
  },
  {
   "cell_type": "code",
   "execution_count": 22,
   "metadata": {},
   "outputs": [
    {
     "data": {
      "application/vnd.plotly.v1+json": {
       "config": {
        "plotlyServerURL": "https://plot.ly"
       },
       "data": [
        {
         "branchvalues": "total",
         "domain": {
          "x": [
           0,
           1
          ],
          "y": [
           0,
           1
          ]
         },
         "hovertemplate": "labels=%{label}<br>Value=%{value}<br>parent=%{parent}<br>id=%{id}<extra></extra>",
         "ids": [
          "Total/Export/2019/Agricultural products",
          "Total/Import/2019/Agricultural products",
          "Total/Export/2020/Agricultural products",
          "Total/Import/2020/Agricultural products",
          "Total/Export/2019/Automotive products",
          "Total/Import/2019/Automotive products",
          "Total/Export/2020/Automotive products",
          "Total/Import/2020/Automotive products",
          "Total/Export/2019/Chemicals",
          "Total/Import/2019/Chemicals",
          "Total/Export/2020/Chemicals",
          "Total/Import/2020/Chemicals",
          "Total/Export/2019/Clothing",
          "Total/Import/2019/Clothing",
          "Total/Export/2020/Clothing",
          "Total/Import/2020/Clothing",
          "Total/Export/2019/Electronic data processing and office equipment",
          "Total/Import/2019/Electronic data processing and office equipment",
          "Total/Export/2020/Electronic data processing and office equipment",
          "Total/Import/2020/Electronic data processing and office equipment",
          "Total/Export/2019/Food",
          "Total/Import/2019/Food",
          "Total/Export/2020/Food",
          "Total/Import/2020/Food",
          "Total/Export/2019/Fuels",
          "Total/Import/2019/Fuels",
          "Total/Export/2020/Fuels",
          "Total/Import/2020/Fuels",
          "Total/Export/2019/Fuels and mining products",
          "Total/Import/2019/Fuels and mining products",
          "Total/Export/2020/Fuels and mining products",
          "Total/Import/2020/Fuels and mining products",
          "Total/Export/2019/Integrated circuits and electronic components",
          "Total/Import/2019/Integrated circuits and electronic components",
          "Total/Export/2020/Integrated circuits and electronic components",
          "Total/Import/2020/Integrated circuits and electronic components",
          "Total/Export/2019/Iron and steel",
          "Total/Import/2019/Iron and steel",
          "Total/Export/2020/Iron and steel",
          "Total/Import/2020/Iron and steel",
          "Total/Export/2019/Machinery and transport equipment",
          "Total/Import/2019/Machinery and transport equipment",
          "Total/Export/2020/Machinery and transport equipment",
          "Total/Import/2020/Machinery and transport equipment",
          "Total/Export/2019/Manufactures",
          "Total/Import/2019/Manufactures",
          "Total/Export/2020/Manufactures",
          "Total/Import/2020/Manufactures",
          "Total/Export/2019/Office and telecom equipment",
          "Total/Import/2019/Office and telecom equipment",
          "Total/Export/2020/Office and telecom equipment",
          "Total/Import/2020/Office and telecom equipment",
          "Total/Export/2019/Pharmaceuticals",
          "Total/Import/2019/Pharmaceuticals",
          "Total/Export/2020/Pharmaceuticals",
          "Total/Import/2020/Pharmaceuticals",
          "Total/Export/2019/Telecommunications equipment",
          "Total/Import/2019/Telecommunications equipment",
          "Total/Export/2020/Telecommunications equipment",
          "Total/Import/2020/Telecommunications equipment",
          "Total/Export/2019/Textiles",
          "Total/Import/2019/Textiles",
          "Total/Export/2020/Textiles",
          "Total/Import/2020/Textiles",
          "Total/Export/2019/Total merchandise",
          "Total/Import/2019/Total merchandise",
          "Total/Export/2020/Total merchandise",
          "Total/Import/2020/Total merchandise",
          "Total/Export/2019/Transport equipment",
          "Total/Import/2019/Transport equipment",
          "Total/Export/2020/Transport equipment",
          "Total/Import/2020/Transport equipment",
          "Total/Export/2019",
          "Total/Import/2019",
          "Total/Export/2020",
          "Total/Import/2020",
          "Total/Export",
          "Total/Import",
          "Total"
         ],
         "labels": [
          "Agricultural products",
          "Agricultural products",
          "Agricultural products",
          "Agricultural products",
          "Automotive products",
          "Automotive products",
          "Automotive products",
          "Automotive products",
          "Chemicals",
          "Chemicals",
          "Chemicals",
          "Chemicals",
          "Clothing",
          "Clothing",
          "Clothing",
          "Clothing",
          "Electronic data processing and office equipment",
          "Electronic data processing and office equipment",
          "Electronic data processing and office equipment",
          "Electronic data processing and office equipment",
          "Food",
          "Food",
          "Food",
          "Food",
          "Fuels",
          "Fuels",
          "Fuels",
          "Fuels",
          "Fuels and mining products",
          "Fuels and mining products",
          "Fuels and mining products",
          "Fuels and mining products",
          "Integrated circuits and electronic components",
          "Integrated circuits and electronic components",
          "Integrated circuits and electronic components",
          "Integrated circuits and electronic components",
          "Iron and steel",
          "Iron and steel",
          "Iron and steel",
          "Iron and steel",
          "Machinery and transport equipment",
          "Machinery and transport equipment",
          "Machinery and transport equipment",
          "Machinery and transport equipment",
          "Manufactures",
          "Manufactures",
          "Manufactures",
          "Manufactures",
          "Office and telecom equipment",
          "Office and telecom equipment",
          "Office and telecom equipment",
          "Office and telecom equipment",
          "Pharmaceuticals",
          "Pharmaceuticals",
          "Pharmaceuticals",
          "Pharmaceuticals",
          "Telecommunications equipment",
          "Telecommunications equipment",
          "Telecommunications equipment",
          "Telecommunications equipment",
          "Textiles",
          "Textiles",
          "Textiles",
          "Textiles",
          "Total merchandise",
          "Total merchandise",
          "Total merchandise",
          "Total merchandise",
          "Transport equipment",
          "Transport equipment",
          "Transport equipment",
          "Transport equipment",
          "2019",
          "2019",
          "2020",
          "2020",
          "Export",
          "Import",
          "Total"
         ],
         "name": "",
         "parents": [
          "Total/Export/2019",
          "Total/Import/2019",
          "Total/Export/2020",
          "Total/Import/2020",
          "Total/Export/2019",
          "Total/Import/2019",
          "Total/Export/2020",
          "Total/Import/2020",
          "Total/Export/2019",
          "Total/Import/2019",
          "Total/Export/2020",
          "Total/Import/2020",
          "Total/Export/2019",
          "Total/Import/2019",
          "Total/Export/2020",
          "Total/Import/2020",
          "Total/Export/2019",
          "Total/Import/2019",
          "Total/Export/2020",
          "Total/Import/2020",
          "Total/Export/2019",
          "Total/Import/2019",
          "Total/Export/2020",
          "Total/Import/2020",
          "Total/Export/2019",
          "Total/Import/2019",
          "Total/Export/2020",
          "Total/Import/2020",
          "Total/Export/2019",
          "Total/Import/2019",
          "Total/Export/2020",
          "Total/Import/2020",
          "Total/Export/2019",
          "Total/Import/2019",
          "Total/Export/2020",
          "Total/Import/2020",
          "Total/Export/2019",
          "Total/Import/2019",
          "Total/Export/2020",
          "Total/Import/2020",
          "Total/Export/2019",
          "Total/Import/2019",
          "Total/Export/2020",
          "Total/Import/2020",
          "Total/Export/2019",
          "Total/Import/2019",
          "Total/Export/2020",
          "Total/Import/2020",
          "Total/Export/2019",
          "Total/Import/2019",
          "Total/Export/2020",
          "Total/Import/2020",
          "Total/Export/2019",
          "Total/Import/2019",
          "Total/Export/2020",
          "Total/Import/2020",
          "Total/Export/2019",
          "Total/Import/2019",
          "Total/Export/2020",
          "Total/Import/2020",
          "Total/Export/2019",
          "Total/Import/2019",
          "Total/Export/2020",
          "Total/Import/2020",
          "Total/Export/2019",
          "Total/Import/2019",
          "Total/Export/2020",
          "Total/Import/2020",
          "Total/Export/2019",
          "Total/Import/2019",
          "Total/Export/2020",
          "Total/Import/2020",
          "Total/Export",
          "Total/Import",
          "Total/Export",
          "Total/Import",
          "Total",
          "Total",
          ""
         ],
         "type": "treemap",
         "values": [
          11611,
          82636,
          11633,
          76865,
          152379,
          23484,
          124677,
          19043,
          78604,
          74450,
          78938,
          72643,
          714,
          29761,
          698,
          26265,
          15742,
          30095,
          14219,
          31026,
          7173,
          70803,
          7664,
          67255,
          14011,
          155621,
          7627,
          105481,
          31104,
          201620,
          27682,
          151774,
          39158,
          25065,
          40652,
          24919,
          28196,
          8697,
          24129,
          6611,
          411202,
          204575,
          364600,
          190237,
          611026,
          424364,
          552253,
          395216,
          62064,
          89646,
          60890,
          90640,
          6688,
          28126,
          7805,
          29391,
          7165,
          34487,
          6019,
          34694,
          6585,
          8830,
          5645,
          11806,
          0,
          0,
          0,
          0,
          188412,
          37618,
          153697,
          28047,
          1671834,
          1529878,
          1488828,
          1361913,
          3160662,
          2891791,
          6052453
         ]
        }
       ],
       "layout": {
        "legend": {
         "tracegroupgap": 0
        },
        "margin": {
         "t": 60
        },
        "template": {
         "data": {
          "bar": [
           {
            "error_x": {
             "color": "#2a3f5f"
            },
            "error_y": {
             "color": "#2a3f5f"
            },
            "marker": {
             "line": {
              "color": "#E5ECF6",
              "width": 0.5
             },
             "pattern": {
              "fillmode": "overlay",
              "size": 10,
              "solidity": 0.2
             }
            },
            "type": "bar"
           }
          ],
          "barpolar": [
           {
            "marker": {
             "line": {
              "color": "#E5ECF6",
              "width": 0.5
             },
             "pattern": {
              "fillmode": "overlay",
              "size": 10,
              "solidity": 0.2
             }
            },
            "type": "barpolar"
           }
          ],
          "carpet": [
           {
            "aaxis": {
             "endlinecolor": "#2a3f5f",
             "gridcolor": "white",
             "linecolor": "white",
             "minorgridcolor": "white",
             "startlinecolor": "#2a3f5f"
            },
            "baxis": {
             "endlinecolor": "#2a3f5f",
             "gridcolor": "white",
             "linecolor": "white",
             "minorgridcolor": "white",
             "startlinecolor": "#2a3f5f"
            },
            "type": "carpet"
           }
          ],
          "choropleth": [
           {
            "colorbar": {
             "outlinewidth": 0,
             "ticks": ""
            },
            "type": "choropleth"
           }
          ],
          "contour": [
           {
            "colorbar": {
             "outlinewidth": 0,
             "ticks": ""
            },
            "colorscale": [
             [
              0,
              "#0d0887"
             ],
             [
              0.1111111111111111,
              "#46039f"
             ],
             [
              0.2222222222222222,
              "#7201a8"
             ],
             [
              0.3333333333333333,
              "#9c179e"
             ],
             [
              0.4444444444444444,
              "#bd3786"
             ],
             [
              0.5555555555555556,
              "#d8576b"
             ],
             [
              0.6666666666666666,
              "#ed7953"
             ],
             [
              0.7777777777777778,
              "#fb9f3a"
             ],
             [
              0.8888888888888888,
              "#fdca26"
             ],
             [
              1,
              "#f0f921"
             ]
            ],
            "type": "contour"
           }
          ],
          "contourcarpet": [
           {
            "colorbar": {
             "outlinewidth": 0,
             "ticks": ""
            },
            "type": "contourcarpet"
           }
          ],
          "heatmap": [
           {
            "colorbar": {
             "outlinewidth": 0,
             "ticks": ""
            },
            "colorscale": [
             [
              0,
              "#0d0887"
             ],
             [
              0.1111111111111111,
              "#46039f"
             ],
             [
              0.2222222222222222,
              "#7201a8"
             ],
             [
              0.3333333333333333,
              "#9c179e"
             ],
             [
              0.4444444444444444,
              "#bd3786"
             ],
             [
              0.5555555555555556,
              "#d8576b"
             ],
             [
              0.6666666666666666,
              "#ed7953"
             ],
             [
              0.7777777777777778,
              "#fb9f3a"
             ],
             [
              0.8888888888888888,
              "#fdca26"
             ],
             [
              1,
              "#f0f921"
             ]
            ],
            "type": "heatmap"
           }
          ],
          "heatmapgl": [
           {
            "colorbar": {
             "outlinewidth": 0,
             "ticks": ""
            },
            "colorscale": [
             [
              0,
              "#0d0887"
             ],
             [
              0.1111111111111111,
              "#46039f"
             ],
             [
              0.2222222222222222,
              "#7201a8"
             ],
             [
              0.3333333333333333,
              "#9c179e"
             ],
             [
              0.4444444444444444,
              "#bd3786"
             ],
             [
              0.5555555555555556,
              "#d8576b"
             ],
             [
              0.6666666666666666,
              "#ed7953"
             ],
             [
              0.7777777777777778,
              "#fb9f3a"
             ],
             [
              0.8888888888888888,
              "#fdca26"
             ],
             [
              1,
              "#f0f921"
             ]
            ],
            "type": "heatmapgl"
           }
          ],
          "histogram": [
           {
            "marker": {
             "pattern": {
              "fillmode": "overlay",
              "size": 10,
              "solidity": 0.2
             }
            },
            "type": "histogram"
           }
          ],
          "histogram2d": [
           {
            "colorbar": {
             "outlinewidth": 0,
             "ticks": ""
            },
            "colorscale": [
             [
              0,
              "#0d0887"
             ],
             [
              0.1111111111111111,
              "#46039f"
             ],
             [
              0.2222222222222222,
              "#7201a8"
             ],
             [
              0.3333333333333333,
              "#9c179e"
             ],
             [
              0.4444444444444444,
              "#bd3786"
             ],
             [
              0.5555555555555556,
              "#d8576b"
             ],
             [
              0.6666666666666666,
              "#ed7953"
             ],
             [
              0.7777777777777778,
              "#fb9f3a"
             ],
             [
              0.8888888888888888,
              "#fdca26"
             ],
             [
              1,
              "#f0f921"
             ]
            ],
            "type": "histogram2d"
           }
          ],
          "histogram2dcontour": [
           {
            "colorbar": {
             "outlinewidth": 0,
             "ticks": ""
            },
            "colorscale": [
             [
              0,
              "#0d0887"
             ],
             [
              0.1111111111111111,
              "#46039f"
             ],
             [
              0.2222222222222222,
              "#7201a8"
             ],
             [
              0.3333333333333333,
              "#9c179e"
             ],
             [
              0.4444444444444444,
              "#bd3786"
             ],
             [
              0.5555555555555556,
              "#d8576b"
             ],
             [
              0.6666666666666666,
              "#ed7953"
             ],
             [
              0.7777777777777778,
              "#fb9f3a"
             ],
             [
              0.8888888888888888,
              "#fdca26"
             ],
             [
              1,
              "#f0f921"
             ]
            ],
            "type": "histogram2dcontour"
           }
          ],
          "mesh3d": [
           {
            "colorbar": {
             "outlinewidth": 0,
             "ticks": ""
            },
            "type": "mesh3d"
           }
          ],
          "parcoords": [
           {
            "line": {
             "colorbar": {
              "outlinewidth": 0,
              "ticks": ""
             }
            },
            "type": "parcoords"
           }
          ],
          "pie": [
           {
            "automargin": true,
            "type": "pie"
           }
          ],
          "scatter": [
           {
            "marker": {
             "colorbar": {
              "outlinewidth": 0,
              "ticks": ""
             }
            },
            "type": "scatter"
           }
          ],
          "scatter3d": [
           {
            "line": {
             "colorbar": {
              "outlinewidth": 0,
              "ticks": ""
             }
            },
            "marker": {
             "colorbar": {
              "outlinewidth": 0,
              "ticks": ""
             }
            },
            "type": "scatter3d"
           }
          ],
          "scattercarpet": [
           {
            "marker": {
             "colorbar": {
              "outlinewidth": 0,
              "ticks": ""
             }
            },
            "type": "scattercarpet"
           }
          ],
          "scattergeo": [
           {
            "marker": {
             "colorbar": {
              "outlinewidth": 0,
              "ticks": ""
             }
            },
            "type": "scattergeo"
           }
          ],
          "scattergl": [
           {
            "marker": {
             "colorbar": {
              "outlinewidth": 0,
              "ticks": ""
             }
            },
            "type": "scattergl"
           }
          ],
          "scattermapbox": [
           {
            "marker": {
             "colorbar": {
              "outlinewidth": 0,
              "ticks": ""
             }
            },
            "type": "scattermapbox"
           }
          ],
          "scatterpolar": [
           {
            "marker": {
             "colorbar": {
              "outlinewidth": 0,
              "ticks": ""
             }
            },
            "type": "scatterpolar"
           }
          ],
          "scatterpolargl": [
           {
            "marker": {
             "colorbar": {
              "outlinewidth": 0,
              "ticks": ""
             }
            },
            "type": "scatterpolargl"
           }
          ],
          "scatterternary": [
           {
            "marker": {
             "colorbar": {
              "outlinewidth": 0,
              "ticks": ""
             }
            },
            "type": "scatterternary"
           }
          ],
          "surface": [
           {
            "colorbar": {
             "outlinewidth": 0,
             "ticks": ""
            },
            "colorscale": [
             [
              0,
              "#0d0887"
             ],
             [
              0.1111111111111111,
              "#46039f"
             ],
             [
              0.2222222222222222,
              "#7201a8"
             ],
             [
              0.3333333333333333,
              "#9c179e"
             ],
             [
              0.4444444444444444,
              "#bd3786"
             ],
             [
              0.5555555555555556,
              "#d8576b"
             ],
             [
              0.6666666666666666,
              "#ed7953"
             ],
             [
              0.7777777777777778,
              "#fb9f3a"
             ],
             [
              0.8888888888888888,
              "#fdca26"
             ],
             [
              1,
              "#f0f921"
             ]
            ],
            "type": "surface"
           }
          ],
          "table": [
           {
            "cells": {
             "fill": {
              "color": "#EBF0F8"
             },
             "line": {
              "color": "white"
             }
            },
            "header": {
             "fill": {
              "color": "#C8D4E3"
             },
             "line": {
              "color": "white"
             }
            },
            "type": "table"
           }
          ]
         },
         "layout": {
          "annotationdefaults": {
           "arrowcolor": "#2a3f5f",
           "arrowhead": 0,
           "arrowwidth": 1
          },
          "autotypenumbers": "strict",
          "coloraxis": {
           "colorbar": {
            "outlinewidth": 0,
            "ticks": ""
           }
          },
          "colorscale": {
           "diverging": [
            [
             0,
             "#8e0152"
            ],
            [
             0.1,
             "#c51b7d"
            ],
            [
             0.2,
             "#de77ae"
            ],
            [
             0.3,
             "#f1b6da"
            ],
            [
             0.4,
             "#fde0ef"
            ],
            [
             0.5,
             "#f7f7f7"
            ],
            [
             0.6,
             "#e6f5d0"
            ],
            [
             0.7,
             "#b8e186"
            ],
            [
             0.8,
             "#7fbc41"
            ],
            [
             0.9,
             "#4d9221"
            ],
            [
             1,
             "#276419"
            ]
           ],
           "sequential": [
            [
             0,
             "#0d0887"
            ],
            [
             0.1111111111111111,
             "#46039f"
            ],
            [
             0.2222222222222222,
             "#7201a8"
            ],
            [
             0.3333333333333333,
             "#9c179e"
            ],
            [
             0.4444444444444444,
             "#bd3786"
            ],
            [
             0.5555555555555556,
             "#d8576b"
            ],
            [
             0.6666666666666666,
             "#ed7953"
            ],
            [
             0.7777777777777778,
             "#fb9f3a"
            ],
            [
             0.8888888888888888,
             "#fdca26"
            ],
            [
             1,
             "#f0f921"
            ]
           ],
           "sequentialminus": [
            [
             0,
             "#0d0887"
            ],
            [
             0.1111111111111111,
             "#46039f"
            ],
            [
             0.2222222222222222,
             "#7201a8"
            ],
            [
             0.3333333333333333,
             "#9c179e"
            ],
            [
             0.4444444444444444,
             "#bd3786"
            ],
            [
             0.5555555555555556,
             "#d8576b"
            ],
            [
             0.6666666666666666,
             "#ed7953"
            ],
            [
             0.7777777777777778,
             "#fb9f3a"
            ],
            [
             0.8888888888888888,
             "#fdca26"
            ],
            [
             1,
             "#f0f921"
            ]
           ]
          },
          "colorway": [
           "#636efa",
           "#EF553B",
           "#00cc96",
           "#ab63fa",
           "#FFA15A",
           "#19d3f3",
           "#FF6692",
           "#B6E880",
           "#FF97FF",
           "#FECB52"
          ],
          "font": {
           "color": "#2a3f5f"
          },
          "geo": {
           "bgcolor": "white",
           "lakecolor": "white",
           "landcolor": "#E5ECF6",
           "showlakes": true,
           "showland": true,
           "subunitcolor": "white"
          },
          "hoverlabel": {
           "align": "left"
          },
          "hovermode": "closest",
          "mapbox": {
           "style": "light"
          },
          "paper_bgcolor": "white",
          "plot_bgcolor": "#E5ECF6",
          "polar": {
           "angularaxis": {
            "gridcolor": "white",
            "linecolor": "white",
            "ticks": ""
           },
           "bgcolor": "#E5ECF6",
           "radialaxis": {
            "gridcolor": "white",
            "linecolor": "white",
            "ticks": ""
           }
          },
          "scene": {
           "xaxis": {
            "backgroundcolor": "#E5ECF6",
            "gridcolor": "white",
            "gridwidth": 2,
            "linecolor": "white",
            "showbackground": true,
            "ticks": "",
            "zerolinecolor": "white"
           },
           "yaxis": {
            "backgroundcolor": "#E5ECF6",
            "gridcolor": "white",
            "gridwidth": 2,
            "linecolor": "white",
            "showbackground": true,
            "ticks": "",
            "zerolinecolor": "white"
           },
           "zaxis": {
            "backgroundcolor": "#E5ECF6",
            "gridcolor": "white",
            "gridwidth": 2,
            "linecolor": "white",
            "showbackground": true,
            "ticks": "",
            "zerolinecolor": "white"
           }
          },
          "shapedefaults": {
           "line": {
            "color": "#2a3f5f"
           }
          },
          "ternary": {
           "aaxis": {
            "gridcolor": "white",
            "linecolor": "white",
            "ticks": ""
           },
           "baxis": {
            "gridcolor": "white",
            "linecolor": "white",
            "ticks": ""
           },
           "bgcolor": "#E5ECF6",
           "caxis": {
            "gridcolor": "white",
            "linecolor": "white",
            "ticks": ""
           }
          },
          "title": {
           "x": 0.05
          },
          "xaxis": {
           "automargin": true,
           "gridcolor": "white",
           "linecolor": "white",
           "ticks": "",
           "title": {
            "standoff": 15
           },
           "zerolinecolor": "white",
           "zerolinewidth": 2
          },
          "yaxis": {
           "automargin": true,
           "gridcolor": "white",
           "linecolor": "white",
           "ticks": "",
           "title": {
            "standoff": 15
           },
           "zerolinecolor": "white",
           "zerolinewidth": 2
          }
         }
        }
       }
      }
     },
     "metadata": {},
     "output_type": "display_data"
    }
   ],
   "source": [
    "fig = px.treemap(product, path=[px.Constant(\"Total\"), \"Indicator\", \"Year\", \"Product\"], values=\"Value\")\n",
    "fig.show()"
   ]
  },
  {
   "cell_type": "code",
   "execution_count": 23,
   "metadata": {},
   "outputs": [
    {
     "data": {
      "text/html": [
       "<div>\n",
       "<style scoped>\n",
       "    .dataframe tbody tr th:only-of-type {\n",
       "        vertical-align: middle;\n",
       "    }\n",
       "\n",
       "    .dataframe tbody tr th {\n",
       "        vertical-align: top;\n",
       "    }\n",
       "\n",
       "    .dataframe thead tr th {\n",
       "        text-align: left;\n",
       "    }\n",
       "</style>\n",
       "<table border=\"1\" class=\"dataframe\">\n",
       "  <thead>\n",
       "    <tr>\n",
       "      <th>Indicator</th>\n",
       "      <th>ReporterISO3A</th>\n",
       "      <th>Reporter</th>\n",
       "      <th>ProductCode</th>\n",
       "      <th>Product</th>\n",
       "      <th colspan=\"2\" halign=\"left\">Import</th>\n",
       "      <th colspan=\"2\" halign=\"left\">Export</th>\n",
       "      <th>Total 2020</th>\n",
       "      <th>Total 2019</th>\n",
       "      <th>Volume ave</th>\n",
       "      <th>Export change</th>\n",
       "      <th>Import change</th>\n",
       "    </tr>\n",
       "    <tr>\n",
       "      <th>Year</th>\n",
       "      <th></th>\n",
       "      <th></th>\n",
       "      <th></th>\n",
       "      <th></th>\n",
       "      <th>2020</th>\n",
       "      <th>2019</th>\n",
       "      <th>2020</th>\n",
       "      <th>2019</th>\n",
       "      <th></th>\n",
       "      <th></th>\n",
       "      <th></th>\n",
       "      <th></th>\n",
       "      <th></th>\n",
       "    </tr>\n",
       "  </thead>\n",
       "  <tbody>\n",
       "    <tr>\n",
       "      <th>2</th>\n",
       "      <td>JPN</td>\n",
       "      <td>Japan</td>\n",
       "      <td>MA</td>\n",
       "      <td>Manufactures</td>\n",
       "      <td>395216</td>\n",
       "      <td>424364</td>\n",
       "      <td>552253</td>\n",
       "      <td>611026</td>\n",
       "      <td>947469</td>\n",
       "      <td>1035390</td>\n",
       "      <td>473734.5</td>\n",
       "      <td>-58773</td>\n",
       "      <td>819580</td>\n",
       "    </tr>\n",
       "    <tr>\n",
       "      <th>7</th>\n",
       "      <td>JPN</td>\n",
       "      <td>Japan</td>\n",
       "      <td>MAMT</td>\n",
       "      <td>Machinery and transport equipment</td>\n",
       "      <td>190237</td>\n",
       "      <td>204575</td>\n",
       "      <td>364600</td>\n",
       "      <td>411202</td>\n",
       "      <td>554837</td>\n",
       "      <td>615777</td>\n",
       "      <td>277418.5</td>\n",
       "      <td>-46602</td>\n",
       "      <td>394812</td>\n",
       "    </tr>\n",
       "    <tr>\n",
       "      <th>13</th>\n",
       "      <td>JPN</td>\n",
       "      <td>Japan</td>\n",
       "      <td>MAMTTE</td>\n",
       "      <td>Transport equipment</td>\n",
       "      <td>28047</td>\n",
       "      <td>37618</td>\n",
       "      <td>153697</td>\n",
       "      <td>188412</td>\n",
       "      <td>181744</td>\n",
       "      <td>226030</td>\n",
       "      <td>90872.0</td>\n",
       "      <td>-34715</td>\n",
       "      <td>65665</td>\n",
       "    </tr>\n",
       "    <tr>\n",
       "      <th>15</th>\n",
       "      <td>JPN</td>\n",
       "      <td>Japan</td>\n",
       "      <td>MI</td>\n",
       "      <td>Fuels and mining products</td>\n",
       "      <td>151774</td>\n",
       "      <td>201620</td>\n",
       "      <td>27682</td>\n",
       "      <td>31104</td>\n",
       "      <td>179456</td>\n",
       "      <td>232724</td>\n",
       "      <td>89728.0</td>\n",
       "      <td>-3422</td>\n",
       "      <td>353394</td>\n",
       "    </tr>\n",
       "    <tr>\n",
       "      <th>3</th>\n",
       "      <td>JPN</td>\n",
       "      <td>Japan</td>\n",
       "      <td>MACH</td>\n",
       "      <td>Chemicals</td>\n",
       "      <td>72643</td>\n",
       "      <td>74450</td>\n",
       "      <td>78938</td>\n",
       "      <td>78604</td>\n",
       "      <td>151581</td>\n",
       "      <td>153054</td>\n",
       "      <td>75790.5</td>\n",
       "      <td>334</td>\n",
       "      <td>147093</td>\n",
       "    </tr>\n",
       "    <tr>\n",
       "      <th>9</th>\n",
       "      <td>JPN</td>\n",
       "      <td>Japan</td>\n",
       "      <td>MAMTOF</td>\n",
       "      <td>Office and telecom equipment</td>\n",
       "      <td>90640</td>\n",
       "      <td>89646</td>\n",
       "      <td>60890</td>\n",
       "      <td>62064</td>\n",
       "      <td>151530</td>\n",
       "      <td>151710</td>\n",
       "      <td>75765.0</td>\n",
       "      <td>-1174</td>\n",
       "      <td>180286</td>\n",
       "    </tr>\n",
       "    <tr>\n",
       "      <th>8</th>\n",
       "      <td>JPN</td>\n",
       "      <td>Japan</td>\n",
       "      <td>MAMTAU</td>\n",
       "      <td>Automotive products</td>\n",
       "      <td>19043</td>\n",
       "      <td>23484</td>\n",
       "      <td>124677</td>\n",
       "      <td>152379</td>\n",
       "      <td>143720</td>\n",
       "      <td>175863</td>\n",
       "      <td>71860.0</td>\n",
       "      <td>-27702</td>\n",
       "      <td>42527</td>\n",
       "    </tr>\n",
       "    <tr>\n",
       "      <th>16</th>\n",
       "      <td>JPN</td>\n",
       "      <td>Japan</td>\n",
       "      <td>MIFU</td>\n",
       "      <td>Fuels</td>\n",
       "      <td>105481</td>\n",
       "      <td>155621</td>\n",
       "      <td>7627</td>\n",
       "      <td>14011</td>\n",
       "      <td>113108</td>\n",
       "      <td>169632</td>\n",
       "      <td>56554.0</td>\n",
       "      <td>-6384</td>\n",
       "      <td>261102</td>\n",
       "    </tr>\n",
       "  </tbody>\n",
       "</table>\n",
       "</div>"
      ],
      "text/plain": [
       "Indicator ReporterISO3A Reporter ProductCode  \\\n",
       "Year                                           \n",
       "2                   JPN    Japan          MA   \n",
       "7                   JPN    Japan        MAMT   \n",
       "13                  JPN    Japan      MAMTTE   \n",
       "15                  JPN    Japan          MI   \n",
       "3                   JPN    Japan        MACH   \n",
       "9                   JPN    Japan      MAMTOF   \n",
       "8                   JPN    Japan      MAMTAU   \n",
       "16                  JPN    Japan        MIFU   \n",
       "\n",
       "Indicator                            Product  Import          Export          \\\n",
       "Year                                            2020    2019    2020    2019   \n",
       "2                               Manufactures  395216  424364  552253  611026   \n",
       "7          Machinery and transport equipment  190237  204575  364600  411202   \n",
       "13                       Transport equipment   28047   37618  153697  188412   \n",
       "15                 Fuels and mining products  151774  201620   27682   31104   \n",
       "3                                  Chemicals   72643   74450   78938   78604   \n",
       "9               Office and telecom equipment   90640   89646   60890   62064   \n",
       "8                        Automotive products   19043   23484  124677  152379   \n",
       "16                                     Fuels  105481  155621    7627   14011   \n",
       "\n",
       "Indicator Total 2020 Total 2019 Volume ave Export change Import change  \n",
       "Year                                                                    \n",
       "2             947469    1035390   473734.5        -58773        819580  \n",
       "7             554837     615777   277418.5        -46602        394812  \n",
       "13            181744     226030    90872.0        -34715         65665  \n",
       "15            179456     232724    89728.0         -3422        353394  \n",
       "3             151581     153054    75790.5           334        147093  \n",
       "9             151530     151710    75765.0         -1174        180286  \n",
       "8             143720     175863    71860.0        -27702         42527  \n",
       "16            113108     169632    56554.0         -6384        261102  "
      ]
     },
     "execution_count": 23,
     "metadata": {},
     "output_type": "execute_result"
    }
   ],
   "source": [
    "product_new = product.pivot(index=[\"ReporterISO3A\", \"Reporter\", \"ProductCode\", \"Product\"], values=\"Value\", columns=[\"Indicator\", \"Year\"]).reset_index()\n",
    "product_new[\"Total 2020\"] = (product_new[\"Import\"][\"2020\"] + product_new[\"Export\"][\"2020\"])\n",
    "product_new[\"Total 2019\"] = (product_new[\"Import\"][\"2019\"] + product_new[\"Export\"][\"2019\"])\n",
    "product_new[\"Volume ave\"] = (product_new[\"Import\"][\"2020\"] + product_new[\"Export\"][\"2020\"])/2\n",
    "product_new[\"Export change\"] = (product_new[\"Export\"][\"2020\"] - product_new[\"Export\"][\"2019\"])\n",
    "product_new[\"Import change\"] = (product_new[\"Import\"][\"2020\"] + product_new[\"Import\"][\"2019\"])\n",
    "product_new.sort_values(\"Total 2020\", ascending=False).head(8)"
   ]
  },
  {
   "cell_type": "code",
   "execution_count": 24,
   "metadata": {},
   "outputs": [
    {
     "data": {
      "application/vnd.plotly.v1+json": {
       "config": {
        "plotlyServerURL": "https://plot.ly"
       },
       "data": [
        {
         "hovertemplate": "Product=Agricultural products<br>Export change=%{x}<br>Import change=%{y}<br>Volume ave=%{marker.size}<extra></extra>",
         "legendgroup": "Agricultural products",
         "marker": {
          "color": "#636efa",
          "size": [
           44249
          ],
          "sizemode": "area",
          "sizeref": 1184.33625,
          "symbol": "circle"
         },
         "mode": "markers",
         "name": "Agricultural products",
         "orientation": "v",
         "showlegend": true,
         "textposition": "top center",
         "type": "scatter",
         "x": [
          22
         ],
         "xaxis": "x",
         "y": [
          159501
         ],
         "yaxis": "y"
        },
        {
         "hovertemplate": "Product=Food<br>Export change=%{x}<br>Import change=%{y}<br>Volume ave=%{marker.size}<extra></extra>",
         "legendgroup": "Food",
         "marker": {
          "color": "#EF553B",
          "size": [
           37459.5
          ],
          "sizemode": "area",
          "sizeref": 1184.33625,
          "symbol": "circle"
         },
         "mode": "markers",
         "name": "Food",
         "orientation": "v",
         "showlegend": true,
         "textposition": "top center",
         "type": "scatter",
         "x": [
          491
         ],
         "xaxis": "x",
         "y": [
          138058
         ],
         "yaxis": "y"
        },
        {
         "hovertemplate": "Product=Manufactures<br>Export change=%{x}<br>Import change=%{y}<br>Volume ave=%{marker.size}<extra></extra>",
         "legendgroup": "Manufactures",
         "marker": {
          "color": "#00cc96",
          "size": [
           473734.5
          ],
          "sizemode": "area",
          "sizeref": 1184.33625,
          "symbol": "circle"
         },
         "mode": "markers",
         "name": "Manufactures",
         "orientation": "v",
         "showlegend": true,
         "textposition": "top center",
         "type": "scatter",
         "x": [
          -58773
         ],
         "xaxis": "x",
         "y": [
          819580
         ],
         "yaxis": "y"
        },
        {
         "hovertemplate": "Product=Chemicals<br>Export change=%{x}<br>Import change=%{y}<br>Volume ave=%{marker.size}<extra></extra>",
         "legendgroup": "Chemicals",
         "marker": {
          "color": "#ab63fa",
          "size": [
           75790.5
          ],
          "sizemode": "area",
          "sizeref": 1184.33625,
          "symbol": "circle"
         },
         "mode": "markers",
         "name": "Chemicals",
         "orientation": "v",
         "showlegend": true,
         "textposition": "top center",
         "type": "scatter",
         "x": [
          334
         ],
         "xaxis": "x",
         "y": [
          147093
         ],
         "yaxis": "y"
        },
        {
         "hovertemplate": "Product=Pharmaceuticals<br>Export change=%{x}<br>Import change=%{y}<br>Volume ave=%{marker.size}<extra></extra>",
         "legendgroup": "Pharmaceuticals",
         "marker": {
          "color": "#FFA15A",
          "size": [
           18598
          ],
          "sizemode": "area",
          "sizeref": 1184.33625,
          "symbol": "circle"
         },
         "mode": "markers",
         "name": "Pharmaceuticals",
         "orientation": "v",
         "showlegend": true,
         "textposition": "top center",
         "type": "scatter",
         "x": [
          1117
         ],
         "xaxis": "x",
         "y": [
          57517
         ],
         "yaxis": "y"
        },
        {
         "hovertemplate": "Product=Clothing<br>Export change=%{x}<br>Import change=%{y}<br>Volume ave=%{marker.size}<extra></extra>",
         "legendgroup": "Clothing",
         "marker": {
          "color": "#19d3f3",
          "size": [
           13481.5
          ],
          "sizemode": "area",
          "sizeref": 1184.33625,
          "symbol": "circle"
         },
         "mode": "markers",
         "name": "Clothing",
         "orientation": "v",
         "showlegend": true,
         "textposition": "top center",
         "type": "scatter",
         "x": [
          -16
         ],
         "xaxis": "x",
         "y": [
          56026
         ],
         "yaxis": "y"
        },
        {
         "hovertemplate": "Product=Iron and steel<br>Export change=%{x}<br>Import change=%{y}<br>Volume ave=%{marker.size}<extra></extra>",
         "legendgroup": "Iron and steel",
         "marker": {
          "color": "#FF6692",
          "size": [
           15370
          ],
          "sizemode": "area",
          "sizeref": 1184.33625,
          "symbol": "circle"
         },
         "mode": "markers",
         "name": "Iron and steel",
         "orientation": "v",
         "showlegend": true,
         "textposition": "top center",
         "type": "scatter",
         "x": [
          -4067
         ],
         "xaxis": "x",
         "y": [
          15308
         ],
         "yaxis": "y"
        },
        {
         "hovertemplate": "Product=Machinery and transport equipment<br>Export change=%{x}<br>Import change=%{y}<br>Volume ave=%{marker.size}<extra></extra>",
         "legendgroup": "Machinery and transport equipment",
         "marker": {
          "color": "#B6E880",
          "size": [
           277418.5
          ],
          "sizemode": "area",
          "sizeref": 1184.33625,
          "symbol": "circle"
         },
         "mode": "markers",
         "name": "Machinery and transport equipment",
         "orientation": "v",
         "showlegend": true,
         "textposition": "top center",
         "type": "scatter",
         "x": [
          -46602
         ],
         "xaxis": "x",
         "y": [
          394812
         ],
         "yaxis": "y"
        },
        {
         "hovertemplate": "Product=Automotive products<br>Export change=%{x}<br>Import change=%{y}<br>Volume ave=%{marker.size}<extra></extra>",
         "legendgroup": "Automotive products",
         "marker": {
          "color": "#FF97FF",
          "size": [
           71860
          ],
          "sizemode": "area",
          "sizeref": 1184.33625,
          "symbol": "circle"
         },
         "mode": "markers",
         "name": "Automotive products",
         "orientation": "v",
         "showlegend": true,
         "textposition": "top center",
         "type": "scatter",
         "x": [
          -27702
         ],
         "xaxis": "x",
         "y": [
          42527
         ],
         "yaxis": "y"
        },
        {
         "hovertemplate": "Product=Office and telecom equipment<br>Export change=%{x}<br>Import change=%{y}<br>Volume ave=%{marker.size}<extra></extra>",
         "legendgroup": "Office and telecom equipment",
         "marker": {
          "color": "#FECB52",
          "size": [
           75765
          ],
          "sizemode": "area",
          "sizeref": 1184.33625,
          "symbol": "circle"
         },
         "mode": "markers",
         "name": "Office and telecom equipment",
         "orientation": "v",
         "showlegend": true,
         "textposition": "top center",
         "type": "scatter",
         "x": [
          -1174
         ],
         "xaxis": "x",
         "y": [
          180286
         ],
         "yaxis": "y"
        },
        {
         "hovertemplate": "Product=Electronic data processing and office equipment<br>Export change=%{x}<br>Import change=%{y}<br>Volume ave=%{marker.size}<extra></extra>",
         "legendgroup": "Electronic data processing and office equipment",
         "marker": {
          "color": "#636efa",
          "size": [
           22622.5
          ],
          "sizemode": "area",
          "sizeref": 1184.33625,
          "symbol": "circle"
         },
         "mode": "markers",
         "name": "Electronic data processing and office equipment",
         "orientation": "v",
         "showlegend": true,
         "textposition": "top center",
         "type": "scatter",
         "x": [
          -1523
         ],
         "xaxis": "x",
         "y": [
          61121
         ],
         "yaxis": "y"
        },
        {
         "hovertemplate": "Product=Integrated circuits and electronic components<br>Export change=%{x}<br>Import change=%{y}<br>Volume ave=%{marker.size}<extra></extra>",
         "legendgroup": "Integrated circuits and electronic components",
         "marker": {
          "color": "#EF553B",
          "size": [
           32785.5
          ],
          "sizemode": "area",
          "sizeref": 1184.33625,
          "symbol": "circle"
         },
         "mode": "markers",
         "name": "Integrated circuits and electronic components",
         "orientation": "v",
         "showlegend": true,
         "textposition": "top center",
         "type": "scatter",
         "x": [
          1494
         ],
         "xaxis": "x",
         "y": [
          49984
         ],
         "yaxis": "y"
        },
        {
         "hovertemplate": "Product=Telecommunications equipment<br>Export change=%{x}<br>Import change=%{y}<br>Volume ave=%{marker.size}<extra></extra>",
         "legendgroup": "Telecommunications equipment",
         "marker": {
          "color": "#00cc96",
          "size": [
           20356.5
          ],
          "sizemode": "area",
          "sizeref": 1184.33625,
          "symbol": "circle"
         },
         "mode": "markers",
         "name": "Telecommunications equipment",
         "orientation": "v",
         "showlegend": true,
         "textposition": "top center",
         "type": "scatter",
         "x": [
          -1146
         ],
         "xaxis": "x",
         "y": [
          69181
         ],
         "yaxis": "y"
        },
        {
         "hovertemplate": "Product=Transport equipment<br>Export change=%{x}<br>Import change=%{y}<br>Volume ave=%{marker.size}<extra></extra>",
         "legendgroup": "Transport equipment",
         "marker": {
          "color": "#ab63fa",
          "size": [
           90872
          ],
          "sizemode": "area",
          "sizeref": 1184.33625,
          "symbol": "circle"
         },
         "mode": "markers",
         "name": "Transport equipment",
         "orientation": "v",
         "showlegend": true,
         "textposition": "top center",
         "type": "scatter",
         "x": [
          -34715
         ],
         "xaxis": "x",
         "y": [
          65665
         ],
         "yaxis": "y"
        },
        {
         "hovertemplate": "Product=Textiles<br>Export change=%{x}<br>Import change=%{y}<br>Volume ave=%{marker.size}<extra></extra>",
         "legendgroup": "Textiles",
         "marker": {
          "color": "#FFA15A",
          "size": [
           8725.5
          ],
          "sizemode": "area",
          "sizeref": 1184.33625,
          "symbol": "circle"
         },
         "mode": "markers",
         "name": "Textiles",
         "orientation": "v",
         "showlegend": true,
         "textposition": "top center",
         "type": "scatter",
         "x": [
          -940
         ],
         "xaxis": "x",
         "y": [
          20636
         ],
         "yaxis": "y"
        },
        {
         "hovertemplate": "Product=Fuels and mining products<br>Export change=%{x}<br>Import change=%{y}<br>Volume ave=%{marker.size}<extra></extra>",
         "legendgroup": "Fuels and mining products",
         "marker": {
          "color": "#19d3f3",
          "size": [
           89728
          ],
          "sizemode": "area",
          "sizeref": 1184.33625,
          "symbol": "circle"
         },
         "mode": "markers",
         "name": "Fuels and mining products",
         "orientation": "v",
         "showlegend": true,
         "textposition": "top center",
         "type": "scatter",
         "x": [
          -3422
         ],
         "xaxis": "x",
         "y": [
          353394
         ],
         "yaxis": "y"
        },
        {
         "hovertemplate": "Product=Fuels<br>Export change=%{x}<br>Import change=%{y}<br>Volume ave=%{marker.size}<extra></extra>",
         "legendgroup": "Fuels",
         "marker": {
          "color": "#FF6692",
          "size": [
           56554
          ],
          "sizemode": "area",
          "sizeref": 1184.33625,
          "symbol": "circle"
         },
         "mode": "markers",
         "name": "Fuels",
         "orientation": "v",
         "showlegend": true,
         "textposition": "top center",
         "type": "scatter",
         "x": [
          -6384
         ],
         "xaxis": "x",
         "y": [
          261102
         ],
         "yaxis": "y"
        }
       ],
       "layout": {
        "legend": {
         "itemsizing": "constant",
         "orientation": "h",
         "title": {
          "text": "Product"
         },
         "tracegroupgap": 0,
         "x": 1,
         "xanchor": "right",
         "y": -1.2,
         "yanchor": "bottom"
        },
        "margin": {
         "t": 60
        },
        "template": {
         "data": {
          "bar": [
           {
            "error_x": {
             "color": "#2a3f5f"
            },
            "error_y": {
             "color": "#2a3f5f"
            },
            "marker": {
             "line": {
              "color": "#E5ECF6",
              "width": 0.5
             },
             "pattern": {
              "fillmode": "overlay",
              "size": 10,
              "solidity": 0.2
             }
            },
            "type": "bar"
           }
          ],
          "barpolar": [
           {
            "marker": {
             "line": {
              "color": "#E5ECF6",
              "width": 0.5
             },
             "pattern": {
              "fillmode": "overlay",
              "size": 10,
              "solidity": 0.2
             }
            },
            "type": "barpolar"
           }
          ],
          "carpet": [
           {
            "aaxis": {
             "endlinecolor": "#2a3f5f",
             "gridcolor": "white",
             "linecolor": "white",
             "minorgridcolor": "white",
             "startlinecolor": "#2a3f5f"
            },
            "baxis": {
             "endlinecolor": "#2a3f5f",
             "gridcolor": "white",
             "linecolor": "white",
             "minorgridcolor": "white",
             "startlinecolor": "#2a3f5f"
            },
            "type": "carpet"
           }
          ],
          "choropleth": [
           {
            "colorbar": {
             "outlinewidth": 0,
             "ticks": ""
            },
            "type": "choropleth"
           }
          ],
          "contour": [
           {
            "colorbar": {
             "outlinewidth": 0,
             "ticks": ""
            },
            "colorscale": [
             [
              0,
              "#0d0887"
             ],
             [
              0.1111111111111111,
              "#46039f"
             ],
             [
              0.2222222222222222,
              "#7201a8"
             ],
             [
              0.3333333333333333,
              "#9c179e"
             ],
             [
              0.4444444444444444,
              "#bd3786"
             ],
             [
              0.5555555555555556,
              "#d8576b"
             ],
             [
              0.6666666666666666,
              "#ed7953"
             ],
             [
              0.7777777777777778,
              "#fb9f3a"
             ],
             [
              0.8888888888888888,
              "#fdca26"
             ],
             [
              1,
              "#f0f921"
             ]
            ],
            "type": "contour"
           }
          ],
          "contourcarpet": [
           {
            "colorbar": {
             "outlinewidth": 0,
             "ticks": ""
            },
            "type": "contourcarpet"
           }
          ],
          "heatmap": [
           {
            "colorbar": {
             "outlinewidth": 0,
             "ticks": ""
            },
            "colorscale": [
             [
              0,
              "#0d0887"
             ],
             [
              0.1111111111111111,
              "#46039f"
             ],
             [
              0.2222222222222222,
              "#7201a8"
             ],
             [
              0.3333333333333333,
              "#9c179e"
             ],
             [
              0.4444444444444444,
              "#bd3786"
             ],
             [
              0.5555555555555556,
              "#d8576b"
             ],
             [
              0.6666666666666666,
              "#ed7953"
             ],
             [
              0.7777777777777778,
              "#fb9f3a"
             ],
             [
              0.8888888888888888,
              "#fdca26"
             ],
             [
              1,
              "#f0f921"
             ]
            ],
            "type": "heatmap"
           }
          ],
          "heatmapgl": [
           {
            "colorbar": {
             "outlinewidth": 0,
             "ticks": ""
            },
            "colorscale": [
             [
              0,
              "#0d0887"
             ],
             [
              0.1111111111111111,
              "#46039f"
             ],
             [
              0.2222222222222222,
              "#7201a8"
             ],
             [
              0.3333333333333333,
              "#9c179e"
             ],
             [
              0.4444444444444444,
              "#bd3786"
             ],
             [
              0.5555555555555556,
              "#d8576b"
             ],
             [
              0.6666666666666666,
              "#ed7953"
             ],
             [
              0.7777777777777778,
              "#fb9f3a"
             ],
             [
              0.8888888888888888,
              "#fdca26"
             ],
             [
              1,
              "#f0f921"
             ]
            ],
            "type": "heatmapgl"
           }
          ],
          "histogram": [
           {
            "marker": {
             "pattern": {
              "fillmode": "overlay",
              "size": 10,
              "solidity": 0.2
             }
            },
            "type": "histogram"
           }
          ],
          "histogram2d": [
           {
            "colorbar": {
             "outlinewidth": 0,
             "ticks": ""
            },
            "colorscale": [
             [
              0,
              "#0d0887"
             ],
             [
              0.1111111111111111,
              "#46039f"
             ],
             [
              0.2222222222222222,
              "#7201a8"
             ],
             [
              0.3333333333333333,
              "#9c179e"
             ],
             [
              0.4444444444444444,
              "#bd3786"
             ],
             [
              0.5555555555555556,
              "#d8576b"
             ],
             [
              0.6666666666666666,
              "#ed7953"
             ],
             [
              0.7777777777777778,
              "#fb9f3a"
             ],
             [
              0.8888888888888888,
              "#fdca26"
             ],
             [
              1,
              "#f0f921"
             ]
            ],
            "type": "histogram2d"
           }
          ],
          "histogram2dcontour": [
           {
            "colorbar": {
             "outlinewidth": 0,
             "ticks": ""
            },
            "colorscale": [
             [
              0,
              "#0d0887"
             ],
             [
              0.1111111111111111,
              "#46039f"
             ],
             [
              0.2222222222222222,
              "#7201a8"
             ],
             [
              0.3333333333333333,
              "#9c179e"
             ],
             [
              0.4444444444444444,
              "#bd3786"
             ],
             [
              0.5555555555555556,
              "#d8576b"
             ],
             [
              0.6666666666666666,
              "#ed7953"
             ],
             [
              0.7777777777777778,
              "#fb9f3a"
             ],
             [
              0.8888888888888888,
              "#fdca26"
             ],
             [
              1,
              "#f0f921"
             ]
            ],
            "type": "histogram2dcontour"
           }
          ],
          "mesh3d": [
           {
            "colorbar": {
             "outlinewidth": 0,
             "ticks": ""
            },
            "type": "mesh3d"
           }
          ],
          "parcoords": [
           {
            "line": {
             "colorbar": {
              "outlinewidth": 0,
              "ticks": ""
             }
            },
            "type": "parcoords"
           }
          ],
          "pie": [
           {
            "automargin": true,
            "type": "pie"
           }
          ],
          "scatter": [
           {
            "marker": {
             "colorbar": {
              "outlinewidth": 0,
              "ticks": ""
             }
            },
            "type": "scatter"
           }
          ],
          "scatter3d": [
           {
            "line": {
             "colorbar": {
              "outlinewidth": 0,
              "ticks": ""
             }
            },
            "marker": {
             "colorbar": {
              "outlinewidth": 0,
              "ticks": ""
             }
            },
            "type": "scatter3d"
           }
          ],
          "scattercarpet": [
           {
            "marker": {
             "colorbar": {
              "outlinewidth": 0,
              "ticks": ""
             }
            },
            "type": "scattercarpet"
           }
          ],
          "scattergeo": [
           {
            "marker": {
             "colorbar": {
              "outlinewidth": 0,
              "ticks": ""
             }
            },
            "type": "scattergeo"
           }
          ],
          "scattergl": [
           {
            "marker": {
             "colorbar": {
              "outlinewidth": 0,
              "ticks": ""
             }
            },
            "type": "scattergl"
           }
          ],
          "scattermapbox": [
           {
            "marker": {
             "colorbar": {
              "outlinewidth": 0,
              "ticks": ""
             }
            },
            "type": "scattermapbox"
           }
          ],
          "scatterpolar": [
           {
            "marker": {
             "colorbar": {
              "outlinewidth": 0,
              "ticks": ""
             }
            },
            "type": "scatterpolar"
           }
          ],
          "scatterpolargl": [
           {
            "marker": {
             "colorbar": {
              "outlinewidth": 0,
              "ticks": ""
             }
            },
            "type": "scatterpolargl"
           }
          ],
          "scatterternary": [
           {
            "marker": {
             "colorbar": {
              "outlinewidth": 0,
              "ticks": ""
             }
            },
            "type": "scatterternary"
           }
          ],
          "surface": [
           {
            "colorbar": {
             "outlinewidth": 0,
             "ticks": ""
            },
            "colorscale": [
             [
              0,
              "#0d0887"
             ],
             [
              0.1111111111111111,
              "#46039f"
             ],
             [
              0.2222222222222222,
              "#7201a8"
             ],
             [
              0.3333333333333333,
              "#9c179e"
             ],
             [
              0.4444444444444444,
              "#bd3786"
             ],
             [
              0.5555555555555556,
              "#d8576b"
             ],
             [
              0.6666666666666666,
              "#ed7953"
             ],
             [
              0.7777777777777778,
              "#fb9f3a"
             ],
             [
              0.8888888888888888,
              "#fdca26"
             ],
             [
              1,
              "#f0f921"
             ]
            ],
            "type": "surface"
           }
          ],
          "table": [
           {
            "cells": {
             "fill": {
              "color": "#EBF0F8"
             },
             "line": {
              "color": "white"
             }
            },
            "header": {
             "fill": {
              "color": "#C8D4E3"
             },
             "line": {
              "color": "white"
             }
            },
            "type": "table"
           }
          ]
         },
         "layout": {
          "annotationdefaults": {
           "arrowcolor": "#2a3f5f",
           "arrowhead": 0,
           "arrowwidth": 1
          },
          "autotypenumbers": "strict",
          "coloraxis": {
           "colorbar": {
            "outlinewidth": 0,
            "ticks": ""
           }
          },
          "colorscale": {
           "diverging": [
            [
             0,
             "#8e0152"
            ],
            [
             0.1,
             "#c51b7d"
            ],
            [
             0.2,
             "#de77ae"
            ],
            [
             0.3,
             "#f1b6da"
            ],
            [
             0.4,
             "#fde0ef"
            ],
            [
             0.5,
             "#f7f7f7"
            ],
            [
             0.6,
             "#e6f5d0"
            ],
            [
             0.7,
             "#b8e186"
            ],
            [
             0.8,
             "#7fbc41"
            ],
            [
             0.9,
             "#4d9221"
            ],
            [
             1,
             "#276419"
            ]
           ],
           "sequential": [
            [
             0,
             "#0d0887"
            ],
            [
             0.1111111111111111,
             "#46039f"
            ],
            [
             0.2222222222222222,
             "#7201a8"
            ],
            [
             0.3333333333333333,
             "#9c179e"
            ],
            [
             0.4444444444444444,
             "#bd3786"
            ],
            [
             0.5555555555555556,
             "#d8576b"
            ],
            [
             0.6666666666666666,
             "#ed7953"
            ],
            [
             0.7777777777777778,
             "#fb9f3a"
            ],
            [
             0.8888888888888888,
             "#fdca26"
            ],
            [
             1,
             "#f0f921"
            ]
           ],
           "sequentialminus": [
            [
             0,
             "#0d0887"
            ],
            [
             0.1111111111111111,
             "#46039f"
            ],
            [
             0.2222222222222222,
             "#7201a8"
            ],
            [
             0.3333333333333333,
             "#9c179e"
            ],
            [
             0.4444444444444444,
             "#bd3786"
            ],
            [
             0.5555555555555556,
             "#d8576b"
            ],
            [
             0.6666666666666666,
             "#ed7953"
            ],
            [
             0.7777777777777778,
             "#fb9f3a"
            ],
            [
             0.8888888888888888,
             "#fdca26"
            ],
            [
             1,
             "#f0f921"
            ]
           ]
          },
          "colorway": [
           "#636efa",
           "#EF553B",
           "#00cc96",
           "#ab63fa",
           "#FFA15A",
           "#19d3f3",
           "#FF6692",
           "#B6E880",
           "#FF97FF",
           "#FECB52"
          ],
          "font": {
           "color": "#2a3f5f"
          },
          "geo": {
           "bgcolor": "white",
           "lakecolor": "white",
           "landcolor": "#E5ECF6",
           "showlakes": true,
           "showland": true,
           "subunitcolor": "white"
          },
          "hoverlabel": {
           "align": "left"
          },
          "hovermode": "closest",
          "mapbox": {
           "style": "light"
          },
          "paper_bgcolor": "white",
          "plot_bgcolor": "#E5ECF6",
          "polar": {
           "angularaxis": {
            "gridcolor": "white",
            "linecolor": "white",
            "ticks": ""
           },
           "bgcolor": "#E5ECF6",
           "radialaxis": {
            "gridcolor": "white",
            "linecolor": "white",
            "ticks": ""
           }
          },
          "scene": {
           "xaxis": {
            "backgroundcolor": "#E5ECF6",
            "gridcolor": "white",
            "gridwidth": 2,
            "linecolor": "white",
            "showbackground": true,
            "ticks": "",
            "zerolinecolor": "white"
           },
           "yaxis": {
            "backgroundcolor": "#E5ECF6",
            "gridcolor": "white",
            "gridwidth": 2,
            "linecolor": "white",
            "showbackground": true,
            "ticks": "",
            "zerolinecolor": "white"
           },
           "zaxis": {
            "backgroundcolor": "#E5ECF6",
            "gridcolor": "white",
            "gridwidth": 2,
            "linecolor": "white",
            "showbackground": true,
            "ticks": "",
            "zerolinecolor": "white"
           }
          },
          "shapedefaults": {
           "line": {
            "color": "#2a3f5f"
           }
          },
          "ternary": {
           "aaxis": {
            "gridcolor": "white",
            "linecolor": "white",
            "ticks": ""
           },
           "baxis": {
            "gridcolor": "white",
            "linecolor": "white",
            "ticks": ""
           },
           "bgcolor": "#E5ECF6",
           "caxis": {
            "gridcolor": "white",
            "linecolor": "white",
            "ticks": ""
           }
          },
          "title": {
           "x": 0.05
          },
          "xaxis": {
           "automargin": true,
           "gridcolor": "white",
           "linecolor": "white",
           "ticks": "",
           "title": {
            "standoff": 15
           },
           "zerolinecolor": "white",
           "zerolinewidth": 2
          },
          "yaxis": {
           "automargin": true,
           "gridcolor": "white",
           "linecolor": "white",
           "ticks": "",
           "title": {
            "standoff": 15
           },
           "zerolinecolor": "white",
           "zerolinewidth": 2
          }
         }
        },
        "width": 600,
        "xaxis": {
         "anchor": "y",
         "domain": [
          0,
          1
         ],
         "title": {
          "text": "Export change"
         }
        },
        "yaxis": {
         "anchor": "x",
         "domain": [
          0,
          1
         ],
         "title": {
          "text": "Import change"
         }
        }
       }
      }
     },
     "metadata": {},
     "output_type": "display_data"
    }
   ],
   "source": [
    "fig = px.scatter(product_new, x=\"Export change\", y=\"Import change\",\n",
    "\t         size=\"Volume ave\", color=\"Product\")\n",
    "fig.update_traces(textposition='top center')\n",
    "fig.update_layout(\n",
    "    width=600)\n",
    "fig.update_layout(legend=dict(\n",
    "    orientation=\"h\",\n",
    "    yanchor=\"bottom\",\n",
    "    y=-1.2,\n",
    "    xanchor=\"right\",\n",
    "    x=1\n",
    "))\n",
    "\n",
    "fig.show()"
   ]
  },
  {
   "cell_type": "code",
   "execution_count": 25,
   "metadata": {},
   "outputs": [
    {
     "data": {
      "application/vnd.plotly.v1+json": {
       "config": {
        "plotlyServerURL": "https://plot.ly"
       },
       "data": [
        {
         "marker": {
          "color": "gold",
          "size": 12
         },
         "mode": "markers",
         "name": "2019",
         "opacity": 0.5,
         "type": "scatter",
         "x": [
          94247,
          77976,
          1035390,
          153054,
          34814,
          30475,
          36893,
          615777,
          175863,
          151710,
          45837,
          64223,
          41652,
          226030,
          15415,
          232724,
          169632
         ],
         "y": [
          "Agricultural products",
          "Food",
          "Manufactures",
          "Chemicals",
          "Pharmaceuticals",
          "Clothing",
          "Iron and steel",
          "Machinery and transport equipment",
          "Automotive products",
          "Office and telecom equipment",
          "Electronic data processing and office equipment",
          "Integrated circuits and electronic components",
          "Telecommunications equipment",
          "Transport equipment",
          "Textiles",
          "Fuels and mining products",
          "Fuels"
         ]
        },
        {
         "marker": {
          "color": "crimson",
          "size": 12
         },
         "mode": "markers",
         "name": "2020",
         "opacity": 0.5,
         "type": "scatter",
         "x": [
          88498,
          74919,
          947469,
          151581,
          37196,
          26963,
          30740,
          554837,
          143720,
          151530,
          45245,
          65571,
          40713,
          181744,
          17451,
          179456,
          113108
         ],
         "y": [
          "Agricultural products",
          "Food",
          "Manufactures",
          "Chemicals",
          "Pharmaceuticals",
          "Clothing",
          "Iron and steel",
          "Machinery and transport equipment",
          "Automotive products",
          "Office and telecom equipment",
          "Electronic data processing and office equipment",
          "Integrated circuits and electronic components",
          "Telecommunications equipment",
          "Transport equipment",
          "Textiles",
          "Fuels and mining products",
          "Fuels"
         ]
        }
       ],
       "layout": {
        "legend": {
         "orientation": "h",
         "x": 1,
         "xanchor": "right",
         "y": 1.02,
         "yanchor": "bottom"
        },
        "template": {
         "data": {
          "bar": [
           {
            "error_x": {
             "color": "#2a3f5f"
            },
            "error_y": {
             "color": "#2a3f5f"
            },
            "marker": {
             "line": {
              "color": "#E5ECF6",
              "width": 0.5
             },
             "pattern": {
              "fillmode": "overlay",
              "size": 10,
              "solidity": 0.2
             }
            },
            "type": "bar"
           }
          ],
          "barpolar": [
           {
            "marker": {
             "line": {
              "color": "#E5ECF6",
              "width": 0.5
             },
             "pattern": {
              "fillmode": "overlay",
              "size": 10,
              "solidity": 0.2
             }
            },
            "type": "barpolar"
           }
          ],
          "carpet": [
           {
            "aaxis": {
             "endlinecolor": "#2a3f5f",
             "gridcolor": "white",
             "linecolor": "white",
             "minorgridcolor": "white",
             "startlinecolor": "#2a3f5f"
            },
            "baxis": {
             "endlinecolor": "#2a3f5f",
             "gridcolor": "white",
             "linecolor": "white",
             "minorgridcolor": "white",
             "startlinecolor": "#2a3f5f"
            },
            "type": "carpet"
           }
          ],
          "choropleth": [
           {
            "colorbar": {
             "outlinewidth": 0,
             "ticks": ""
            },
            "type": "choropleth"
           }
          ],
          "contour": [
           {
            "colorbar": {
             "outlinewidth": 0,
             "ticks": ""
            },
            "colorscale": [
             [
              0,
              "#0d0887"
             ],
             [
              0.1111111111111111,
              "#46039f"
             ],
             [
              0.2222222222222222,
              "#7201a8"
             ],
             [
              0.3333333333333333,
              "#9c179e"
             ],
             [
              0.4444444444444444,
              "#bd3786"
             ],
             [
              0.5555555555555556,
              "#d8576b"
             ],
             [
              0.6666666666666666,
              "#ed7953"
             ],
             [
              0.7777777777777778,
              "#fb9f3a"
             ],
             [
              0.8888888888888888,
              "#fdca26"
             ],
             [
              1,
              "#f0f921"
             ]
            ],
            "type": "contour"
           }
          ],
          "contourcarpet": [
           {
            "colorbar": {
             "outlinewidth": 0,
             "ticks": ""
            },
            "type": "contourcarpet"
           }
          ],
          "heatmap": [
           {
            "colorbar": {
             "outlinewidth": 0,
             "ticks": ""
            },
            "colorscale": [
             [
              0,
              "#0d0887"
             ],
             [
              0.1111111111111111,
              "#46039f"
             ],
             [
              0.2222222222222222,
              "#7201a8"
             ],
             [
              0.3333333333333333,
              "#9c179e"
             ],
             [
              0.4444444444444444,
              "#bd3786"
             ],
             [
              0.5555555555555556,
              "#d8576b"
             ],
             [
              0.6666666666666666,
              "#ed7953"
             ],
             [
              0.7777777777777778,
              "#fb9f3a"
             ],
             [
              0.8888888888888888,
              "#fdca26"
             ],
             [
              1,
              "#f0f921"
             ]
            ],
            "type": "heatmap"
           }
          ],
          "heatmapgl": [
           {
            "colorbar": {
             "outlinewidth": 0,
             "ticks": ""
            },
            "colorscale": [
             [
              0,
              "#0d0887"
             ],
             [
              0.1111111111111111,
              "#46039f"
             ],
             [
              0.2222222222222222,
              "#7201a8"
             ],
             [
              0.3333333333333333,
              "#9c179e"
             ],
             [
              0.4444444444444444,
              "#bd3786"
             ],
             [
              0.5555555555555556,
              "#d8576b"
             ],
             [
              0.6666666666666666,
              "#ed7953"
             ],
             [
              0.7777777777777778,
              "#fb9f3a"
             ],
             [
              0.8888888888888888,
              "#fdca26"
             ],
             [
              1,
              "#f0f921"
             ]
            ],
            "type": "heatmapgl"
           }
          ],
          "histogram": [
           {
            "marker": {
             "pattern": {
              "fillmode": "overlay",
              "size": 10,
              "solidity": 0.2
             }
            },
            "type": "histogram"
           }
          ],
          "histogram2d": [
           {
            "colorbar": {
             "outlinewidth": 0,
             "ticks": ""
            },
            "colorscale": [
             [
              0,
              "#0d0887"
             ],
             [
              0.1111111111111111,
              "#46039f"
             ],
             [
              0.2222222222222222,
              "#7201a8"
             ],
             [
              0.3333333333333333,
              "#9c179e"
             ],
             [
              0.4444444444444444,
              "#bd3786"
             ],
             [
              0.5555555555555556,
              "#d8576b"
             ],
             [
              0.6666666666666666,
              "#ed7953"
             ],
             [
              0.7777777777777778,
              "#fb9f3a"
             ],
             [
              0.8888888888888888,
              "#fdca26"
             ],
             [
              1,
              "#f0f921"
             ]
            ],
            "type": "histogram2d"
           }
          ],
          "histogram2dcontour": [
           {
            "colorbar": {
             "outlinewidth": 0,
             "ticks": ""
            },
            "colorscale": [
             [
              0,
              "#0d0887"
             ],
             [
              0.1111111111111111,
              "#46039f"
             ],
             [
              0.2222222222222222,
              "#7201a8"
             ],
             [
              0.3333333333333333,
              "#9c179e"
             ],
             [
              0.4444444444444444,
              "#bd3786"
             ],
             [
              0.5555555555555556,
              "#d8576b"
             ],
             [
              0.6666666666666666,
              "#ed7953"
             ],
             [
              0.7777777777777778,
              "#fb9f3a"
             ],
             [
              0.8888888888888888,
              "#fdca26"
             ],
             [
              1,
              "#f0f921"
             ]
            ],
            "type": "histogram2dcontour"
           }
          ],
          "mesh3d": [
           {
            "colorbar": {
             "outlinewidth": 0,
             "ticks": ""
            },
            "type": "mesh3d"
           }
          ],
          "parcoords": [
           {
            "line": {
             "colorbar": {
              "outlinewidth": 0,
              "ticks": ""
             }
            },
            "type": "parcoords"
           }
          ],
          "pie": [
           {
            "automargin": true,
            "type": "pie"
           }
          ],
          "scatter": [
           {
            "marker": {
             "colorbar": {
              "outlinewidth": 0,
              "ticks": ""
             }
            },
            "type": "scatter"
           }
          ],
          "scatter3d": [
           {
            "line": {
             "colorbar": {
              "outlinewidth": 0,
              "ticks": ""
             }
            },
            "marker": {
             "colorbar": {
              "outlinewidth": 0,
              "ticks": ""
             }
            },
            "type": "scatter3d"
           }
          ],
          "scattercarpet": [
           {
            "marker": {
             "colorbar": {
              "outlinewidth": 0,
              "ticks": ""
             }
            },
            "type": "scattercarpet"
           }
          ],
          "scattergeo": [
           {
            "marker": {
             "colorbar": {
              "outlinewidth": 0,
              "ticks": ""
             }
            },
            "type": "scattergeo"
           }
          ],
          "scattergl": [
           {
            "marker": {
             "colorbar": {
              "outlinewidth": 0,
              "ticks": ""
             }
            },
            "type": "scattergl"
           }
          ],
          "scattermapbox": [
           {
            "marker": {
             "colorbar": {
              "outlinewidth": 0,
              "ticks": ""
             }
            },
            "type": "scattermapbox"
           }
          ],
          "scatterpolar": [
           {
            "marker": {
             "colorbar": {
              "outlinewidth": 0,
              "ticks": ""
             }
            },
            "type": "scatterpolar"
           }
          ],
          "scatterpolargl": [
           {
            "marker": {
             "colorbar": {
              "outlinewidth": 0,
              "ticks": ""
             }
            },
            "type": "scatterpolargl"
           }
          ],
          "scatterternary": [
           {
            "marker": {
             "colorbar": {
              "outlinewidth": 0,
              "ticks": ""
             }
            },
            "type": "scatterternary"
           }
          ],
          "surface": [
           {
            "colorbar": {
             "outlinewidth": 0,
             "ticks": ""
            },
            "colorscale": [
             [
              0,
              "#0d0887"
             ],
             [
              0.1111111111111111,
              "#46039f"
             ],
             [
              0.2222222222222222,
              "#7201a8"
             ],
             [
              0.3333333333333333,
              "#9c179e"
             ],
             [
              0.4444444444444444,
              "#bd3786"
             ],
             [
              0.5555555555555556,
              "#d8576b"
             ],
             [
              0.6666666666666666,
              "#ed7953"
             ],
             [
              0.7777777777777778,
              "#fb9f3a"
             ],
             [
              0.8888888888888888,
              "#fdca26"
             ],
             [
              1,
              "#f0f921"
             ]
            ],
            "type": "surface"
           }
          ],
          "table": [
           {
            "cells": {
             "fill": {
              "color": "#EBF0F8"
             },
             "line": {
              "color": "white"
             }
            },
            "header": {
             "fill": {
              "color": "#C8D4E3"
             },
             "line": {
              "color": "white"
             }
            },
            "type": "table"
           }
          ]
         },
         "layout": {
          "annotationdefaults": {
           "arrowcolor": "#2a3f5f",
           "arrowhead": 0,
           "arrowwidth": 1
          },
          "autotypenumbers": "strict",
          "coloraxis": {
           "colorbar": {
            "outlinewidth": 0,
            "ticks": ""
           }
          },
          "colorscale": {
           "diverging": [
            [
             0,
             "#8e0152"
            ],
            [
             0.1,
             "#c51b7d"
            ],
            [
             0.2,
             "#de77ae"
            ],
            [
             0.3,
             "#f1b6da"
            ],
            [
             0.4,
             "#fde0ef"
            ],
            [
             0.5,
             "#f7f7f7"
            ],
            [
             0.6,
             "#e6f5d0"
            ],
            [
             0.7,
             "#b8e186"
            ],
            [
             0.8,
             "#7fbc41"
            ],
            [
             0.9,
             "#4d9221"
            ],
            [
             1,
             "#276419"
            ]
           ],
           "sequential": [
            [
             0,
             "#0d0887"
            ],
            [
             0.1111111111111111,
             "#46039f"
            ],
            [
             0.2222222222222222,
             "#7201a8"
            ],
            [
             0.3333333333333333,
             "#9c179e"
            ],
            [
             0.4444444444444444,
             "#bd3786"
            ],
            [
             0.5555555555555556,
             "#d8576b"
            ],
            [
             0.6666666666666666,
             "#ed7953"
            ],
            [
             0.7777777777777778,
             "#fb9f3a"
            ],
            [
             0.8888888888888888,
             "#fdca26"
            ],
            [
             1,
             "#f0f921"
            ]
           ],
           "sequentialminus": [
            [
             0,
             "#0d0887"
            ],
            [
             0.1111111111111111,
             "#46039f"
            ],
            [
             0.2222222222222222,
             "#7201a8"
            ],
            [
             0.3333333333333333,
             "#9c179e"
            ],
            [
             0.4444444444444444,
             "#bd3786"
            ],
            [
             0.5555555555555556,
             "#d8576b"
            ],
            [
             0.6666666666666666,
             "#ed7953"
            ],
            [
             0.7777777777777778,
             "#fb9f3a"
            ],
            [
             0.8888888888888888,
             "#fdca26"
            ],
            [
             1,
             "#f0f921"
            ]
           ]
          },
          "colorway": [
           "#636efa",
           "#EF553B",
           "#00cc96",
           "#ab63fa",
           "#FFA15A",
           "#19d3f3",
           "#FF6692",
           "#B6E880",
           "#FF97FF",
           "#FECB52"
          ],
          "font": {
           "color": "#2a3f5f"
          },
          "geo": {
           "bgcolor": "white",
           "lakecolor": "white",
           "landcolor": "#E5ECF6",
           "showlakes": true,
           "showland": true,
           "subunitcolor": "white"
          },
          "hoverlabel": {
           "align": "left"
          },
          "hovermode": "closest",
          "mapbox": {
           "style": "light"
          },
          "paper_bgcolor": "white",
          "plot_bgcolor": "#E5ECF6",
          "polar": {
           "angularaxis": {
            "gridcolor": "white",
            "linecolor": "white",
            "ticks": ""
           },
           "bgcolor": "#E5ECF6",
           "radialaxis": {
            "gridcolor": "white",
            "linecolor": "white",
            "ticks": ""
           }
          },
          "scene": {
           "xaxis": {
            "backgroundcolor": "#E5ECF6",
            "gridcolor": "white",
            "gridwidth": 2,
            "linecolor": "white",
            "showbackground": true,
            "ticks": "",
            "zerolinecolor": "white"
           },
           "yaxis": {
            "backgroundcolor": "#E5ECF6",
            "gridcolor": "white",
            "gridwidth": 2,
            "linecolor": "white",
            "showbackground": true,
            "ticks": "",
            "zerolinecolor": "white"
           },
           "zaxis": {
            "backgroundcolor": "#E5ECF6",
            "gridcolor": "white",
            "gridwidth": 2,
            "linecolor": "white",
            "showbackground": true,
            "ticks": "",
            "zerolinecolor": "white"
           }
          },
          "shapedefaults": {
           "line": {
            "color": "#2a3f5f"
           }
          },
          "ternary": {
           "aaxis": {
            "gridcolor": "white",
            "linecolor": "white",
            "ticks": ""
           },
           "baxis": {
            "gridcolor": "white",
            "linecolor": "white",
            "ticks": ""
           },
           "bgcolor": "#E5ECF6",
           "caxis": {
            "gridcolor": "white",
            "linecolor": "white",
            "ticks": ""
           }
          },
          "title": {
           "x": 0.05
          },
          "xaxis": {
           "automargin": true,
           "gridcolor": "white",
           "linecolor": "white",
           "ticks": "",
           "title": {
            "standoff": 15
           },
           "zerolinecolor": "white",
           "zerolinewidth": 2
          },
          "yaxis": {
           "automargin": true,
           "gridcolor": "white",
           "linecolor": "white",
           "ticks": "",
           "title": {
            "standoff": 15
           },
           "zerolinecolor": "white",
           "zerolinewidth": 2
          }
         }
        },
        "width": 600,
        "xaxis": {
         "title": {
          "text": "Total volume of import and export"
         }
        },
        "yaxis": {
         "title": {
          "text": "Product"
         }
        }
       }
      }
     },
     "metadata": {},
     "output_type": "display_data"
    }
   ],
   "source": [
    "fig = go.Figure()\n",
    "fig.add_trace(go.Scatter(\n",
    "    x=product_new[\"Total 2019\"],\n",
    "    y=product_new[\"Product\"],\n",
    "    opacity=0.5,\n",
    "    marker=dict(color=\"gold\", size=12),\n",
    "    mode=\"markers\",\n",
    "    name=\"2019\",\n",
    "))\n",
    "\n",
    "fig.add_trace(go.Scatter(\n",
    "    x=product_new[\"Total 2020\"],\n",
    "    y=product_new[\"Product\"],\n",
    "    opacity=0.5,\n",
    "    marker=dict(color=\"crimson\", size=12),\n",
    "    mode=\"markers\",\n",
    "    name=\"2020\",\n",
    "))\n",
    "fig.update_layout(\n",
    "    width=600)\n",
    "fig.update_layout(legend=dict(\n",
    "    orientation=\"h\",\n",
    "    yanchor=\"bottom\",\n",
    "    y=1.02,\n",
    "    xanchor=\"right\",\n",
    "    x=1\n",
    "))\n",
    "fig.update_layout(\n",
    "                  xaxis_title=\"Total volume of import and export\",\n",
    "                  yaxis_title=\"Product\")\n"
   ]
  },
  {
   "cell_type": "code",
   "execution_count": 26,
   "metadata": {},
   "outputs": [
    {
     "data": {
      "application/vnd.plotly.v1+json": {
       "config": {
        "plotlyServerURL": "https://plot.ly"
       },
       "data": [
        {
         "marker": {
          "color": "crimson",
          "size": 12
         },
         "mode": "markers",
         "name": "Export",
         "opacity": 0.5,
         "type": "scatter",
         "x": [
          22,
          491,
          -58773,
          334,
          1117,
          -16,
          -4067,
          -46602,
          -27702,
          -1174,
          -1523,
          1494,
          -1146,
          -34715,
          -940,
          -3422,
          -6384
         ],
         "y": [
          "Agricultural products",
          "Food",
          "Manufactures",
          "Chemicals",
          "Pharmaceuticals",
          "Clothing",
          "Iron and steel",
          "Machinery and transport equipment",
          "Automotive products",
          "Office and telecom equipment",
          "Electronic data processing and office equipment",
          "Integrated circuits and electronic components",
          "Telecommunications equipment",
          "Transport equipment",
          "Textiles",
          "Fuels and mining products",
          "Fuels"
         ]
        },
        {
         "marker": {
          "color": "gold",
          "size": 12
         },
         "mode": "markers",
         "name": "Import",
         "opacity": 0.5,
         "type": "scatter",
         "x": [
          159501,
          138058,
          819580,
          147093,
          57517,
          56026,
          15308,
          394812,
          42527,
          180286,
          61121,
          49984,
          69181,
          65665,
          20636,
          353394,
          261102
         ],
         "y": [
          "Agricultural products",
          "Food",
          "Manufactures",
          "Chemicals",
          "Pharmaceuticals",
          "Clothing",
          "Iron and steel",
          "Machinery and transport equipment",
          "Automotive products",
          "Office and telecom equipment",
          "Electronic data processing and office equipment",
          "Integrated circuits and electronic components",
          "Telecommunications equipment",
          "Transport equipment",
          "Textiles",
          "Fuels and mining products",
          "Fuels"
         ]
        }
       ],
       "layout": {
        "template": {
         "data": {
          "bar": [
           {
            "error_x": {
             "color": "#2a3f5f"
            },
            "error_y": {
             "color": "#2a3f5f"
            },
            "marker": {
             "line": {
              "color": "#E5ECF6",
              "width": 0.5
             },
             "pattern": {
              "fillmode": "overlay",
              "size": 10,
              "solidity": 0.2
             }
            },
            "type": "bar"
           }
          ],
          "barpolar": [
           {
            "marker": {
             "line": {
              "color": "#E5ECF6",
              "width": 0.5
             },
             "pattern": {
              "fillmode": "overlay",
              "size": 10,
              "solidity": 0.2
             }
            },
            "type": "barpolar"
           }
          ],
          "carpet": [
           {
            "aaxis": {
             "endlinecolor": "#2a3f5f",
             "gridcolor": "white",
             "linecolor": "white",
             "minorgridcolor": "white",
             "startlinecolor": "#2a3f5f"
            },
            "baxis": {
             "endlinecolor": "#2a3f5f",
             "gridcolor": "white",
             "linecolor": "white",
             "minorgridcolor": "white",
             "startlinecolor": "#2a3f5f"
            },
            "type": "carpet"
           }
          ],
          "choropleth": [
           {
            "colorbar": {
             "outlinewidth": 0,
             "ticks": ""
            },
            "type": "choropleth"
           }
          ],
          "contour": [
           {
            "colorbar": {
             "outlinewidth": 0,
             "ticks": ""
            },
            "colorscale": [
             [
              0,
              "#0d0887"
             ],
             [
              0.1111111111111111,
              "#46039f"
             ],
             [
              0.2222222222222222,
              "#7201a8"
             ],
             [
              0.3333333333333333,
              "#9c179e"
             ],
             [
              0.4444444444444444,
              "#bd3786"
             ],
             [
              0.5555555555555556,
              "#d8576b"
             ],
             [
              0.6666666666666666,
              "#ed7953"
             ],
             [
              0.7777777777777778,
              "#fb9f3a"
             ],
             [
              0.8888888888888888,
              "#fdca26"
             ],
             [
              1,
              "#f0f921"
             ]
            ],
            "type": "contour"
           }
          ],
          "contourcarpet": [
           {
            "colorbar": {
             "outlinewidth": 0,
             "ticks": ""
            },
            "type": "contourcarpet"
           }
          ],
          "heatmap": [
           {
            "colorbar": {
             "outlinewidth": 0,
             "ticks": ""
            },
            "colorscale": [
             [
              0,
              "#0d0887"
             ],
             [
              0.1111111111111111,
              "#46039f"
             ],
             [
              0.2222222222222222,
              "#7201a8"
             ],
             [
              0.3333333333333333,
              "#9c179e"
             ],
             [
              0.4444444444444444,
              "#bd3786"
             ],
             [
              0.5555555555555556,
              "#d8576b"
             ],
             [
              0.6666666666666666,
              "#ed7953"
             ],
             [
              0.7777777777777778,
              "#fb9f3a"
             ],
             [
              0.8888888888888888,
              "#fdca26"
             ],
             [
              1,
              "#f0f921"
             ]
            ],
            "type": "heatmap"
           }
          ],
          "heatmapgl": [
           {
            "colorbar": {
             "outlinewidth": 0,
             "ticks": ""
            },
            "colorscale": [
             [
              0,
              "#0d0887"
             ],
             [
              0.1111111111111111,
              "#46039f"
             ],
             [
              0.2222222222222222,
              "#7201a8"
             ],
             [
              0.3333333333333333,
              "#9c179e"
             ],
             [
              0.4444444444444444,
              "#bd3786"
             ],
             [
              0.5555555555555556,
              "#d8576b"
             ],
             [
              0.6666666666666666,
              "#ed7953"
             ],
             [
              0.7777777777777778,
              "#fb9f3a"
             ],
             [
              0.8888888888888888,
              "#fdca26"
             ],
             [
              1,
              "#f0f921"
             ]
            ],
            "type": "heatmapgl"
           }
          ],
          "histogram": [
           {
            "marker": {
             "pattern": {
              "fillmode": "overlay",
              "size": 10,
              "solidity": 0.2
             }
            },
            "type": "histogram"
           }
          ],
          "histogram2d": [
           {
            "colorbar": {
             "outlinewidth": 0,
             "ticks": ""
            },
            "colorscale": [
             [
              0,
              "#0d0887"
             ],
             [
              0.1111111111111111,
              "#46039f"
             ],
             [
              0.2222222222222222,
              "#7201a8"
             ],
             [
              0.3333333333333333,
              "#9c179e"
             ],
             [
              0.4444444444444444,
              "#bd3786"
             ],
             [
              0.5555555555555556,
              "#d8576b"
             ],
             [
              0.6666666666666666,
              "#ed7953"
             ],
             [
              0.7777777777777778,
              "#fb9f3a"
             ],
             [
              0.8888888888888888,
              "#fdca26"
             ],
             [
              1,
              "#f0f921"
             ]
            ],
            "type": "histogram2d"
           }
          ],
          "histogram2dcontour": [
           {
            "colorbar": {
             "outlinewidth": 0,
             "ticks": ""
            },
            "colorscale": [
             [
              0,
              "#0d0887"
             ],
             [
              0.1111111111111111,
              "#46039f"
             ],
             [
              0.2222222222222222,
              "#7201a8"
             ],
             [
              0.3333333333333333,
              "#9c179e"
             ],
             [
              0.4444444444444444,
              "#bd3786"
             ],
             [
              0.5555555555555556,
              "#d8576b"
             ],
             [
              0.6666666666666666,
              "#ed7953"
             ],
             [
              0.7777777777777778,
              "#fb9f3a"
             ],
             [
              0.8888888888888888,
              "#fdca26"
             ],
             [
              1,
              "#f0f921"
             ]
            ],
            "type": "histogram2dcontour"
           }
          ],
          "mesh3d": [
           {
            "colorbar": {
             "outlinewidth": 0,
             "ticks": ""
            },
            "type": "mesh3d"
           }
          ],
          "parcoords": [
           {
            "line": {
             "colorbar": {
              "outlinewidth": 0,
              "ticks": ""
             }
            },
            "type": "parcoords"
           }
          ],
          "pie": [
           {
            "automargin": true,
            "type": "pie"
           }
          ],
          "scatter": [
           {
            "marker": {
             "colorbar": {
              "outlinewidth": 0,
              "ticks": ""
             }
            },
            "type": "scatter"
           }
          ],
          "scatter3d": [
           {
            "line": {
             "colorbar": {
              "outlinewidth": 0,
              "ticks": ""
             }
            },
            "marker": {
             "colorbar": {
              "outlinewidth": 0,
              "ticks": ""
             }
            },
            "type": "scatter3d"
           }
          ],
          "scattercarpet": [
           {
            "marker": {
             "colorbar": {
              "outlinewidth": 0,
              "ticks": ""
             }
            },
            "type": "scattercarpet"
           }
          ],
          "scattergeo": [
           {
            "marker": {
             "colorbar": {
              "outlinewidth": 0,
              "ticks": ""
             }
            },
            "type": "scattergeo"
           }
          ],
          "scattergl": [
           {
            "marker": {
             "colorbar": {
              "outlinewidth": 0,
              "ticks": ""
             }
            },
            "type": "scattergl"
           }
          ],
          "scattermapbox": [
           {
            "marker": {
             "colorbar": {
              "outlinewidth": 0,
              "ticks": ""
             }
            },
            "type": "scattermapbox"
           }
          ],
          "scatterpolar": [
           {
            "marker": {
             "colorbar": {
              "outlinewidth": 0,
              "ticks": ""
             }
            },
            "type": "scatterpolar"
           }
          ],
          "scatterpolargl": [
           {
            "marker": {
             "colorbar": {
              "outlinewidth": 0,
              "ticks": ""
             }
            },
            "type": "scatterpolargl"
           }
          ],
          "scatterternary": [
           {
            "marker": {
             "colorbar": {
              "outlinewidth": 0,
              "ticks": ""
             }
            },
            "type": "scatterternary"
           }
          ],
          "surface": [
           {
            "colorbar": {
             "outlinewidth": 0,
             "ticks": ""
            },
            "colorscale": [
             [
              0,
              "#0d0887"
             ],
             [
              0.1111111111111111,
              "#46039f"
             ],
             [
              0.2222222222222222,
              "#7201a8"
             ],
             [
              0.3333333333333333,
              "#9c179e"
             ],
             [
              0.4444444444444444,
              "#bd3786"
             ],
             [
              0.5555555555555556,
              "#d8576b"
             ],
             [
              0.6666666666666666,
              "#ed7953"
             ],
             [
              0.7777777777777778,
              "#fb9f3a"
             ],
             [
              0.8888888888888888,
              "#fdca26"
             ],
             [
              1,
              "#f0f921"
             ]
            ],
            "type": "surface"
           }
          ],
          "table": [
           {
            "cells": {
             "fill": {
              "color": "#EBF0F8"
             },
             "line": {
              "color": "white"
             }
            },
            "header": {
             "fill": {
              "color": "#C8D4E3"
             },
             "line": {
              "color": "white"
             }
            },
            "type": "table"
           }
          ]
         },
         "layout": {
          "annotationdefaults": {
           "arrowcolor": "#2a3f5f",
           "arrowhead": 0,
           "arrowwidth": 1
          },
          "autotypenumbers": "strict",
          "coloraxis": {
           "colorbar": {
            "outlinewidth": 0,
            "ticks": ""
           }
          },
          "colorscale": {
           "diverging": [
            [
             0,
             "#8e0152"
            ],
            [
             0.1,
             "#c51b7d"
            ],
            [
             0.2,
             "#de77ae"
            ],
            [
             0.3,
             "#f1b6da"
            ],
            [
             0.4,
             "#fde0ef"
            ],
            [
             0.5,
             "#f7f7f7"
            ],
            [
             0.6,
             "#e6f5d0"
            ],
            [
             0.7,
             "#b8e186"
            ],
            [
             0.8,
             "#7fbc41"
            ],
            [
             0.9,
             "#4d9221"
            ],
            [
             1,
             "#276419"
            ]
           ],
           "sequential": [
            [
             0,
             "#0d0887"
            ],
            [
             0.1111111111111111,
             "#46039f"
            ],
            [
             0.2222222222222222,
             "#7201a8"
            ],
            [
             0.3333333333333333,
             "#9c179e"
            ],
            [
             0.4444444444444444,
             "#bd3786"
            ],
            [
             0.5555555555555556,
             "#d8576b"
            ],
            [
             0.6666666666666666,
             "#ed7953"
            ],
            [
             0.7777777777777778,
             "#fb9f3a"
            ],
            [
             0.8888888888888888,
             "#fdca26"
            ],
            [
             1,
             "#f0f921"
            ]
           ],
           "sequentialminus": [
            [
             0,
             "#0d0887"
            ],
            [
             0.1111111111111111,
             "#46039f"
            ],
            [
             0.2222222222222222,
             "#7201a8"
            ],
            [
             0.3333333333333333,
             "#9c179e"
            ],
            [
             0.4444444444444444,
             "#bd3786"
            ],
            [
             0.5555555555555556,
             "#d8576b"
            ],
            [
             0.6666666666666666,
             "#ed7953"
            ],
            [
             0.7777777777777778,
             "#fb9f3a"
            ],
            [
             0.8888888888888888,
             "#fdca26"
            ],
            [
             1,
             "#f0f921"
            ]
           ]
          },
          "colorway": [
           "#636efa",
           "#EF553B",
           "#00cc96",
           "#ab63fa",
           "#FFA15A",
           "#19d3f3",
           "#FF6692",
           "#B6E880",
           "#FF97FF",
           "#FECB52"
          ],
          "font": {
           "color": "#2a3f5f"
          },
          "geo": {
           "bgcolor": "white",
           "lakecolor": "white",
           "landcolor": "#E5ECF6",
           "showlakes": true,
           "showland": true,
           "subunitcolor": "white"
          },
          "hoverlabel": {
           "align": "left"
          },
          "hovermode": "closest",
          "mapbox": {
           "style": "light"
          },
          "paper_bgcolor": "white",
          "plot_bgcolor": "#E5ECF6",
          "polar": {
           "angularaxis": {
            "gridcolor": "white",
            "linecolor": "white",
            "ticks": ""
           },
           "bgcolor": "#E5ECF6",
           "radialaxis": {
            "gridcolor": "white",
            "linecolor": "white",
            "ticks": ""
           }
          },
          "scene": {
           "xaxis": {
            "backgroundcolor": "#E5ECF6",
            "gridcolor": "white",
            "gridwidth": 2,
            "linecolor": "white",
            "showbackground": true,
            "ticks": "",
            "zerolinecolor": "white"
           },
           "yaxis": {
            "backgroundcolor": "#E5ECF6",
            "gridcolor": "white",
            "gridwidth": 2,
            "linecolor": "white",
            "showbackground": true,
            "ticks": "",
            "zerolinecolor": "white"
           },
           "zaxis": {
            "backgroundcolor": "#E5ECF6",
            "gridcolor": "white",
            "gridwidth": 2,
            "linecolor": "white",
            "showbackground": true,
            "ticks": "",
            "zerolinecolor": "white"
           }
          },
          "shapedefaults": {
           "line": {
            "color": "#2a3f5f"
           }
          },
          "ternary": {
           "aaxis": {
            "gridcolor": "white",
            "linecolor": "white",
            "ticks": ""
           },
           "baxis": {
            "gridcolor": "white",
            "linecolor": "white",
            "ticks": ""
           },
           "bgcolor": "#E5ECF6",
           "caxis": {
            "gridcolor": "white",
            "linecolor": "white",
            "ticks": ""
           }
          },
          "title": {
           "x": 0.05
          },
          "xaxis": {
           "automargin": true,
           "gridcolor": "white",
           "linecolor": "white",
           "ticks": "",
           "title": {
            "standoff": 15
           },
           "zerolinecolor": "white",
           "zerolinewidth": 2
          },
          "yaxis": {
           "automargin": true,
           "gridcolor": "white",
           "linecolor": "white",
           "ticks": "",
           "title": {
            "standoff": 15
           },
           "zerolinecolor": "white",
           "zerolinewidth": 2
          }
         }
        },
        "width": 600,
        "xaxis": {
         "title": {
          "text": "Trade volume change ($)"
         }
        },
        "yaxis": {
         "title": {
          "text": "Product"
         }
        }
       }
      }
     },
     "metadata": {},
     "output_type": "display_data"
    }
   ],
   "source": [
    "fig = go.Figure()\n",
    "fig.add_trace(go.Scatter(\n",
    "    x=product_new[\"Export change\"],\n",
    "    y=product_new[\"Product\"],\n",
    "    opacity=0.5,\n",
    "    marker=dict(color=\"crimson\", size=12),\n",
    "    mode=\"markers\",\n",
    "    name=\"Export\",\n",
    "))\n",
    "\n",
    "fig.add_trace(go.Scatter(\n",
    "    x=product_new[\"Import change\"],\n",
    "    y=product_new[\"Product\"],\n",
    "    opacity=0.5,\n",
    "    marker=dict(color=\"gold\", size=12),\n",
    "    mode=\"markers\",\n",
    "    name=\"Import\",\n",
    "))\n",
    "fig.update_layout(\n",
    "    width=600)\n",
    "\n",
    "fig.update_layout(\n",
    "                  xaxis_title=\"Trade volume change ($)\",\n",
    "                  yaxis_title=\"Product\")\n"
   ]
  }
 ],
 "metadata": {
  "interpreter": {
   "hash": "9d272364d79b62684f606616d6bd0931b0e79fea14278e158a233ed96157505c"
  },
  "kernelspec": {
   "display_name": "Python 3.8.8 ('base')",
   "language": "python",
   "name": "python3"
  },
  "language_info": {
   "codemirror_mode": {
    "name": "ipython",
    "version": 3
   },
   "file_extension": ".py",
   "mimetype": "text/x-python",
   "name": "python",
   "nbconvert_exporter": "python",
   "pygments_lexer": "ipython3",
   "version": "3.8.8"
  },
  "orig_nbformat": 4
 },
 "nbformat": 4,
 "nbformat_minor": 2
}
