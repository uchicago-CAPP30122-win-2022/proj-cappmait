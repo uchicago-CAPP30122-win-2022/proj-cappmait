{
 "cells": [
  {
   "cell_type": "code",
   "execution_count": 1,
   "metadata": {},
   "outputs": [],
   "source": [
    "import pandas as pd\n",
    "import os\n",
    "import plotly.express as px"
   ]
  },
  {
   "cell_type": "markdown",
   "metadata": {},
   "source": [
    "# Preparing Data"
   ]
  },
  {
   "cell_type": "code",
   "execution_count": 2,
   "metadata": {},
   "outputs": [],
   "source": [
    "# Concatenate all files\n",
    "\n",
    "def concat_un_comtrade(raw_folder, csv_folder):\n",
    "    '''\n",
    "    concat un comtrade\n",
    "    '''\n",
    "    df = pd.DataFrame()\n",
    "    dir_list = os.listdir(raw_folder)\n",
    "    for file in dir_list:\n",
    "        path = raw_folder + file\n",
    "        un_comtrade = pd.read_csv(path,\n",
    "                                  usecols = ['yr', 'rtCode', 'rtTitle', \n",
    "                                             'rt3ISO', 'ptCode', 'ptTitle', \n",
    "                                             'pt3ISO', 'cmdCode', \n",
    "                                             'cmdDescE', 'TradeValue'],\n",
    "                                  dtype = {'rtCode': 'str', 'ptCode': 'str', \n",
    "                                           'cmdCode': 'str'})\n",
    "        df = pd.concat([df, un_comtrade])\n",
    "    \n",
    "    # create csv file\n",
    "    filename = csv_folder + \"un_comtrade_top30\" + \".csv\"\n",
    "    df.to_csv(filename, index = False)\n",
    "        "
   ]
  },
  {
   "cell_type": "code",
   "execution_count": 3,
   "metadata": {},
   "outputs": [],
   "source": [
    "raw_folder = 'rawdata/uncomtrade/top30/un_comtrade/'\n",
    "csv_folder = 'rawdata/'\n",
    "\n",
    "concat_un_comtrade(raw_folder, csv_folder)"
   ]
  },
  {
   "cell_type": "code",
   "execution_count": 4,
   "metadata": {},
   "outputs": [],
   "source": [
    "# Read all necessary data\n",
    "un_comtrade = pd.read_csv('rawdata/un_comtrade_top30.csv',\n",
    "                                  dtype = {'rtCode': 'str', 'ptCode': 'str', \n",
    "                                           'cmdCode': 'str'})\n",
    "owid_covid = pd.read_csv('rawdata/owid_covid_data.csv',\n",
    "                         usecols = ['iso_code', 'date', 'total_cases', \n",
    "                                    'new_cases', 'stringency_index'])          "
   ]
  },
  {
   "cell_type": "code",
   "execution_count": 5,
   "metadata": {},
   "outputs": [
    {
     "data": {
      "text/html": [
       "<div>\n",
       "<style scoped>\n",
       "    .dataframe tbody tr th:only-of-type {\n",
       "        vertical-align: middle;\n",
       "    }\n",
       "\n",
       "    .dataframe tbody tr th {\n",
       "        vertical-align: top;\n",
       "    }\n",
       "\n",
       "    .dataframe thead th {\n",
       "        text-align: right;\n",
       "    }\n",
       "</style>\n",
       "<table border=\"1\" class=\"dataframe\">\n",
       "  <thead>\n",
       "    <tr style=\"text-align: right;\">\n",
       "      <th></th>\n",
       "      <th>yr</th>\n",
       "      <th>rtCode</th>\n",
       "      <th>rtTitle</th>\n",
       "      <th>rt3ISO</th>\n",
       "      <th>ptCode</th>\n",
       "      <th>ptTitle</th>\n",
       "      <th>pt3ISO</th>\n",
       "      <th>cmdCode</th>\n",
       "      <th>cmdDescE</th>\n",
       "      <th>TradeValue</th>\n",
       "    </tr>\n",
       "  </thead>\n",
       "  <tbody>\n",
       "    <tr>\n",
       "      <th>0</th>\n",
       "      <td>2020</td>\n",
       "      <td>36</td>\n",
       "      <td>Australia</td>\n",
       "      <td>AUS</td>\n",
       "      <td>0</td>\n",
       "      <td>World</td>\n",
       "      <td>WLD</td>\n",
       "      <td>01</td>\n",
       "      <td>Animals; live</td>\n",
       "      <td>1342439314</td>\n",
       "    </tr>\n",
       "    <tr>\n",
       "      <th>1</th>\n",
       "      <td>2020</td>\n",
       "      <td>36</td>\n",
       "      <td>Australia</td>\n",
       "      <td>AUS</td>\n",
       "      <td>32</td>\n",
       "      <td>Argentina</td>\n",
       "      <td>ARG</td>\n",
       "      <td>01</td>\n",
       "      <td>Animals; live</td>\n",
       "      <td>58309</td>\n",
       "    </tr>\n",
       "    <tr>\n",
       "      <th>2</th>\n",
       "      <td>2020</td>\n",
       "      <td>36</td>\n",
       "      <td>Australia</td>\n",
       "      <td>AUS</td>\n",
       "      <td>48</td>\n",
       "      <td>Bahrain</td>\n",
       "      <td>BHR</td>\n",
       "      <td>01</td>\n",
       "      <td>Animals; live</td>\n",
       "      <td>4527</td>\n",
       "    </tr>\n",
       "    <tr>\n",
       "      <th>3</th>\n",
       "      <td>2020</td>\n",
       "      <td>36</td>\n",
       "      <td>Australia</td>\n",
       "      <td>AUS</td>\n",
       "      <td>96</td>\n",
       "      <td>Brunei Darussalam</td>\n",
       "      <td>BRN</td>\n",
       "      <td>01</td>\n",
       "      <td>Animals; live</td>\n",
       "      <td>8423286</td>\n",
       "    </tr>\n",
       "    <tr>\n",
       "      <th>4</th>\n",
       "      <td>2020</td>\n",
       "      <td>36</td>\n",
       "      <td>Australia</td>\n",
       "      <td>AUS</td>\n",
       "      <td>104</td>\n",
       "      <td>Myanmar</td>\n",
       "      <td>MMR</td>\n",
       "      <td>01</td>\n",
       "      <td>Animals; live</td>\n",
       "      <td>311777</td>\n",
       "    </tr>\n",
       "  </tbody>\n",
       "</table>\n",
       "</div>"
      ],
      "text/plain": [
       "     yr rtCode    rtTitle rt3ISO ptCode            ptTitle pt3ISO cmdCode  \\\n",
       "0  2020     36  Australia    AUS      0              World    WLD      01   \n",
       "1  2020     36  Australia    AUS     32          Argentina    ARG      01   \n",
       "2  2020     36  Australia    AUS     48            Bahrain    BHR      01   \n",
       "3  2020     36  Australia    AUS     96  Brunei Darussalam    BRN      01   \n",
       "4  2020     36  Australia    AUS    104            Myanmar    MMR      01   \n",
       "\n",
       "        cmdDescE  TradeValue  \n",
       "0  Animals; live  1342439314  \n",
       "1  Animals; live       58309  \n",
       "2  Animals; live        4527  \n",
       "3  Animals; live     8423286  \n",
       "4  Animals; live      311777  "
      ]
     },
     "execution_count": 5,
     "metadata": {},
     "output_type": "execute_result"
    }
   ],
   "source": [
    "un_comtrade.head()"
   ]
  },
  {
   "cell_type": "markdown",
   "metadata": {},
   "source": [
    "## Clean OWID data"
   ]
  },
  {
   "cell_type": "code",
   "execution_count": 6,
   "metadata": {},
   "outputs": [
    {
     "data": {
      "text/html": [
       "<div>\n",
       "<style scoped>\n",
       "    .dataframe tbody tr th:only-of-type {\n",
       "        vertical-align: middle;\n",
       "    }\n",
       "\n",
       "    .dataframe tbody tr th {\n",
       "        vertical-align: top;\n",
       "    }\n",
       "\n",
       "    .dataframe thead th {\n",
       "        text-align: right;\n",
       "    }\n",
       "</style>\n",
       "<table border=\"1\" class=\"dataframe\">\n",
       "  <thead>\n",
       "    <tr style=\"text-align: right;\">\n",
       "      <th></th>\n",
       "      <th>iso_code</th>\n",
       "      <th>total_cases</th>\n",
       "      <th>new_cases</th>\n",
       "      <th>stringency_index</th>\n",
       "      <th>year</th>\n",
       "    </tr>\n",
       "  </thead>\n",
       "  <tbody>\n",
       "    <tr>\n",
       "      <th>0</th>\n",
       "      <td>AFG</td>\n",
       "      <td>5.0</td>\n",
       "      <td>5.0</td>\n",
       "      <td>8.33</td>\n",
       "      <td>2020</td>\n",
       "    </tr>\n",
       "    <tr>\n",
       "      <th>1</th>\n",
       "      <td>AFG</td>\n",
       "      <td>5.0</td>\n",
       "      <td>0.0</td>\n",
       "      <td>8.33</td>\n",
       "      <td>2020</td>\n",
       "    </tr>\n",
       "    <tr>\n",
       "      <th>2</th>\n",
       "      <td>AFG</td>\n",
       "      <td>5.0</td>\n",
       "      <td>0.0</td>\n",
       "      <td>8.33</td>\n",
       "      <td>2020</td>\n",
       "    </tr>\n",
       "    <tr>\n",
       "      <th>3</th>\n",
       "      <td>AFG</td>\n",
       "      <td>5.0</td>\n",
       "      <td>0.0</td>\n",
       "      <td>8.33</td>\n",
       "      <td>2020</td>\n",
       "    </tr>\n",
       "    <tr>\n",
       "      <th>4</th>\n",
       "      <td>AFG</td>\n",
       "      <td>5.0</td>\n",
       "      <td>0.0</td>\n",
       "      <td>8.33</td>\n",
       "      <td>2020</td>\n",
       "    </tr>\n",
       "  </tbody>\n",
       "</table>\n",
       "</div>"
      ],
      "text/plain": [
       "  iso_code  total_cases  new_cases  stringency_index  year\n",
       "0      AFG          5.0        5.0              8.33  2020\n",
       "1      AFG          5.0        0.0              8.33  2020\n",
       "2      AFG          5.0        0.0              8.33  2020\n",
       "3      AFG          5.0        0.0              8.33  2020\n",
       "4      AFG          5.0        0.0              8.33  2020"
      ]
     },
     "execution_count": 6,
     "metadata": {},
     "output_type": "execute_result"
    }
   ],
   "source": [
    "# Clean owid data\n",
    "owid_covid['year'] = owid_covid['date'].str[:4]\n",
    "owid_covid = owid_covid.loc[:, owid_covid.columns != 'date']\n",
    "owid_covid.head()"
   ]
  },
  {
   "cell_type": "code",
   "execution_count": 7,
   "metadata": {},
   "outputs": [
    {
     "data": {
      "text/html": [
       "<div>\n",
       "<style scoped>\n",
       "    .dataframe tbody tr th:only-of-type {\n",
       "        vertical-align: middle;\n",
       "    }\n",
       "\n",
       "    .dataframe tbody tr th {\n",
       "        vertical-align: top;\n",
       "    }\n",
       "\n",
       "    .dataframe thead th {\n",
       "        text-align: right;\n",
       "    }\n",
       "</style>\n",
       "<table border=\"1\" class=\"dataframe\">\n",
       "  <thead>\n",
       "    <tr style=\"text-align: right;\">\n",
       "      <th></th>\n",
       "      <th>iso_code</th>\n",
       "      <th>year</th>\n",
       "      <th>total_cases</th>\n",
       "      <th>new_cases</th>\n",
       "      <th>stringency_index</th>\n",
       "    </tr>\n",
       "  </thead>\n",
       "  <tbody>\n",
       "    <tr>\n",
       "      <th>0</th>\n",
       "      <td>ABW</td>\n",
       "      <td>2020</td>\n",
       "      <td>5489.0</td>\n",
       "      <td>5489.0</td>\n",
       "      <td>53.860102</td>\n",
       "    </tr>\n",
       "    <tr>\n",
       "      <th>3</th>\n",
       "      <td>AFG</td>\n",
       "      <td>2020</td>\n",
       "      <td>52330.0</td>\n",
       "      <td>52330.0</td>\n",
       "      <td>47.626442</td>\n",
       "    </tr>\n",
       "    <tr>\n",
       "      <th>6</th>\n",
       "      <td>AGO</td>\n",
       "      <td>2020</td>\n",
       "      <td>17553.0</td>\n",
       "      <td>17553.0</td>\n",
       "      <td>73.365645</td>\n",
       "    </tr>\n",
       "    <tr>\n",
       "      <th>9</th>\n",
       "      <td>AIA</td>\n",
       "      <td>2020</td>\n",
       "      <td>13.0</td>\n",
       "      <td>13.0</td>\n",
       "      <td>NaN</td>\n",
       "    </tr>\n",
       "    <tr>\n",
       "      <th>12</th>\n",
       "      <td>ALB</td>\n",
       "      <td>2020</td>\n",
       "      <td>58316.0</td>\n",
       "      <td>58316.0</td>\n",
       "      <td>64.760836</td>\n",
       "    </tr>\n",
       "  </tbody>\n",
       "</table>\n",
       "</div>"
      ],
      "text/plain": [
       "   iso_code  year  total_cases  new_cases  stringency_index\n",
       "0       ABW  2020       5489.0     5489.0         53.860102\n",
       "3       AFG  2020      52330.0    52330.0         47.626442\n",
       "6       AGO  2020      17553.0    17553.0         73.365645\n",
       "9       AIA  2020         13.0       13.0               NaN\n",
       "12      ALB  2020      58316.0    58316.0         64.760836"
      ]
     },
     "execution_count": 7,
     "metadata": {},
     "output_type": "execute_result"
    }
   ],
   "source": [
    "# Group By\n",
    "agg = {'total_cases': 'last', 'new_cases': 'sum', \n",
    "       'stringency_index': 'mean'}\n",
    "grouped = owid_covid.groupby(['iso_code', 'year']).agg(agg) \\\n",
    "          .reset_index()\n",
    "owid_df = grouped[grouped['year'] == '2020']\n",
    "\n",
    "owid_df.head()"
   ]
  },
  {
   "cell_type": "markdown",
   "metadata": {},
   "source": [
    "#### WTO Merchandise Export"
   ]
  },
  {
   "cell_type": "code",
   "execution_count": 8,
   "metadata": {},
   "outputs": [
    {
     "data": {
      "text/html": [
       "<div>\n",
       "<style scoped>\n",
       "    .dataframe tbody tr th:only-of-type {\n",
       "        vertical-align: middle;\n",
       "    }\n",
       "\n",
       "    .dataframe tbody tr th {\n",
       "        vertical-align: top;\n",
       "    }\n",
       "\n",
       "    .dataframe thead th {\n",
       "        text-align: right;\n",
       "    }\n",
       "</style>\n",
       "<table border=\"1\" class=\"dataframe\">\n",
       "  <thead>\n",
       "    <tr style=\"text-align: right;\">\n",
       "      <th></th>\n",
       "      <th>Indicator</th>\n",
       "      <th>ReporterCode</th>\n",
       "      <th>ReporterISO3A</th>\n",
       "      <th>Reporter</th>\n",
       "      <th>ProductCode</th>\n",
       "      <th>Product</th>\n",
       "      <th>Year</th>\n",
       "      <th>Value</th>\n",
       "    </tr>\n",
       "  </thead>\n",
       "  <tbody>\n",
       "    <tr>\n",
       "      <th>12634</th>\n",
       "      <td>Export</td>\n",
       "      <td>662</td>\n",
       "      <td>LCA</td>\n",
       "      <td>Saint Lucia</td>\n",
       "      <td>TO</td>\n",
       "      <td>Total merchandise</td>\n",
       "      <td>2020</td>\n",
       "      <td>55</td>\n",
       "    </tr>\n",
       "    <tr>\n",
       "      <th>12635</th>\n",
       "      <td>Export</td>\n",
       "      <td>276</td>\n",
       "      <td>DEU</td>\n",
       "      <td>Germany</td>\n",
       "      <td>TO</td>\n",
       "      <td>Total merchandise</td>\n",
       "      <td>2020</td>\n",
       "      <td>1380647</td>\n",
       "    </tr>\n",
       "    <tr>\n",
       "      <th>12636</th>\n",
       "      <td>Export</td>\n",
       "      <td>388</td>\n",
       "      <td>JAM</td>\n",
       "      <td>Jamaica</td>\n",
       "      <td>TO</td>\n",
       "      <td>Total merchandise</td>\n",
       "      <td>2020</td>\n",
       "      <td>1219</td>\n",
       "    </tr>\n",
       "    <tr>\n",
       "      <th>12637</th>\n",
       "      <td>Export</td>\n",
       "      <td>LMX</td>\n",
       "      <td>NaN</td>\n",
       "      <td>LDC exporters of manufactures</td>\n",
       "      <td>TO</td>\n",
       "      <td>Total merchandise</td>\n",
       "      <td>2020</td>\n",
       "      <td>55273</td>\n",
       "    </tr>\n",
       "    <tr>\n",
       "      <th>12638</th>\n",
       "      <td>Export</td>\n",
       "      <td>666</td>\n",
       "      <td>SPM</td>\n",
       "      <td>Saint Pierre and Miquelon</td>\n",
       "      <td>TO</td>\n",
       "      <td>Total merchandise</td>\n",
       "      <td>2020</td>\n",
       "      <td>5</td>\n",
       "    </tr>\n",
       "  </tbody>\n",
       "</table>\n",
       "</div>"
      ],
      "text/plain": [
       "      Indicator ReporterCode ReporterISO3A                       Reporter  \\\n",
       "12634    Export          662           LCA                    Saint Lucia   \n",
       "12635    Export          276           DEU                        Germany   \n",
       "12636    Export          388           JAM                        Jamaica   \n",
       "12637    Export          LMX           NaN  LDC exporters of manufactures   \n",
       "12638    Export          666           SPM      Saint Pierre and Miquelon   \n",
       "\n",
       "      ProductCode            Product  Year    Value  \n",
       "12634          TO  Total merchandise  2020       55  \n",
       "12635          TO  Total merchandise  2020  1380647  \n",
       "12636          TO  Total merchandise  2020     1219  \n",
       "12637          TO  Total merchandise  2020    55273  \n",
       "12638          TO  Total merchandise  2020        5  "
      ]
     },
     "execution_count": 8,
     "metadata": {},
     "output_type": "execute_result"
    }
   ],
   "source": [
    "wto_export = pd.read_csv(\"rawdata/merchandise_values_annual_dataset.csv\")\n",
    "wto_export = wto_export[wto_export['Indicator'] == 'Export']\n",
    "wto_export = wto_export[wto_export['ProductCode'] == 'TO']\n",
    "wto_export.head()"
   ]
  },
  {
   "cell_type": "markdown",
   "metadata": {},
   "source": [
    "# Analysis"
   ]
  },
  {
   "cell_type": "markdown",
   "metadata": {},
   "source": [
    "## First Question: Ranking"
   ]
  },
  {
   "cell_type": "markdown",
   "metadata": {},
   "source": [
    "## Filter for top countries"
   ]
  },
  {
   "cell_type": "markdown",
   "metadata": {},
   "source": [
    "We ranked which country performs best or worst during the pandemic"
   ]
  },
  {
   "cell_type": "code",
   "execution_count": 9,
   "metadata": {},
   "outputs": [
    {
     "ename": "ModuleNotFoundError",
     "evalue": "No module named 'get_data'",
     "output_type": "error",
     "traceback": [
      "\u001b[0;31m---------------------------------------------------------------------------\u001b[0m",
      "\u001b[0;31mModuleNotFoundError\u001b[0m                       Traceback (most recent call last)",
      "\u001b[0;32m<ipython-input-9-84eafb14cf44>\u001b[0m in \u001b[0;36m<module>\u001b[0;34m\u001b[0m\n\u001b[0;32m----> 1\u001b[0;31m \u001b[0;32mimport\u001b[0m \u001b[0mget_data\u001b[0m\u001b[0;34m\u001b[0m\u001b[0;34m\u001b[0m\u001b[0m\n\u001b[0m\u001b[1;32m      2\u001b[0m \u001b[0;32mfrom\u001b[0m \u001b[0mIPython\u001b[0m\u001b[0;34m.\u001b[0m\u001b[0mdisplay\u001b[0m \u001b[0;32mimport\u001b[0m \u001b[0mdisplay\u001b[0m\u001b[0;34m\u001b[0m\u001b[0;34m\u001b[0m\u001b[0m\n\u001b[1;32m      3\u001b[0m \u001b[0;34m\u001b[0m\u001b[0m\n\u001b[1;32m      4\u001b[0m \u001b[0mtop30_countries\u001b[0m \u001b[0;34m=\u001b[0m \u001b[0mpd\u001b[0m\u001b[0;34m.\u001b[0m\u001b[0mread_json\u001b[0m\u001b[0;34m(\u001b[0m\u001b[0;34m'rawdata/reporterAreas_top30.json'\u001b[0m\u001b[0;34m)\u001b[0m\u001b[0;34m\u001b[0m\u001b[0;34m\u001b[0m\u001b[0m\n\u001b[1;32m      5\u001b[0m \u001b[0mcountry_list\u001b[0m \u001b[0;34m=\u001b[0m \u001b[0mtop30_countries\u001b[0m\u001b[0;34m[\u001b[0m\u001b[0;34m'text'\u001b[0m\u001b[0;34m]\u001b[0m\u001b[0;34m\u001b[0m\u001b[0;34m\u001b[0m\u001b[0m\n",
      "\u001b[0;31mModuleNotFoundError\u001b[0m: No module named 'get_data'"
     ]
    }
   ],
   "source": [
    "import get_data\n",
    "from IPython.display import display\n",
    "\n",
    "top30_countries = pd.read_json('rawdata/reporterAreas_top30.json')\n",
    "country_list = top30_countries['text']\n",
    "\n",
    "top30_countries['iso3a'] = get_data.find_iso3a(country_list)\n",
    "top30_countries.iloc[5,2] = 'HKG'\n",
    "top30_countries.iloc[16,2] = 'TWG'\n",
    "top30_countries.iloc[18,2] = 'KOR'"
   ]
  },
  {
   "cell_type": "code",
   "execution_count": null,
   "metadata": {},
   "outputs": [],
   "source": [
    "wto_export[wto_export['Reporter'].str.match('taiwan')]"
   ]
  },
  {
   "cell_type": "markdown",
   "metadata": {},
   "source": [
    "Since there is no data about Taiwan in WTO dataset, we omit Taiwan from top30 countries."
   ]
  },
  {
   "cell_type": "code",
   "execution_count": null,
   "metadata": {},
   "outputs": [],
   "source": [
    "top30_countries_wo_taiwan = top30_countries.drop(index = 16)\n",
    "wto_exp_pivoted = wto_export.pivot_table(index = ['ReporterISO3A', 'Reporter'], columns='Year', values='Value')\n",
    "wtoexp_top30_wo_twn = wto_exp_pivoted.loc[top30_countries_wo_taiwan['iso3a']]\n",
    "wtoexp_top30_wo_twn['growth'] = (wtoexp_top30_wo_twn[2020] / wtoexp_top30_wo_twn[2019] - 1) * 100\n",
    "wtoexp_top30_wo_twn_high = wtoexp_top30_wo_twn.sort_values([\"growth\"], ascending= False).head(10)\n",
    "wtoexp_top30_wo_twn_low = wtoexp_top30_wo_twn.sort_values([\"growth\"]).head(10)\n",
    "\n",
    "display(wtoexp_top30_wo_twn_low)\n",
    "display(wtoexp_top30_wo_twn_high)\n"
   ]
  },
  {
   "cell_type": "code",
   "execution_count": null,
   "metadata": {},
   "outputs": [],
   "source": [
    "# Bar Chart\n",
    "wtoexp_top30_wo_twn_low.reset_index(inplace=True)\n",
    "low_bar = px.bar(wtoexp_top30_wo_twn_low, x = \"Reporter\", y = \"growth\")\n",
    "low_bar.show()"
   ]
  },
  {
   "cell_type": "code",
   "execution_count": null,
   "metadata": {},
   "outputs": [],
   "source": [
    "wtoexp_top30_wo_twn_high.reset_index(inplace=True)\n",
    "high_bar = px.bar(wtoexp_top30_wo_twn_high, x = \"Reporter\", y = \"growth\")\n",
    "high_bar.show()"
   ]
  },
  {
   "cell_type": "markdown",
   "metadata": {},
   "source": [
    "## Second Question: Correlation and Linear Regression"
   ]
  },
  {
   "cell_type": "code",
   "execution_count": null,
   "metadata": {},
   "outputs": [],
   "source": []
  },
  {
   "cell_type": "markdown",
   "metadata": {},
   "source": [
    "Covid-19 had a considerable impact to the economy in 2020, particularly in the international trade sector.\n",
    "The following graph compare the trade values for major exporters in the world in 2019 and 2020.\n",
    "We can see, obviously, that most countries was affected by the adverse impact of covid-19 crisis.\n"
   ]
  },
  {
   "cell_type": "markdown",
   "metadata": {},
   "source": [
    "Moreover, if we plot the scatterplot between the number of covid patients and trade value in 2020 for each country"
   ]
  },
  {
   "cell_type": "markdown",
   "metadata": {},
   "source": [
    "Furthermore, the government policy during the pandemic (i.e. lockdown) is one of the key source of decrease in trade values. \n",
    "The government policy caused some firms to be temporarily shut down, while many employees have to work at their home as much as possible.\n",
    "As a result, the export sector encountered labor shortages in every process, from manufacturing to logistics. Sometimes, we called as a supply-chain crisis.\n",
    "That means many economic activities had to suspend. \n",
    "\n",
    "The University of Oxford released the stringency index, which measures the level of \"tightening\" in the government policies during the pandemic.\n",
    "We hypothesised that if countries imposed policies more tighter, the level of export values value should lower as the business activities had to temporarily shut down."
   ]
  },
  {
   "cell_type": "code",
   "execution_count": null,
   "metadata": {},
   "outputs": [],
   "source": [
    "# Set up the data for this question\n",
    "owid_df = \n",
    "comtrade_df = "
   ]
  },
  {
   "cell_type": "markdown",
   "metadata": {},
   "source": [
    "### Set up OWID "
   ]
  },
  {
   "cell_type": "code",
   "execution_count": null,
   "metadata": {},
   "outputs": [],
   "source": [
    "un_comtrade.head()\n"
   ]
  },
  {
   "cell_type": "code",
   "execution_count": null,
   "metadata": {},
   "outputs": [],
   "source": [
    "# Group By\n",
    "\n",
    "agg = {'total_cases': 'last', 'new_cases': 'sum', \n",
    "       'stringency_index': 'mean'}\n",
    "columns = ['yr', 'rtTitle', 'TradeValue']\n",
    "un_q1 = un_comtrade[columns]\n",
    "\n",
    "grouped = un_comtrade.groupby(['rt3ISO', 'yr']).sum().reset_index()\n",
    "un_q1 = grouped[grouped['yr'] == 2020]\n",
    "un_q1.head()\n"
   ]
  },
  {
   "cell_type": "code",
   "execution_count": null,
   "metadata": {},
   "outputs": [],
   "source": [
    "agg = {'total_cases': 'last', 'new_cases': 'sum', \n",
    "       'stringency_index': 'mean'}\n",
    "columns = ['yr', 'rtTitle', 'TradeValue']\n",
    "un_q1_2 = un_comtrade[columns]\n",
    "\n",
    "un_q1_2_df = un_q1_2.groupby(['rt3ISO', 'yr']).sum().unstack()\n",
    "un_q1_2_df['growth'] = un_q1_2_df['2020'] / un_q1_2_df['2019'] - 1 * 100\n",
    "\n",
    "un_q1_2_df.head()"
   ]
  },
  {
   "cell_type": "code",
   "execution_count": null,
   "metadata": {},
   "outputs": [],
   "source": [
    "owid_df.head()"
   ]
  },
  {
   "cell_type": "code",
   "execution_count": null,
   "metadata": {},
   "outputs": [],
   "source": [
    "q1_df = un_q1.merge(owid_df, how='inner', left_on = 'rt3ISO', right_on = 'iso_code')"
   ]
  },
  {
   "cell_type": "code",
   "execution_count": null,
   "metadata": {},
   "outputs": [],
   "source": [
    "q1_df.shape"
   ]
  },
  {
   "cell_type": "code",
   "execution_count": null,
   "metadata": {},
   "outputs": [],
   "source": [
    "scatter = px.scatter(q1_df, x=\"total_cases\", y=\"TradeValue\", color=\"rt3ISO\",\n",
    "                        size='TradeValue')\n",
    "scatter.show()"
   ]
  },
  {
   "cell_type": "code",
   "execution_count": null,
   "metadata": {},
   "outputs": [],
   "source": [
    "scatter = px.scatter(q1_df, x=\"stringency_index\", y=\"TradeValue\", color=\"rt3ISO\",\n",
    "                        size='TradeValue')\n",
    "scatter.show()"
   ]
  },
  {
   "cell_type": "code",
   "execution_count": null,
   "metadata": {},
   "outputs": [],
   "source": []
  }
 ],
 "metadata": {
  "interpreter": {
   "hash": "916dbcbb3f70747c44a77c7bcd40155683ae19c65e1c03b4aa3499c5328201f1"
  },
  "kernelspec": {
   "display_name": "Python 3.8.5 64-bit",
   "language": "python",
   "name": "python3"
  },
  "language_info": {
   "codemirror_mode": {
    "name": "ipython",
    "version": 3
   },
   "file_extension": ".py",
   "mimetype": "text/x-python",
   "name": "python",
   "nbconvert_exporter": "python",
   "pygments_lexer": "ipython3",
   "version": "3.8.8"
  },
  "orig_nbformat": 4
 },
 "nbformat": 4,
 "nbformat_minor": 2
}
